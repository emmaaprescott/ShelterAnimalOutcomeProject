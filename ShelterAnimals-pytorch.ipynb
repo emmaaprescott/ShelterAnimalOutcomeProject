{
 "cells": [
  {
   "cell_type": "markdown",
   "metadata": {
    "colab_type": "text",
    "id": "2C0MKJaprzeU"
   },
   "source": [
    "[![AnalyticsDojo](https://github.com/rpi-techfundamentals/fall2018-materials/blob/master/fig/final-logo.png?raw=1)](http://rpi.analyticsdojo.com)\n",
    "<center><h1>Pytorch - Revisiting Titanic</h1></center>\n",
    "<center><h3><a href = 'http://rpi.analyticsdojo.com'>rpi.analyticsdojo.com</a></h3></center>\n"
   ]
  },
  {
   "cell_type": "code",
   "execution_count": 25,
   "metadata": {
    "colab": {},
    "colab_type": "code",
    "id": "hvkaBnEZrzeY"
   },
   "outputs": [
    {
     "name": "stdout",
     "output_type": "stream",
     "text": [
      "Requirement already satisfied: torch in /opt/conda/lib/python3.6/site-packages (0.4.1.post2)\n",
      "Requirement already satisfied: torchvision in /opt/conda/lib/python3.6/site-packages (0.2.1)\n",
      "Requirement already satisfied: numpy in /opt/conda/lib/python3.6/site-packages (from torchvision) (1.15.3)\n",
      "Requirement already satisfied: pillow>=4.1.1 in /opt/conda/lib/python3.6/site-packages (from torchvision) (5.2.0)\n",
      "Requirement already satisfied: six in /opt/conda/lib/python3.6/site-packages (from torchvision) (1.11.0)\n"
     ]
    }
   ],
   "source": [
    "!pip install torch torchvision"
   ]
  },
  {
   "cell_type": "code",
   "execution_count": 26,
   "metadata": {
    "colab": {},
    "colab_type": "code",
    "id": "jo_XONekrzep"
   },
   "outputs": [],
   "source": [
    "import numpy as np\n",
    "import pandas as pd\n",
    "import pandas as pd\n",
    "from sklearn import preprocessing\n",
    "\n",
    "train= pd.read_csv('input/train.csv')\n",
    "test = pd.read_csv('input/test.csv')\n",
    "\n"
   ]
  },
  {
   "cell_type": "code",
   "execution_count": 27,
   "metadata": {
    "colab": {},
    "colab_type": "code",
    "id": "csfWKXdlrzev"
   },
   "outputs": [
    {
     "data": {
      "text/html": [
       "<div>\n",
       "<style scoped>\n",
       "    .dataframe tbody tr th:only-of-type {\n",
       "        vertical-align: middle;\n",
       "    }\n",
       "\n",
       "    .dataframe tbody tr th {\n",
       "        vertical-align: top;\n",
       "    }\n",
       "\n",
       "    .dataframe thead th {\n",
       "        text-align: right;\n",
       "    }\n",
       "</style>\n",
       "<table border=\"1\" class=\"dataframe\">\n",
       "  <thead>\n",
       "    <tr style=\"text-align: right;\">\n",
       "      <th></th>\n",
       "      <th>AnimalID</th>\n",
       "      <th>Name</th>\n",
       "      <th>DateTime</th>\n",
       "      <th>OutcomeType</th>\n",
       "      <th>OutcomeSubtype</th>\n",
       "      <th>AnimalType</th>\n",
       "      <th>SexuponOutcome</th>\n",
       "      <th>AgeuponOutcome</th>\n",
       "      <th>Breed</th>\n",
       "      <th>Color</th>\n",
       "    </tr>\n",
       "  </thead>\n",
       "  <tbody>\n",
       "    <tr>\n",
       "      <th>0</th>\n",
       "      <td>A671945</td>\n",
       "      <td>Hambone</td>\n",
       "      <td>2014-02-12 18:22:00</td>\n",
       "      <td>Return_to_owner</td>\n",
       "      <td>NaN</td>\n",
       "      <td>Dog</td>\n",
       "      <td>Neutered Male</td>\n",
       "      <td>1 year</td>\n",
       "      <td>Shetland Sheepdog Mix</td>\n",
       "      <td>Brown/White</td>\n",
       "    </tr>\n",
       "    <tr>\n",
       "      <th>1</th>\n",
       "      <td>A656520</td>\n",
       "      <td>Emily</td>\n",
       "      <td>2013-10-13 12:44:00</td>\n",
       "      <td>Euthanasia</td>\n",
       "      <td>Suffering</td>\n",
       "      <td>Cat</td>\n",
       "      <td>Spayed Female</td>\n",
       "      <td>1 year</td>\n",
       "      <td>Domestic Shorthair Mix</td>\n",
       "      <td>Cream Tabby</td>\n",
       "    </tr>\n",
       "    <tr>\n",
       "      <th>2</th>\n",
       "      <td>A686464</td>\n",
       "      <td>Pearce</td>\n",
       "      <td>2015-01-31 12:28:00</td>\n",
       "      <td>Adoption</td>\n",
       "      <td>Foster</td>\n",
       "      <td>Dog</td>\n",
       "      <td>Neutered Male</td>\n",
       "      <td>2 years</td>\n",
       "      <td>Pit Bull Mix</td>\n",
       "      <td>Blue/White</td>\n",
       "    </tr>\n",
       "    <tr>\n",
       "      <th>3</th>\n",
       "      <td>A683430</td>\n",
       "      <td>NaN</td>\n",
       "      <td>2014-07-11 19:09:00</td>\n",
       "      <td>Transfer</td>\n",
       "      <td>Partner</td>\n",
       "      <td>Cat</td>\n",
       "      <td>Intact Male</td>\n",
       "      <td>3 weeks</td>\n",
       "      <td>Domestic Shorthair Mix</td>\n",
       "      <td>Blue Cream</td>\n",
       "    </tr>\n",
       "    <tr>\n",
       "      <th>4</th>\n",
       "      <td>A667013</td>\n",
       "      <td>NaN</td>\n",
       "      <td>2013-11-15 12:52:00</td>\n",
       "      <td>Transfer</td>\n",
       "      <td>Partner</td>\n",
       "      <td>Dog</td>\n",
       "      <td>Neutered Male</td>\n",
       "      <td>2 years</td>\n",
       "      <td>Lhasa Apso/Miniature Poodle</td>\n",
       "      <td>Tan</td>\n",
       "    </tr>\n",
       "  </tbody>\n",
       "</table>\n",
       "</div>"
      ],
      "text/plain": [
       "  AnimalID     Name             DateTime      OutcomeType OutcomeSubtype  \\\n",
       "0  A671945  Hambone  2014-02-12 18:22:00  Return_to_owner            NaN   \n",
       "1  A656520    Emily  2013-10-13 12:44:00       Euthanasia      Suffering   \n",
       "2  A686464   Pearce  2015-01-31 12:28:00         Adoption         Foster   \n",
       "3  A683430      NaN  2014-07-11 19:09:00         Transfer        Partner   \n",
       "4  A667013      NaN  2013-11-15 12:52:00         Transfer        Partner   \n",
       "\n",
       "  AnimalType SexuponOutcome AgeuponOutcome                        Breed  \\\n",
       "0        Dog  Neutered Male         1 year        Shetland Sheepdog Mix   \n",
       "1        Cat  Spayed Female         1 year       Domestic Shorthair Mix   \n",
       "2        Dog  Neutered Male        2 years                 Pit Bull Mix   \n",
       "3        Cat    Intact Male        3 weeks       Domestic Shorthair Mix   \n",
       "4        Dog  Neutered Male        2 years  Lhasa Apso/Miniature Poodle   \n",
       "\n",
       "         Color  \n",
       "0  Brown/White  \n",
       "1  Cream Tabby  \n",
       "2   Blue/White  \n",
       "3   Blue Cream  \n",
       "4          Tan  "
      ]
     },
     "execution_count": 27,
     "metadata": {},
     "output_type": "execute_result"
    }
   ],
   "source": [
    "#Print to standard output, and see the results in the \"log\" section below after running your script\n",
    "train.head()"
   ]
  },
  {
   "cell_type": "code",
   "execution_count": 28,
   "metadata": {},
   "outputs": [],
   "source": [
    "#This replaces the Null Names with the variable \"Nameless\"\n",
    "train.loc[train.Name.isnull(), \"Name\"]='Unnamed'\n",
    "test.loc[test.Name.isnull(), \"Name\"]='Unnamed'\n",
    "\n",
    "#This looks through Name and creates a new column called NameCategory and encodes whether the animal is \"Named\" or \"Unnamed\"\n",
    "# train['NameCategory'] = train.Name.apply(lambda x: 0 if x == 'Unnamed' else 1)\n",
    "# test['NameCategory'] = test.Name.apply(lambda x: 0 if x == 'Unnamed' else 1)\n",
    "train['NameCategory'] = train.Name.apply(lambda x: 0 if x == 'Unnamed' else 1)\n",
    "test['NameCategory'] = test.Name.apply(lambda x: 0 if x == 'Unnamed' else 1)"
   ]
  },
  {
   "cell_type": "code",
   "execution_count": 29,
   "metadata": {},
   "outputs": [],
   "source": [
    "#Evaluate SexuponOutcome\n",
    "train.loc[train.SexuponOutcome.isnull(), \"SexuponOutcome\"]='Unknown'\n",
    "test.loc[test.SexuponOutcome.isnull(), \"SexuponOutcome\"]='Unknown'\n",
    "\n",
    "#Extracts whether animal is Female or Male\n",
    "def clean_sex(x):\n",
    "    if 'Female' in x:\n",
    "        return 0\n",
    "    elif 'Male' in x:\n",
    "        return 1 \n",
    "    else:\n",
    "        return 1\n",
    "train['Sex'] = None #creates \"Sex\" column\n",
    "train['Sex'] = train['SexuponOutcome'].apply(clean_sex)\n",
    "\n",
    "test['Sex'] = None #creates \"Sex\" column\n",
    "test['Sex'] = test['SexuponOutcome'].apply(clean_sex)\n",
    "\n",
    "#Extracts if anmial is fixed or not\n",
    "def clean_fixed(x):\n",
    "    if 'Spay' in x:\n",
    "        return 'Fixed'\n",
    "    elif 'Neuter' in x:\n",
    "        return 'Fixed'\n",
    "    elif 'Intact' in x:\n",
    "        return 'Intact'\n",
    "    else:\n",
    "        return 'Fixed'\n",
    "train['FixedIntact'] = None #creates \"IsFixed\" column\n",
    "train['FixedIntact'] = train['SexuponOutcome'].apply(clean_fixed)\n",
    "\n",
    "test['FixedIntact'] = None #creates \"IsFixed\" column\n",
    "test['FixedIntact'] = test['SexuponOutcome'].apply(clean_fixed)"
   ]
  },
  {
   "cell_type": "code",
   "execution_count": 30,
   "metadata": {
    "colab": {},
    "colab_type": "code",
    "id": "zHasojcprzfD"
   },
   "outputs": [],
   "source": [
    "#Function that converts all AgeuponOutcome to a consistent unit (ie. years) and removes entires with null Ages\n",
    "train.loc[train.AgeuponOutcome.isnull(), 'AgeuponOutcome'] = '0 days'\n",
    "test.loc[test.AgeuponOutcome.isnull(), 'AgeuponOutcome'] = '0 days'\n",
    "\n",
    "#Scales AgeuponOutcome into standard unit of days\n",
    "def scale_dates(x):\n",
    "    if 'year' in x:\n",
    "        return int(x.split(' ')[0])*365\n",
    "    elif 'month' in x:\n",
    "        return int(x.split(' ')[0])*12\n",
    "    elif 'week' in x:\n",
    "        return int(x.split(' ')[0])*7\n",
    "    elif 'day' in x:\n",
    "        return int(x.split(' ')[0])\n",
    "    else:\n",
    "        0\n",
    "        \n",
    "train['AgeinDays'] = 0 #Creates \"AgeinDays\" column\n",
    "train['AgeinDays']=train['AgeuponOutcome'].apply(scale_dates)\n",
    "\n",
    "test['AgeinDays'] = 0 #Creates \"AgeinDays\" column\n",
    "test['AgeinDays']=test['AgeuponOutcome'].apply(scale_dates)\n",
    "\n",
    "#Groups ages into 4 categories - Baby, Young adult, Adult & Senior\n",
    "def category_age(x):\n",
    "    if x <= 365: #less than or equal to 1 year\n",
    "        return 'Baby'\n",
    "    elif 365 < x <= 1095: #greater than 1 year or equal to 3 years\n",
    "        return 'Young adult' \n",
    "    elif 1095 < x <= 1825: #greater than 3 years or equal to 5 years\n",
    "        return 'Adult'\n",
    "    else: # greater than 5 years\n",
    "        return 'Senior'\n",
    "    \n",
    "train['AgeCategory'] = 0 #creates \"AgeCategory\" column\n",
    "train['AgeCategory'] = train['AgeinDays'].apply(category_age)\n",
    "\n",
    "test['AgeCategory'] = 0 #creates \"AgeCategory\" column\n",
    "test['AgeCategory'] = test['AgeinDays'].apply(category_age)"
   ]
  },
  {
   "cell_type": "code",
   "execution_count": 31,
   "metadata": {},
   "outputs": [],
   "source": [
    "import datetime\n",
    "def transform_date(df):\n",
    "    date = pd.to_datetime(df.DateTime)\n",
    "    df['Hour'] = date.dt.hour\n",
    "    df['WeekDay'] = date.dt.weekday\n",
    "    df['Month'] = date.dt.month\n",
    "    df['Year'] = date.dt.year\n",
    "\n",
    "transform_date(train)\n",
    "transform_date(test)\n",
    "\n",
    "#Categorizes months by seasons\n",
    "def category_season(x):\n",
    "    if x == 12: #December\n",
    "        return 'Winter'\n",
    "    elif 1<= x <= 2: #January, Feburary\n",
    "        return 'Winter'\n",
    "    elif 3 <= x <= 5: #March, April, May\n",
    "        return 'Spring'\n",
    "    elif 6 <= x <= 8: #June, July, August\n",
    "        return 'Summer'\n",
    "    else: #September, October, November\n",
    "        return 'Fall'\n",
    "    \n",
    "train['Season'] = None #Creates Season column\n",
    "train['Season'] = train['Month'].apply(category_season)\n",
    "\n",
    "test['Season'] = None #Creates Season column\n",
    "test['Season'] = test['Month'].apply(category_season)"
   ]
  },
  {
   "cell_type": "code",
   "execution_count": 32,
   "metadata": {
    "colab": {},
    "colab_type": "code",
    "id": "in-BH7dOrzfY"
   },
   "outputs": [],
   "source": [
    "#Luckly there are no nulls in Breed, but I included these lines in the off chance there is a null\n",
    "# train.loc[train.Breed.isnull(), 'Breed'] = 'Unknown'\n",
    "# test.loc[test.Breed.isnull(), 'Breed'] = 'Unknown'\n",
    "\n",
    "#Column indicators\n",
    "train['IsMix'] = train['Breed'].apply(lambda x: 1 if 'Mix' in x else 0) #Creates column indicator if animal is defined as \"Mix\"\n",
    "train['IsMultipleBreeds'] = train['Breed'].apply(lambda x: 1 if '/' in x else 0) #Creates column indicator if animal has two breeds listed\n",
    "\n",
    "test['IsMix'] = test['Breed'].apply(lambda x: 1 if 'Mix' in x else 0) #Creates column indicator if animal is defined as \"Mix\"\n",
    "test['IsMultipleBreeds'] = test['Breed'].apply(lambda x: 1 if '/' in x else 0) #Creates column indicator if animal has two breeds listed"
   ]
  },
  {
   "cell_type": "code",
   "execution_count": 33,
   "metadata": {},
   "outputs": [],
   "source": [
    "#Luckly there are no nulls in Color, but I included these lines in the off chance there is a null\n",
    "# train.loc[train.Color.isnull(), 'Color'] = 'Unknown'\n",
    "# test.loc[test.Color.isnull(), 'Color'] = 'Unknown'\n",
    "\n",
    "#Column indicators\n",
    "train['IsMultipleColors'] = train['Color'].apply(lambda x: 1 if '/' in x else 0) #Creates column indicator if animal has more than one color listed\n",
    "test['IsMultipleColors'] = test['Color'].apply(lambda x: 1 if '/' in x else 0) #Creates column indicator if animal has more than one color listed"
   ]
  },
  {
   "cell_type": "code",
   "execution_count": 34,
   "metadata": {},
   "outputs": [],
   "source": [
    "# def category_breed(df):\n",
    "#     df['IsMix'] = df['Breed'].apply(lambda x: 1 if 'Mix' in x else 0)\n",
    "#     breeds = train['Breed'].apply(lambda x: x.split('/'))\n",
    "#     df['Breed1'] = breeds.apply(lambda x: x[0].replace(' Mix', ''))\n",
    "#     df['Breed2'] = breeds.apply(lambda x: x[1] if len(x)>1 else x[0].replace(' Mix', ''))\n",
    "#     df['MultipleBreeds'] = df['Breed'].apply(lambda x: 1 if '/' in x else 0)\n",
    "# category_breed(train)\n",
    "# category_breed(test)"
   ]
  },
  {
   "cell_type": "code",
   "execution_count": 35,
   "metadata": {
    "colab": {},
    "colab_type": "code",
    "id": "BKrtxQ7jtVfq"
   },
   "outputs": [],
   "source": [
    "# #Used to split \n",
    "# def category_color(df):\n",
    "#     color1 = \"\"\n",
    "#     color2 = \"\"\n",
    "#     colors = df['Color'].apply(lambda x: x.split('/'))\n",
    "#     for i in range(len(colors)):\n",
    "#         if len(colors[i]) == 1:\n",
    "#             hit = False\n",
    "#             for j in range(len(colors[i])):\n",
    "#                 for k in range(len(colors[i][j])):\n",
    "#                     if colors[i][j][k] == \" \":\n",
    "#                         hit = True\n",
    "#                         color_split_set = colors[i][j].split()\n",
    "#                         df.loc[i,'Color1'] = color_split_set[0]\n",
    "#                         df.loc[i,'Color2'] = color_split_set[0]\n",
    "#                 if hit == False:\n",
    "#                     df.loc[i,'Color1'] = colors[i][j]\n",
    "#                     df.loc[i,'Color2'] = colors[i][j]\n",
    "#         else:\n",
    "#             hit1 = False\n",
    "#             hit2 = False\n",
    "\n",
    "#             for j in range(len(colors[i])):\n",
    "#                 if j == 0:\n",
    "#                     for k in range(len(colors[i][j])):\n",
    "#                         if colors[i][j][k] == \" \":\n",
    "#                             hit1 = True\n",
    "#                             color_split_set = colors[i][j].split()\n",
    "#                             df.loc[i,'Color1'] = color_split_set[0]\n",
    "                        \n",
    "#                     if hit1 == False:\n",
    "#                         df.loc[i,'Color1'] = colors[i][j]\n",
    "                        \n",
    "#                 else:\n",
    "#                     for k in range(len(colors[i][j])):\n",
    "#                         if colors[i][j][k] == \" \":\n",
    "#                             hit2 = True\n",
    "#                             color_split_set = colors[i][j].split()\n",
    "#                             df.loc[i,'Color2'] = color_split_set[0]\n",
    "#                     if hit2 == False:\n",
    "#                         df.loc[i,'Color2'] = colors[i][j]               \n",
    "# category_color(train)\n",
    "# category_color(test)"
   ]
  },
  {
   "cell_type": "code",
   "execution_count": 53,
   "metadata": {},
   "outputs": [],
   "source": [
    "# from sklearn.preprocessing import LabelEncoder, OneHotEncoder\n",
    "encode = LabelEncoder()\n",
    "train.loc[:,'OutcomeType'] = encode.fit_transform(train['OutcomeType'])"
   ]
  },
  {
   "cell_type": "code",
   "execution_count": 54,
   "metadata": {
    "colab": {},
    "colab_type": "code",
    "id": "rBk3dW7Erzfr"
   },
   "outputs": [
    {
     "data": {
      "text/html": [
       "<div>\n",
       "<style scoped>\n",
       "    .dataframe tbody tr th:only-of-type {\n",
       "        vertical-align: middle;\n",
       "    }\n",
       "\n",
       "    .dataframe tbody tr th {\n",
       "        vertical-align: top;\n",
       "    }\n",
       "\n",
       "    .dataframe thead th {\n",
       "        text-align: right;\n",
       "    }\n",
       "</style>\n",
       "<table border=\"1\" class=\"dataframe\">\n",
       "  <thead>\n",
       "    <tr style=\"text-align: right;\">\n",
       "      <th></th>\n",
       "      <th>OutcomeType</th>\n",
       "      <th>AnimalType</th>\n",
       "      <th>NameCategory</th>\n",
       "      <th>Sex</th>\n",
       "      <th>FixedIntact</th>\n",
       "      <th>AgeinDays</th>\n",
       "      <th>AgeCategory</th>\n",
       "      <th>Hour</th>\n",
       "      <th>WeekDay</th>\n",
       "      <th>Month</th>\n",
       "      <th>Year</th>\n",
       "      <th>Season</th>\n",
       "      <th>IsMix</th>\n",
       "      <th>IsMultipleBreeds</th>\n",
       "      <th>IsMultipleColors</th>\n",
       "    </tr>\n",
       "  </thead>\n",
       "  <tbody>\n",
       "    <tr>\n",
       "      <th>0</th>\n",
       "      <td>3</td>\n",
       "      <td>Dog</td>\n",
       "      <td>1</td>\n",
       "      <td>1</td>\n",
       "      <td>Fixed</td>\n",
       "      <td>365</td>\n",
       "      <td>Baby</td>\n",
       "      <td>18</td>\n",
       "      <td>2</td>\n",
       "      <td>2</td>\n",
       "      <td>2014</td>\n",
       "      <td>Winter</td>\n",
       "      <td>1</td>\n",
       "      <td>0</td>\n",
       "      <td>1</td>\n",
       "    </tr>\n",
       "    <tr>\n",
       "      <th>1</th>\n",
       "      <td>2</td>\n",
       "      <td>Cat</td>\n",
       "      <td>1</td>\n",
       "      <td>0</td>\n",
       "      <td>Fixed</td>\n",
       "      <td>365</td>\n",
       "      <td>Baby</td>\n",
       "      <td>12</td>\n",
       "      <td>6</td>\n",
       "      <td>10</td>\n",
       "      <td>2013</td>\n",
       "      <td>Fall</td>\n",
       "      <td>1</td>\n",
       "      <td>0</td>\n",
       "      <td>0</td>\n",
       "    </tr>\n",
       "    <tr>\n",
       "      <th>2</th>\n",
       "      <td>0</td>\n",
       "      <td>Dog</td>\n",
       "      <td>1</td>\n",
       "      <td>1</td>\n",
       "      <td>Fixed</td>\n",
       "      <td>730</td>\n",
       "      <td>Young adult</td>\n",
       "      <td>12</td>\n",
       "      <td>5</td>\n",
       "      <td>1</td>\n",
       "      <td>2015</td>\n",
       "      <td>Winter</td>\n",
       "      <td>1</td>\n",
       "      <td>0</td>\n",
       "      <td>1</td>\n",
       "    </tr>\n",
       "    <tr>\n",
       "      <th>3</th>\n",
       "      <td>4</td>\n",
       "      <td>Cat</td>\n",
       "      <td>0</td>\n",
       "      <td>1</td>\n",
       "      <td>Intact</td>\n",
       "      <td>21</td>\n",
       "      <td>Baby</td>\n",
       "      <td>19</td>\n",
       "      <td>4</td>\n",
       "      <td>7</td>\n",
       "      <td>2014</td>\n",
       "      <td>Summer</td>\n",
       "      <td>1</td>\n",
       "      <td>0</td>\n",
       "      <td>0</td>\n",
       "    </tr>\n",
       "    <tr>\n",
       "      <th>4</th>\n",
       "      <td>4</td>\n",
       "      <td>Dog</td>\n",
       "      <td>0</td>\n",
       "      <td>1</td>\n",
       "      <td>Fixed</td>\n",
       "      <td>730</td>\n",
       "      <td>Young adult</td>\n",
       "      <td>12</td>\n",
       "      <td>4</td>\n",
       "      <td>11</td>\n",
       "      <td>2013</td>\n",
       "      <td>Fall</td>\n",
       "      <td>0</td>\n",
       "      <td>1</td>\n",
       "      <td>0</td>\n",
       "    </tr>\n",
       "  </tbody>\n",
       "</table>\n",
       "</div>"
      ],
      "text/plain": [
       "   OutcomeType AnimalType  NameCategory  Sex FixedIntact  AgeinDays  \\\n",
       "0            3        Dog             1    1       Fixed        365   \n",
       "1            2        Cat             1    0       Fixed        365   \n",
       "2            0        Dog             1    1       Fixed        730   \n",
       "3            4        Cat             0    1      Intact         21   \n",
       "4            4        Dog             0    1       Fixed        730   \n",
       "\n",
       "   AgeCategory  Hour  WeekDay  Month  Year  Season  IsMix  IsMultipleBreeds  \\\n",
       "0         Baby    18        2      2  2014  Winter      1                 0   \n",
       "1         Baby    12        6     10  2013    Fall      1                 0   \n",
       "2  Young adult    12        5      1  2015  Winter      1                 0   \n",
       "3         Baby    19        4      7  2014  Summer      1                 0   \n",
       "4  Young adult    12        4     11  2013    Fall      0                 1   \n",
       "\n",
       "   IsMultipleColors  \n",
       "0                 1  \n",
       "1                 0  \n",
       "2                 1  \n",
       "3                 0  \n",
       "4                 0  "
      ]
     },
     "execution_count": 54,
     "metadata": {},
     "output_type": "execute_result"
    }
   ],
   "source": [
    "#Drop some colums that won't be modeled. \n",
    "train_min = train.drop(['AnimalID', 'Name', 'SexuponOutcome', 'DateTime', 'OutcomeSubtype', 'AgeuponOutcome', 'Breed', 'Color'], axis = 1)\n",
    "test_min= test.drop(['ID', 'Name', 'DateTime', 'SexuponOutcome', 'AgeuponOutcome', 'Breed', 'Color'], axis = 1)\n",
    "train_min.head()"
   ]
  },
  {
   "cell_type": "code",
   "execution_count": 55,
   "metadata": {
    "colab": {},
    "colab_type": "code",
    "id": "5ULlc2tIrzfw"
   },
   "outputs": [
    {
     "name": "stdout",
     "output_type": "stream",
     "text": [
      "['Dog' 1 0 'Fixed' 730 'Young adult' 17 5 7 2014 'Summer' 0 1 1] ['Cat' 1 0 'Fixed' 365 'Baby' 12 6 10 2013 'Fall' 1 0 0]\n",
      "14 14\n"
     ]
    }
   ],
   "source": [
    "#Adding .values will make whatever comes out into a numpy array. \n",
    "X_train = train_min.iloc[:, 1:15].values\n",
    "Y_train = train_min.iloc[:, 0].values\n",
    "X_test = test_min.iloc[:, 0:14].values\n",
    "\n",
    "print(X_test[1], X_train[1])\n",
    "print(len(X_test[1]), len(X_train[1]))"
   ]
  },
  {
   "cell_type": "code",
   "execution_count": 56,
   "metadata": {
    "colab": {},
    "colab_type": "code",
    "id": "Prh6BINvrzf2"
   },
   "outputs": [
    {
     "data": {
      "text/plain": [
       "(11456, 14)"
      ]
     },
     "execution_count": 56,
     "metadata": {},
     "output_type": "execute_result"
    }
   ],
   "source": [
    "from sklearn.preprocessing import LabelEncoder, OneHotEncoder\n",
    "# Previously we used get dummies (part of pandas)\n",
    "#Here we will first transform string labels to numeric categories. \n",
    "labelencoder_X_1 = LabelEncoder()\n",
    "X_train[:, 0] = labelencoder_X_1.fit_transform(X_train[:, 0]) #AnimalType\n",
    "X_train[:, 3] = labelencoder_X_1.fit_transform(X_train[:, 3]) #Fixed/Intact\n",
    "X_train[:, 5] = labelencoder_X_1.fit_transform(X_train[:, 5]) #AgeCategory\n",
    "X_train[:, 10] = labelencoder_X_1.fit_transform(X_train[:, 10]) #Breed1\n",
    "# X_train[:, 11] = labelencoder_X_1.fit_transform(X_train[:, 11]) #Breed2\n",
    "# X_train[:, 13] = labelencoder_X_1.fit_transform(X_train[:, 13]) #Color1\n",
    "# X_train[:, 14] = labelencoder_X_1.fit_transform(X_train[:, 14]) #Color2\n",
    "\n",
    "labelencoder_X_2 = LabelEncoder()\n",
    "X_test[:, 0] = labelencoder_X_2.fit_transform(X_test[:, 0])\n",
    "X_test[:, 3] = labelencoder_X_2.fit_transform(X_test[:, 3])\n",
    "X_test[:, 5] = labelencoder_X_1.fit_transform(X_test[:, 5]) \n",
    "X_test[:, 10] = labelencoder_X_2.fit_transform(X_test[:, 10])\n",
    "# X_test[:, 11] = labelencoder_X_2.fit_transform(X_test[:, 11])\n",
    "# X_test[:, 13] = labelencoder_X_2.fit_transform(X_test[:, 13])\n",
    "# X_test[:, 14] = labelencoder_X_1.fit_transform(X_test[:, 14])\n",
    "X_test.shape"
   ]
  },
  {
   "cell_type": "code",
   "execution_count": 57,
   "metadata": {
    "colab": {},
    "colab_type": "code",
    "id": "z5E2APF8B8YD"
   },
   "outputs": [
    {
     "name": "stdout",
     "output_type": "stream",
     "text": [
      "0     0\n",
      "1     0\n",
      "2     0\n",
      "3     0\n",
      "4     0\n",
      "5     0\n",
      "6     0\n",
      "7     0\n",
      "8     0\n",
      "9     0\n",
      "10    0\n",
      "11    0\n",
      "12    0\n",
      "13    0\n",
      "dtype: int64\n",
      "0     0\n",
      "1     0\n",
      "2     0\n",
      "3     0\n",
      "4     0\n",
      "5     0\n",
      "6     0\n",
      "7     0\n",
      "8     0\n",
      "9     0\n",
      "10    0\n",
      "11    0\n",
      "12    0\n",
      "13    0\n",
      "dtype: int64\n"
     ]
    }
   ],
   "source": [
    "print(pd.DataFrame(X_test).isna().sum())\n",
    "print(pd.DataFrame(X_test).isna().sum())"
   ]
  },
  {
   "cell_type": "code",
   "execution_count": 58,
   "metadata": {
    "colab": {},
    "colab_type": "code",
    "id": "Ekhh5-pqrzf6"
   },
   "outputs": [],
   "source": [
    "# Converting numeric categories values to one-hot representation\n",
    "one_hot_encoder= OneHotEncoder(categorical_features = [0, 3, 5, 10])\n",
    "X_train = one_hot_encoder.fit_transform(X_train).toarray()\n",
    "X_test = one_hot_encoder.fit_transform(X_test).toarray()\n"
   ]
  },
  {
   "cell_type": "code",
   "execution_count": 59,
   "metadata": {
    "colab": {},
    "colab_type": "code",
    "id": "ikFSfBw4rzf8"
   },
   "outputs": [
    {
     "name": "stdout",
     "output_type": "stream",
     "text": [
      "0 0\n",
      "[1.000e+00 0.000e+00 1.000e+00 0.000e+00 0.000e+00 1.000e+00 0.000e+00\n",
      " 0.000e+00 1.000e+00 0.000e+00 0.000e+00 0.000e+00 1.000e+00 0.000e+00\n",
      " 3.650e+02 1.200e+01 6.000e+00 1.000e+01 2.013e+03 1.000e+00 0.000e+00\n",
      " 0.000e+00]\n"
     ]
    }
   ],
   "source": [
    "#Double check no missing values or values that aren't numeric.\n",
    "print(np.isnan(X_train).sum(),np.isnan(X_test).sum())\n",
    "print(X_train[1])"
   ]
  },
  {
   "cell_type": "code",
   "execution_count": 60,
   "metadata": {
    "colab": {},
    "colab_type": "code",
    "id": "a0Lx7520rzgB"
   },
   "outputs": [],
   "source": [
    "#Split the data\n",
    "from sklearn.model_selection import train_test_split\n",
    "x_train, x_val, y_train, y_val = train_test_split(X_train, Y_train, test_size = 0.2)"
   ]
  },
  {
   "cell_type": "code",
   "execution_count": 61,
   "metadata": {
    "colab": {},
    "colab_type": "code",
    "id": "FOpqZ_zm6O86"
   },
   "outputs": [
    {
     "data": {
      "text/plain": [
       "(5346,)"
      ]
     },
     "execution_count": 61,
     "metadata": {},
     "output_type": "execute_result"
    }
   ],
   "source": [
    "y_val.shape"
   ]
  },
  {
   "cell_type": "code",
   "execution_count": 66,
   "metadata": {
    "colab": {},
    "colab_type": "code",
    "id": "86XL6WyBrzgF"
   },
   "outputs": [],
   "source": [
    "#Define the model \n",
    "import torch\n",
    "import torch.nn as nn\n",
    "import torch.nn.functional as F\n",
    "\n",
    "class Net(nn.Module):\n",
    "    \n",
    "    def __init__(self):\n",
    "        super(Net, self).__init__()\n",
    "        #Note that 17 is the number of columns in the input matrix. \n",
    "        self.fc1 = nn.Linear(22, 50)\n",
    "        #270 is arbitrary, but needs to be consistent.  2 is the number of classes in the output (died/survived)\n",
    "        self.fc2 = nn.Linear(50, 5)\n",
    "        \n",
    "    def forward(self, x):\n",
    "       # x = x.view(x.size(0), -1)\n",
    "        x = self.fc1(x)\n",
    "        x = F.dropout(x, p=0.1)\n",
    "        x = F.relu(x)\n",
    "        x = self.fc2(x)\n",
    "        x = torch.sigmoid(x)  #signmoid flattens to probability 0-1. \n",
    "        return x\n",
    "    \n",
    "net = Net()"
   ]
  },
  {
   "cell_type": "code",
   "execution_count": 67,
   "metadata": {
    "colab": {},
    "colab_type": "code",
    "id": "-wQvuOimv4S_"
   },
   "outputs": [],
   "source": [
    "#Define training\n",
    "batch_size = 50\n",
    "num_epochs = 100\n",
    "learning_rate = 0.01\n",
    "batch_no = len(x_train) // batch_size"
   ]
  },
  {
   "cell_type": "code",
   "execution_count": 68,
   "metadata": {
    "colab": {},
    "colab_type": "code",
    "id": "gSh3Q381v89k"
   },
   "outputs": [],
   "source": [
    "#define loss function and optimizer \n",
    "#Adam is a specific flavor of gradient decent which is typically better\n",
    "optimizer = torch.optim.Adam(net.parameters(), lr=learning_rate)\n",
    "criterion = nn.CrossEntropyLoss()"
   ]
  },
  {
   "cell_type": "code",
   "execution_count": 69,
   "metadata": {
    "colab": {},
    "colab_type": "code",
    "id": "6NSPCky2wEOk"
   },
   "outputs": [
    {
     "name": "stdout",
     "output_type": "stream",
     "text": [
      "Epoch 1 loss:  590.8637751340866\n",
      "Epoch 2 loss:  590.6007400751114\n",
      "Epoch 3 loss:  590.5850187540054\n",
      "Epoch 4 loss:  590.605019569397\n",
      "Epoch 5 loss:  590.5850186347961\n",
      "Epoch 6 loss:  590.6250176429749\n",
      "Epoch 7 loss:  590.6050173044205\n",
      "Epoch 8 loss:  590.6250177621841\n",
      "Epoch 9 loss:  590.5050183534622\n",
      "Epoch 10 loss:  590.625018954277\n",
      "Epoch 11 loss:  590.6250176429749\n",
      "Epoch 12 loss:  590.5450193881989\n",
      "Epoch 13 loss:  590.5650185346603\n",
      "Epoch 14 loss:  590.5650191307068\n",
      "Epoch 15 loss:  590.6050170660019\n",
      "Epoch 16 loss:  590.5250185728073\n",
      "Epoch 17 loss:  590.6050189733505\n",
      "Epoch 18 loss:  590.5650174617767\n",
      "Epoch 19 loss:  590.5650187730789\n",
      "Epoch 20 loss:  590.6050190925598\n",
      "Epoch 21 loss:  590.5650182962418\n",
      "Epoch 22 loss:  590.5850192308426\n",
      "Epoch 23 loss:  590.5650197267532\n",
      "Epoch 24 loss:  590.5850172042847\n",
      "Epoch 25 loss:  590.6050182580948\n",
      "Epoch 26 loss:  590.5650171041489\n",
      "Epoch 27 loss:  590.6250168085098\n",
      "Epoch 28 loss:  590.5813108682632\n",
      "Epoch 29 loss:  590.5650181770325\n",
      "Epoch 30 loss:  590.5850166082382\n",
      "Epoch 31 loss:  590.5850176811218\n",
      "Epoch 32 loss:  590.5650181770325\n",
      "Epoch 33 loss:  590.5850175619125\n",
      "Epoch 34 loss:  590.5850179195404\n",
      "Epoch 35 loss:  590.5850170850754\n",
      "Epoch 36 loss:  590.5850185155869\n",
      "Epoch 37 loss:  590.545018196106\n",
      "Epoch 38 loss:  590.5450167655945\n",
      "Epoch 39 loss:  590.6050169467926\n",
      "Epoch 40 loss:  590.6050192117691\n",
      "Epoch 41 loss:  590.4850170612335\n",
      "Epoch 42 loss:  590.5850174427032\n",
      "Epoch 43 loss:  590.6050183773041\n",
      "Epoch 44 loss:  590.6044976711273\n",
      "Epoch 45 loss:  590.6050179004669\n",
      "Epoch 46 loss:  590.6050176620483\n",
      "Epoch 47 loss:  590.6250174045563\n",
      "Epoch 48 loss:  590.5850180387497\n",
      "Epoch 49 loss:  590.5650187730789\n",
      "Epoch 50 loss:  590.5650178194046\n",
      "Epoch 51 loss:  590.6250184774399\n",
      "Epoch 52 loss:  590.5850179195404\n",
      "Epoch 53 loss:  590.5850186347961\n",
      "Epoch 54 loss:  590.5650172233582\n",
      "Epoch 55 loss:  590.565018415451\n",
      "Epoch 56 loss:  590.5250166654587\n",
      "Epoch 57 loss:  590.585018157959\n",
      "Epoch 58 loss:  590.6050183773041\n",
      "Epoch 59 loss:  590.5850182771683\n",
      "Epoch 60 loss:  590.6050182580948\n",
      "Epoch 61 loss:  590.6050193309784\n",
      "Epoch 62 loss:  590.6050193309784\n",
      "Epoch 63 loss:  590.6250166893005\n",
      "Epoch 64 loss:  590.6050171852112\n",
      "Epoch 65 loss:  590.5850161314011\n",
      "Epoch 66 loss:  590.5850186347961\n",
      "Epoch 67 loss:  590.5650192499161\n",
      "Epoch 68 loss:  590.6050193309784\n",
      "Epoch 69 loss:  590.5850182771683\n",
      "Epoch 70 loss:  590.585018157959\n",
      "Epoch 71 loss:  590.5050191879272\n",
      "Epoch 72 loss:  590.5850192308426\n",
      "Epoch 73 loss:  590.5650180578232\n",
      "Epoch 74 loss:  590.5250170230865\n",
      "Epoch 75 loss:  590.6050181388855\n",
      "Epoch 76 loss:  590.6050190925598\n",
      "Epoch 77 loss:  590.5850175619125\n",
      "Epoch 78 loss:  590.5250185728073\n",
      "Epoch 79 loss:  590.585018157959\n",
      "Epoch 80 loss:  590.5850195884705\n",
      "Epoch 81 loss:  590.5450173616409\n",
      "Epoch 82 loss:  590.5250171422958\n",
      "Epoch 83 loss:  590.5450167655945\n",
      "Epoch 84 loss:  590.5850180387497\n",
      "Epoch 85 loss:  590.6250190734863\n",
      "Epoch 86 loss:  590.5450193881989\n",
      "Epoch 87 loss:  590.5650185346603\n",
      "Epoch 88 loss:  590.5650166273117\n",
      "Epoch 89 loss:  590.5850185155869\n",
      "Epoch 90 loss:  590.6050188541412\n",
      "Epoch 91 loss:  590.5850179195404\n",
      "Epoch 92 loss:  590.6250175237656\n",
      "Epoch 93 loss:  590.6050180196762\n",
      "Epoch 94 loss:  590.6050183773041\n",
      "Epoch 95 loss:  590.5250194072723\n",
      "Epoch 96 loss:  590.5850193500519\n",
      "Epoch 97 loss:  590.6050181388855\n",
      "Epoch 98 loss:  590.5650188922882\n",
      "Epoch 99 loss:  590.6250169277191\n",
      "Epoch 100 loss:  590.605016708374\n"
     ]
    }
   ],
   "source": [
    "from sklearn.utils import shuffle\n",
    "from torch.autograd import Variable\n",
    "running_loss = 0.0\n",
    "for epoch in range(num_epochs):\n",
    "    x_train, y_train = shuffle(x_train, y_train)\n",
    "    # Mini batch learning\n",
    "    for i in range(batch_no):\n",
    "        start = i * batch_size\n",
    "        end = start + batch_size\n",
    "        inputs = Variable(torch.FloatTensor(x_train[start:end]))\n",
    "        labels = Variable(torch.LongTensor(y_train[start:end]))\n",
    "        # zero the parameter gradients\n",
    "        optimizer.zero_grad()\n",
    "\n",
    "        # forward + backward + optimize\n",
    "        outputs = net(inputs)\n",
    "        loss = criterion(outputs, labels)\n",
    "        loss.backward()\n",
    "        optimizer.step()\n",
    "\n",
    "        # print statistics\n",
    "        running_loss += loss.item()\n",
    "        \n",
    "    print('Epoch {}'.format(epoch+1), \"loss: \",running_loss)\n",
    "    running_loss = 0.0"
   ]
  },
  {
   "cell_type": "code",
   "execution_count": 70,
   "metadata": {
    "colab": {},
    "colab_type": "code",
    "id": "mZJJsoA82hka"
   },
   "outputs": [],
   "source": [
    "#This is a little bit tricky to get the resulting prediction.  \n",
    "def calculate_accuracy(x,y=[]):\n",
    "  # Evaluate the model with the test set. \n",
    "  test_var = Variable(torch.FloatTensor(x), requires_grad=True)\n",
    "  with torch.no_grad():   \n",
    "      result = net(test_var) #This outputs the probability for each class.\n",
    "  values, labels = torch.max(result, 1)\n",
    "  if len(y) != 0:\n",
    "      num_right = np.sum(labels.data.numpy() == y)\n",
    "      print('Accuracy {:.2f}'.format(num_right / len(y)), \"for a total of \", len(y), \"records\")\n",
    "  else:\n",
    "      print(\"returning predictions\")\n",
    "      return labels.data.numpy()\n",
    " \n",
    "  \n"
   ]
  },
  {
   "cell_type": "code",
   "execution_count": 71,
   "metadata": {
    "colab": {},
    "colab_type": "code",
    "id": "deLkLRbz7rft"
   },
   "outputs": [
    {
     "name": "stdout",
     "output_type": "stream",
     "text": [
      "Accuracy 0.35 for a total of  21383 records\n",
      "Accuracy 0.35 for a total of  5346 records\n",
      "returning predictions\n"
     ]
    },
    {
     "data": {
      "text/plain": [
       "array([4, 4, 4, ..., 4, 4, 4])"
      ]
     },
     "execution_count": 71,
     "metadata": {},
     "output_type": "execute_result"
    }
   ],
   "source": [
    "# Check out the accuracy. \n",
    "calculate_accuracy(x_train, y_train)\n",
    "calculate_accuracy(x_val, y_val)\n",
    "predictions=calculate_accuracy(X_test)\n",
    "len(predictions)\n",
    "predictions"
   ]
  },
  {
   "cell_type": "code",
   "execution_count": 72,
   "metadata": {
    "colab": {},
    "colab_type": "code",
    "id": "2f8v2vm0rzgK"
   },
   "outputs": [],
   "source": [
    "#Writing to File\n",
    "submission=pd.DataFrame(test.loc[:,['ID']])\n",
    "submission['OutcomeType']=predictions\n",
    "#Any files you save will be available in the output tab below\n",
    "\n",
    "submission.to_csv('Pytorchsubmission.csv', index=False)\n",
    "\n",
    " "
   ]
  },
  {
   "cell_type": "code",
   "execution_count": null,
   "metadata": {
    "colab": {},
    "colab_type": "code",
    "id": "8K_wvlye_FYx"
   },
   "outputs": [],
   "source": [
    "#from google.colab import files\n",
    "#files.download('submission.csv')"
   ]
  },
  {
   "cell_type": "code",
   "execution_count": 73,
   "metadata": {
    "colab": {},
    "colab_type": "code",
    "id": "8fKk89OerzgN"
   },
   "outputs": [
    {
     "name": "stdout",
     "output_type": "stream",
     "text": [
      "Accuracy 0.35\n"
     ]
    }
   ],
   "source": [
    "# Evaluate the model\n",
    "test_var = Variable(torch.FloatTensor(x_val), requires_grad=True)\n",
    "with torch.no_grad():\n",
    "    result = net(test_var)\n",
    "values, labels = torch.max(result, 1)\n",
    "num_right = np.sum(labels.data.numpy() == y_val)\n",
    "print('Accuracy {:.2f}'.format(num_right / len(y_val)))"
   ]
  },
  {
   "cell_type": "code",
   "execution_count": null,
   "metadata": {
    "colab": {},
    "colab_type": "code",
    "id": "mH_nS2AdrzgS"
   },
   "outputs": [],
   "source": []
  },
  {
   "cell_type": "code",
   "execution_count": null,
   "metadata": {
    "colab": {},
    "colab_type": "code",
    "id": "-JVUTGCFrzgU"
   },
   "outputs": [],
   "source": []
  }
 ],
 "metadata": {
  "accelerator": "GPU",
  "colab": {
   "collapsed_sections": [],
   "name": "01-titanic-pytorch.ipynb",
   "provenance": [
    {
     "file_id": "https://github.com/rpi-techfundamentals/fall2018-materials/blob/master/11-deep-learning2/01-titanic-pytorch.ipynb",
     "timestamp": 1543248825013
    }
   ],
   "version": "0.3.2"
  },
  "kernelspec": {
   "display_name": "Python 3",
   "language": "python",
   "name": "python3"
  },
  "language_info": {
   "codemirror_mode": {
    "name": "ipython",
    "version": 3
   },
   "file_extension": ".py",
   "mimetype": "text/x-python",
   "name": "python",
   "nbconvert_exporter": "python",
   "pygments_lexer": "ipython3",
   "version": "3.6.6"
  }
 },
 "nbformat": 4,
 "nbformat_minor": 2
}
