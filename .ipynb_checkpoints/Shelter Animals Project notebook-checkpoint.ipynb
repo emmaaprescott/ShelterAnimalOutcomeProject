{
 "cells": [
  {
   "cell_type": "markdown",
   "metadata": {},
   "source": [
    "# Shelter Animal Outcomes\n",
    "* Get data and examine raw data in datasets\n",
    "* Apply data exploration and initial processing steps\n",
    "* Data analysis and Visualization\n",
    "* Choose model"
   ]
  },
  {
   "cell_type": "markdown",
   "metadata": {},
   "source": [
    "## Get Data"
   ]
  },
  {
   "cell_type": "code",
   "execution_count": 1,
   "metadata": {},
   "outputs": [],
   "source": [
    "import numpy as np\n",
    "import pandas as pd\n",
    "from sklearn import preprocessing\n",
    "train = pd.read_csv('input/train.csv')\n",
    "test = pd.read_csv('input/test.csv')\n",
    "#sample_submission = pd.read_csv('input/sample_submission.csv')"
   ]
  },
  {
   "cell_type": "markdown",
   "metadata": {},
   "source": [
    "## Initial Understanding of Datasets\n",
    "Train dataset:\n",
    "* Contains 26,729 entries\n",
    "* 10 columns -- AnimalID, Name, DateTime, OutcomeType, OutcomeSubtype, AnimalType, SexuponOutcome, AgeuponOutcome, Breed and Color\n",
    "\n",
    "Test dataset:\n",
    "* Contains 11,456 entries\n",
    "* Does not include OutcomeType and OutcomeSubtype\n"
   ]
  },
  {
   "cell_type": "code",
   "execution_count": 2,
   "metadata": {},
   "outputs": [
    {
     "data": {
      "text/html": [
       "<div>\n",
       "<style scoped>\n",
       "    .dataframe tbody tr th:only-of-type {\n",
       "        vertical-align: middle;\n",
       "    }\n",
       "\n",
       "    .dataframe tbody tr th {\n",
       "        vertical-align: top;\n",
       "    }\n",
       "\n",
       "    .dataframe thead th {\n",
       "        text-align: right;\n",
       "    }\n",
       "</style>\n",
       "<table border=\"1\" class=\"dataframe\">\n",
       "  <thead>\n",
       "    <tr style=\"text-align: right;\">\n",
       "      <th></th>\n",
       "      <th>AnimalID</th>\n",
       "      <th>Name</th>\n",
       "      <th>DateTime</th>\n",
       "      <th>OutcomeType</th>\n",
       "      <th>OutcomeSubtype</th>\n",
       "      <th>AnimalType</th>\n",
       "      <th>SexuponOutcome</th>\n",
       "      <th>AgeuponOutcome</th>\n",
       "      <th>Breed</th>\n",
       "      <th>Color</th>\n",
       "    </tr>\n",
       "  </thead>\n",
       "  <tbody>\n",
       "    <tr>\n",
       "      <th>count</th>\n",
       "      <td>26729</td>\n",
       "      <td>19038</td>\n",
       "      <td>26729</td>\n",
       "      <td>26729</td>\n",
       "      <td>13117</td>\n",
       "      <td>26729</td>\n",
       "      <td>26728</td>\n",
       "      <td>26711</td>\n",
       "      <td>26729</td>\n",
       "      <td>26729</td>\n",
       "    </tr>\n",
       "    <tr>\n",
       "      <th>unique</th>\n",
       "      <td>26729</td>\n",
       "      <td>6374</td>\n",
       "      <td>22918</td>\n",
       "      <td>5</td>\n",
       "      <td>16</td>\n",
       "      <td>2</td>\n",
       "      <td>5</td>\n",
       "      <td>44</td>\n",
       "      <td>1380</td>\n",
       "      <td>366</td>\n",
       "    </tr>\n",
       "    <tr>\n",
       "      <th>top</th>\n",
       "      <td>A670895</td>\n",
       "      <td>Max</td>\n",
       "      <td>2015-08-11 00:00:00</td>\n",
       "      <td>Adoption</td>\n",
       "      <td>Partner</td>\n",
       "      <td>Dog</td>\n",
       "      <td>Neutered Male</td>\n",
       "      <td>1 year</td>\n",
       "      <td>Domestic Shorthair Mix</td>\n",
       "      <td>Black/White</td>\n",
       "    </tr>\n",
       "    <tr>\n",
       "      <th>freq</th>\n",
       "      <td>1</td>\n",
       "      <td>136</td>\n",
       "      <td>19</td>\n",
       "      <td>10769</td>\n",
       "      <td>7816</td>\n",
       "      <td>15595</td>\n",
       "      <td>9779</td>\n",
       "      <td>3969</td>\n",
       "      <td>8810</td>\n",
       "      <td>2824</td>\n",
       "    </tr>\n",
       "  </tbody>\n",
       "</table>\n",
       "</div>"
      ],
      "text/plain": [
       "       AnimalID   Name             DateTime OutcomeType OutcomeSubtype  \\\n",
       "count     26729  19038                26729       26729          13117   \n",
       "unique    26729   6374                22918           5             16   \n",
       "top     A670895    Max  2015-08-11 00:00:00    Adoption        Partner   \n",
       "freq          1    136                   19       10769           7816   \n",
       "\n",
       "       AnimalType SexuponOutcome AgeuponOutcome                   Breed  \\\n",
       "count       26729          26728          26711                   26729   \n",
       "unique          2              5             44                    1380   \n",
       "top           Dog  Neutered Male         1 year  Domestic Shorthair Mix   \n",
       "freq        15595           9779           3969                    8810   \n",
       "\n",
       "              Color  \n",
       "count         26729  \n",
       "unique          366  \n",
       "top     Black/White  \n",
       "freq           2824  "
      ]
     },
     "execution_count": 2,
     "metadata": {},
     "output_type": "execute_result"
    }
   ],
   "source": [
    "#You can un-comment the necessary lines to gain more insight into the data\n",
    "#train.head()\n",
    "#train.info()\n",
    "train.describe()"
   ]
  },
  {
   "cell_type": "code",
   "execution_count": 3,
   "metadata": {},
   "outputs": [
    {
     "data": {
      "text/html": [
       "<div>\n",
       "<style scoped>\n",
       "    .dataframe tbody tr th:only-of-type {\n",
       "        vertical-align: middle;\n",
       "    }\n",
       "\n",
       "    .dataframe tbody tr th {\n",
       "        vertical-align: top;\n",
       "    }\n",
       "\n",
       "    .dataframe thead th {\n",
       "        text-align: right;\n",
       "    }\n",
       "</style>\n",
       "<table border=\"1\" class=\"dataframe\">\n",
       "  <thead>\n",
       "    <tr style=\"text-align: right;\">\n",
       "      <th></th>\n",
       "      <th>ID</th>\n",
       "      <th>Name</th>\n",
       "      <th>DateTime</th>\n",
       "      <th>AnimalType</th>\n",
       "      <th>SexuponOutcome</th>\n",
       "      <th>AgeuponOutcome</th>\n",
       "      <th>Breed</th>\n",
       "      <th>Color</th>\n",
       "    </tr>\n",
       "  </thead>\n",
       "  <tbody>\n",
       "    <tr>\n",
       "      <th>0</th>\n",
       "      <td>1</td>\n",
       "      <td>Summer</td>\n",
       "      <td>2015-10-12 12:15:00</td>\n",
       "      <td>Dog</td>\n",
       "      <td>Intact Female</td>\n",
       "      <td>10 months</td>\n",
       "      <td>Labrador Retriever Mix</td>\n",
       "      <td>Red/White</td>\n",
       "    </tr>\n",
       "    <tr>\n",
       "      <th>1</th>\n",
       "      <td>2</td>\n",
       "      <td>Cheyenne</td>\n",
       "      <td>2014-07-26 17:59:00</td>\n",
       "      <td>Dog</td>\n",
       "      <td>Spayed Female</td>\n",
       "      <td>2 years</td>\n",
       "      <td>German Shepherd/Siberian Husky</td>\n",
       "      <td>Black/Tan</td>\n",
       "    </tr>\n",
       "    <tr>\n",
       "      <th>2</th>\n",
       "      <td>3</td>\n",
       "      <td>Gus</td>\n",
       "      <td>2016-01-13 12:20:00</td>\n",
       "      <td>Cat</td>\n",
       "      <td>Neutered Male</td>\n",
       "      <td>1 year</td>\n",
       "      <td>Domestic Shorthair Mix</td>\n",
       "      <td>Brown Tabby</td>\n",
       "    </tr>\n",
       "    <tr>\n",
       "      <th>3</th>\n",
       "      <td>4</td>\n",
       "      <td>Pongo</td>\n",
       "      <td>2013-12-28 18:12:00</td>\n",
       "      <td>Dog</td>\n",
       "      <td>Intact Male</td>\n",
       "      <td>4 months</td>\n",
       "      <td>Collie Smooth Mix</td>\n",
       "      <td>Tricolor</td>\n",
       "    </tr>\n",
       "    <tr>\n",
       "      <th>4</th>\n",
       "      <td>5</td>\n",
       "      <td>Skooter</td>\n",
       "      <td>2015-09-24 17:59:00</td>\n",
       "      <td>Dog</td>\n",
       "      <td>Neutered Male</td>\n",
       "      <td>2 years</td>\n",
       "      <td>Miniature Poodle Mix</td>\n",
       "      <td>White</td>\n",
       "    </tr>\n",
       "  </tbody>\n",
       "</table>\n",
       "</div>"
      ],
      "text/plain": [
       "   ID      Name             DateTime AnimalType SexuponOutcome AgeuponOutcome  \\\n",
       "0   1    Summer  2015-10-12 12:15:00        Dog  Intact Female      10 months   \n",
       "1   2  Cheyenne  2014-07-26 17:59:00        Dog  Spayed Female        2 years   \n",
       "2   3       Gus  2016-01-13 12:20:00        Cat  Neutered Male         1 year   \n",
       "3   4     Pongo  2013-12-28 18:12:00        Dog    Intact Male       4 months   \n",
       "4   5   Skooter  2015-09-24 17:59:00        Dog  Neutered Male        2 years   \n",
       "\n",
       "                            Breed        Color  \n",
       "0          Labrador Retriever Mix    Red/White  \n",
       "1  German Shepherd/Siberian Husky    Black/Tan  \n",
       "2          Domestic Shorthair Mix  Brown Tabby  \n",
       "3               Collie Smooth Mix     Tricolor  \n",
       "4            Miniature Poodle Mix        White  "
      ]
     },
     "execution_count": 3,
     "metadata": {},
     "output_type": "execute_result"
    }
   ],
   "source": [
    "test.head()"
   ]
  },
  {
   "cell_type": "code",
   "execution_count": 4,
   "metadata": {},
   "outputs": [],
   "source": [
    "#This prints sample_submission -- not really necessay for our analysis or models but it's a good reference before submitting our final code\n",
    "#sample_submission.head()"
   ]
  },
  {
   "cell_type": "markdown",
   "metadata": {},
   "source": [
    "## Data Exploration & Inital Processing"
   ]
  },
  {
   "cell_type": "markdown",
   "metadata": {},
   "source": [
    "### Dealing with Null Values & Create Variable Groups\n",
    "We see there are nulls in Name, OutcomeSubtype, SexuponOutcome and AgeuponOutcome in the train set. And nulls in Name and AgeuponOutcome in the test set. Through further analysis, I chose not to manuplate the OutcomeSubtype null values because they do not have a high significance in our model."
   ]
  },
  {
   "cell_type": "code",
   "execution_count": 5,
   "metadata": {},
   "outputs": [
    {
     "data": {
      "text/plain": [
       "AnimalID              0\n",
       "Name               7691\n",
       "DateTime              0\n",
       "OutcomeType           0\n",
       "OutcomeSubtype    13612\n",
       "AnimalType            0\n",
       "SexuponOutcome        1\n",
       "AgeuponOutcome       18\n",
       "Breed                 0\n",
       "Color                 0\n",
       "dtype: int64"
      ]
     },
     "execution_count": 5,
     "metadata": {},
     "output_type": "execute_result"
    }
   ],
   "source": [
    "#This identifies the number of nulls in the train dataset\n",
    "train.isnull().sum()"
   ]
  },
  {
   "cell_type": "code",
   "execution_count": 6,
   "metadata": {},
   "outputs": [
    {
     "data": {
      "text/plain": [
       "ID                   0\n",
       "Name              3225\n",
       "DateTime             0\n",
       "AnimalType           0\n",
       "SexuponOutcome       0\n",
       "AgeuponOutcome       6\n",
       "Breed                0\n",
       "Color                0\n",
       "dtype: int64"
      ]
     },
     "execution_count": 6,
     "metadata": {},
     "output_type": "execute_result"
    }
   ],
   "source": [
    "#This identifies the number of nulls in the test dataset\n",
    "test.isnull().sum()"
   ]
  },
  {
   "cell_type": "markdown",
   "metadata": {},
   "source": [
    "#### Name\n",
    "Since there are a significant number of entires with missing names, I chose to keep them in the dataset but replace the nulls with a standard variable \"Unnamed.\" This way, I can see if and to what degree an animal's outcome is dependent on if he/she has a name in the shelter."
   ]
  },
  {
   "cell_type": "code",
   "execution_count": 7,
   "metadata": {},
   "outputs": [],
   "source": [
    "#This replaces the Null Names with the variable \"Unnamed\"\n",
    "train.loc[train.Name.isnull(), \"Name\"]='Unnamed'\n",
    "test.loc[test.Name.isnull(), \"Name\"]='Unnamed'"
   ]
  },
  {
   "cell_type": "code",
   "execution_count": 8,
   "metadata": {},
   "outputs": [],
   "source": [
    "#This looks through Name and creates a new column called NameCategory and encodes whether the animal is \"Named\" or \"Unnamed\"\n",
    "train['NameCategory'] = train.Name.apply(lambda x: 'Unnamed' if x == 'Unnamed' else 'Named')\n",
    "test['NameCategory'] = test.Name.apply(lambda x: 'Unnamed' if x == 'Unnamed' else 'Named')"
   ]
  },
  {
   "cell_type": "markdown",
   "metadata": {},
   "source": [
    "#### SexuponOutcome\n",
    "I saw there was only 1 missing entry in the train dataset. However, upon further investigation I saw there is a predefined category called \"Unknown,\" so rather than identifiying the highest occuring Sex, I chose to replace the null with \"Unknown.\""
   ]
  },
  {
   "cell_type": "code",
   "execution_count": 9,
   "metadata": {},
   "outputs": [],
   "source": [
    "#Evaluate SexuponOutcome\n",
    "#pd.value_counts(train.SexuponOutcome)\n",
    "\n",
    "#train[train.SexuponOutcome.isnull()] #Used to identify exactly which row was missing SexuponOutcome\n",
    "train.loc[train.SexuponOutcome.isnull(), \"SexuponOutcome\"]='Unknown'\n",
    "test.loc[test.SexuponOutcome.isnull(), \"SexuponOutcome\"]='Unknown'"
   ]
  },
  {
   "cell_type": "code",
   "execution_count": 10,
   "metadata": {},
   "outputs": [],
   "source": [
    "#Extracts whether animal is Female or Male\n",
    "def clean_sex(x):\n",
    "    if 'Female' in x:\n",
    "        return 'Female'\n",
    "    elif 'Male' in x:\n",
    "        return 'Male' \n",
    "    else:\n",
    "        return 'Unknown'\n",
    "train['Sex'] = None #creates \"Sex\" column\n",
    "train['Sex'] = train['SexuponOutcome'].apply(clean_sex)\n",
    "\n",
    "test['Sex'] = None #creates \"Sex\" column\n",
    "test['Sex'] = test['SexuponOutcome'].apply(clean_sex)"
   ]
  },
  {
   "cell_type": "code",
   "execution_count": 11,
   "metadata": {},
   "outputs": [],
   "source": [
    "#Extracts if anmial is fixed or not\n",
    "def clean_fixed(x):\n",
    "    if 'Spay' in x:\n",
    "        return 'Fixed'\n",
    "    elif 'Neuter' in x:\n",
    "        return 'Fixed'\n",
    "    elif 'Intact' in x:\n",
    "        return 'Intact'\n",
    "    else:\n",
    "        return 'Unknown'\n",
    "train['FixedIntact'] = None #creates \"IsFixed\" column\n",
    "train['FixedIntact'] = train['SexuponOutcome'].apply(clean_fixed)\n",
    "\n",
    "test['FixedIntact'] = None #creates \"IsFixed\" column\n",
    "test['FixedIntact'] = test['SexuponOutcome'].apply(clean_fixed)"
   ]
  },
  {
   "cell_type": "markdown",
   "metadata": {},
   "source": [
    "#### AgeuponOutcome\n",
    "It appears the values in AgeuponOutcome are in different unites - days, weeks, months, years. It's important to convert them to consistant units to better utilize for analysis. I decided to replace null age with the most frequent occuring age, \"1 year\"."
   ]
  },
  {
   "cell_type": "code",
   "execution_count": 12,
   "metadata": {},
   "outputs": [],
   "source": [
    "#Looks for nulls in AgeuponOutcome and replaces it with \"O days\"\n",
    "train.loc[train.AgeuponOutcome.isnull(), 'AgeuponOutcome'] = '1 year'\n",
    "test.loc[test.AgeuponOutcome.isnull(), 'AgeuponOutcome'] = '1 year'"
   ]
  },
  {
   "cell_type": "code",
   "execution_count": 13,
   "metadata": {},
   "outputs": [],
   "source": [
    "#Scales AgeuponOutcome into standard unit of days\n",
    "def scale_ages(x):\n",
    "    if 'year' in x:\n",
    "        return int(x.split(' ')[0])*365\n",
    "    elif 'month' in x:\n",
    "        return int(x.split(' ')[0])*12\n",
    "    elif 'week' in x:\n",
    "        return int(x.split(' ')[0])*7\n",
    "    elif 'day' in x:\n",
    "        return int(x.split(' ')[0])\n",
    "    else:\n",
    "        1\n",
    "        \n",
    "train['AgeinDays'] = 0 #Creates \"AgeinDays\" column\n",
    "train['AgeinDays']=train['AgeuponOutcome'].apply(scale_ages)\n",
    "\n",
    "test['AgeinDays'] = 0 #Creates \"AgeinDays\" column\n",
    "test['AgeinDays']=test['AgeuponOutcome'].apply(scale_ages)"
   ]
  },
  {
   "cell_type": "code",
   "execution_count": 14,
   "metadata": {},
   "outputs": [],
   "source": [
    "#Groups ages into 4 categories - Baby, Young adult, Adult & Senior\n",
    "def category_age(x):\n",
    "    if x <= 365: #less than or equal to 1 year\n",
    "        return 'Baby'\n",
    "    elif 365 < x <= 1095: #greater than 1 year or equal to 3 years\n",
    "        return 'Young adult' \n",
    "    elif 1095 < x <= 1825: #greater than 3 years or equal to 5 years\n",
    "        return 'Adult'\n",
    "    else: # greater than 5 years\n",
    "        return 'Senior'\n",
    "    \n",
    "train['AgeCategory'] = 0 #creates \"AgeCategory\" column\n",
    "train['AgeCategory'] = train['AgeinDays'].apply(category_age)\n",
    "\n",
    "test['AgeCategory'] = 0 #creates \"AgeCategory\" column\n",
    "test['AgeCategory'] = test['AgeinDays'].apply(category_age)"
   ]
  },
  {
   "cell_type": "markdown",
   "metadata": {},
   "source": [
    "#### Extracting DateTime Values\n",
    "I'm interested to see if there are particular days or times when specific outcomes occur."
   ]
  },
  {
   "cell_type": "code",
   "execution_count": 15,
   "metadata": {},
   "outputs": [],
   "source": [
    "#Extracts Hour, Weekday, Month & Year from DateTime\n",
    "import datetime\n",
    "def transform_date(df):\n",
    "    date = pd.to_datetime(df.DateTime)\n",
    "    df['Hour'] = date.dt.hour\n",
    "    df['WeekDay'] = date.dt.weekday #Monday 0, Sunday 6\n",
    "    df['Month'] = date.dt.month\n",
    "\n",
    "transform_date(train)\n",
    "transform_date(test)"
   ]
  },
  {
   "cell_type": "code",
   "execution_count": 16,
   "metadata": {},
   "outputs": [],
   "source": [
    "#Categorizes months by seasons\n",
    "def category_season(x):\n",
    "    if x == 12: #December\n",
    "        return 'Winter'\n",
    "    elif 1<= x <= 2: #January, Feburary\n",
    "        return 'Winter'\n",
    "    elif 3 <= x <= 5: #March, April, May\n",
    "        return 'Spring'\n",
    "    elif 6 <= x <= 8: #June, July, August\n",
    "        return 'Summer'\n",
    "    else: #September, October, November\n",
    "        return 'Fall'\n",
    "    \n",
    "train['Season'] = None #Creates Season column\n",
    "train['Season'] = train['Month'].apply(category_season)\n",
    "\n",
    "test['Season'] = None #Creates Season column\n",
    "test['Season'] = test['Month'].apply(category_season)"
   ]
  },
  {
   "cell_type": "markdown",
   "metadata": {},
   "source": [
    "#### Breed\n",
    "For Breed column, I created two columns as indicators on whether the animal is listed as \"Mix\" and has multiple breed names listed, which is indicated by \"/\". I then created two columns Breed1 and Breed2 to list the various breed names. So, if there is only one breed listed, the same breed name will be listed in both columns, while if the animal is multiple breeds (indicated by /) then one breed name will appear in Breed1 and the other in Breed2. I chose to further consolidate breed types by removing the word \"Mix\" from the breed name. For example, now Pit Bull and Pit Bull Mix will be grouped together as Pit Bull."
   ]
  },
  {
   "cell_type": "code",
   "execution_count": 17,
   "metadata": {},
   "outputs": [],
   "source": [
    "#Luckly there are no nulls in Breed, but I included these lines in the off chance there is a null\n",
    "train.loc[train.Breed.isnull(), 'Breed'] = 'Unknown'\n",
    "test.loc[test.Breed.isnull(), 'Breed'] = 'Unknown'"
   ]
  },
  {
   "cell_type": "code",
   "execution_count": 18,
   "metadata": {},
   "outputs": [],
   "source": [
    "#Column indicators\n",
    "train['IsMix'] = train['Breed'].apply(lambda x: 'Mixed' if 'Mix' in x else 'Pure') #Creates column indicator if animal is defined as \"Mix\"\n",
    "train['IsMultipleBreeds'] = train['Breed'].apply(lambda x: 'Multiple' if '/' in x else 'Pure') #Creates column indicator if animal has two breeds listed\n",
    "\n",
    "test['IsMix'] = test['Breed'].apply(lambda x: 'Mixed' if 'Mix' in x else 'Pure') #Creates column indicator if animal is defined as \"Mix\"\n",
    "test['IsMultipleBreeds'] = test['Breed'].apply(lambda x: 'Multiple' if '/' in x else 'Pure') #Creates column indicator if animal has two breeds listed"
   ]
  },
  {
   "cell_type": "code",
   "execution_count": 19,
   "metadata": {},
   "outputs": [],
   "source": [
    "# #Creates two columns of breed names\n",
    "def clean_breed(df):\n",
    "    breeds = train['Breed'].apply(lambda x: x.split('/')) #splits on the / and creates a list\n",
    "    \n",
    "    #Following lines removes \"Mix\" from the breed name to consolidate breed types (ie. Pit Bull and Pit Bull Mix are now grouped together)\n",
    "    #If only one breed listed (ie. no /), the same breed name will be included in Breed1 and Breed2\n",
    "    #If there are multiple breeds, they'll be different in the two columns\n",
    "    df['Breed1'] = breeds.apply(lambda x: x[0].replace(' Mix', '')) #Enters first breed name\n",
    "    df['Breed2'] = breeds.apply(lambda x: x[1] if len(x)>1 else x[0].replace(' Mix', '')) #If multiple breeds enters second breed name, else enters first breed name\n",
    "\n",
    "    \n",
    "train['Breed1'] = None #Creates Breed1 column\n",
    "train['Breed2'] = None #Creates Breed2 column\n",
    "breeds = clean_breed(train)\n",
    "\n",
    "test['Breed1'] = None #Creates Breed1 column\n",
    "test['Breed1'] = None #Creates Breed2 column\n",
    "clean_breed(test)"
   ]
  },
  {
   "cell_type": "markdown",
   "metadata": {},
   "source": [
    "#### Color\n",
    "For Color, I created a column that identifies if the animal is multiples colors, indicated by \"/\". Additionall I created two columns named Color1 and Color2. If there's only one color listed, I included it in both columns. If there are multiple colors, the first color is in Color1 and the second color is in Color2"
   ]
  },
  {
   "cell_type": "code",
   "execution_count": 20,
   "metadata": {},
   "outputs": [],
   "source": [
    "#Luckly there are no nulls in Color, but I included these lines in the off chance there is a null\n",
    "train.loc[train.Color.isnull(), 'Color'] = 'Unknown'\n",
    "test.loc[test.Color.isnull(), 'Color'] = 'Unknown'"
   ]
  },
  {
   "cell_type": "code",
   "execution_count": 21,
   "metadata": {},
   "outputs": [],
   "source": [
    "#Column indicators\n",
    "train['IsMultipleColors'] = train['Color'].apply(lambda x: 'Multiple' if '/' in x else 'Pure') #Creates column indicator if animal has more than one color listed\n",
    "test['IsMultipleColors'] = test['Color'].apply(lambda x: 'Multiple' if '/' in x else 'Pure') #Creates column indicator if animal has more than one color listed"
   ]
  },
  {
   "cell_type": "code",
   "execution_count": 22,
   "metadata": {},
   "outputs": [],
   "source": [
    "def clean_color(df):\n",
    "    colors = train['Color'].apply(lambda x: x.split('/')) #splits on the / and creates list\n",
    "    df['Color1'] = colors.apply(lambda x: x[0]) #Enters the first color\n",
    "    df['Color2'] = colors.apply(lambda x: x[1] if len(x)>1 else x[0]) #If multiple colors enters second color listed, else enters first color again\n",
    "    \n",
    "train['Color1'] = None #Creates Color1 column\n",
    "train['Color2'] = None #Creates Color2 column\n",
    "clean_color(train)\n",
    "\n",
    "test['Color1'] = None #Creates Color1 column\n",
    "test['Color2'] = None #Creates Color2 column\n",
    "clean_color(test)"
   ]
  },
  {
   "cell_type": "markdown",
   "metadata": {},
   "source": [
    "## Visualizations"
   ]
  },
  {
   "cell_type": "code",
   "execution_count": 23,
   "metadata": {},
   "outputs": [],
   "source": [
    "import seaborn as sns"
   ]
  },
  {
   "cell_type": "code",
   "execution_count": 24,
   "metadata": {},
   "outputs": [
    {
     "data": {
      "image/png": "[encoded data removed]",
      "text/plain": [
       "<Figure size 432x288 with 1 Axes>"
      ]
     },
     "metadata": {},
     "output_type": "display_data"
    }
   ],
   "source": [
    "animal_distribution=sns.countplot(x=train.AnimalType)"
   ]
  },
  {
   "cell_type": "code",
   "execution_count": 25,
   "metadata": {},
   "outputs": [
    {
     "data": {
      "image/png": "[encoded data removed]",
      "text/plain": [
       "<Figure size 432x288 with 1 Axes>"
      ]
     },
     "metadata": {},
     "output_type": "display_data"
    }
   ],
   "source": [
    "outcome_distribution=sns.countplot(x=train.OutcomeType)"
   ]
  },
  {
   "cell_type": "markdown",
   "metadata": {},
   "source": [
    "#### AniamlType by OutcomeType\n",
    "Observations:\n",
    "* Both dogs and cats are more likely to be adopted and transferred overall\n",
    "* Very few animals are euthanized or died overall, but dogs are more likely to be euthanized and cats are more likely to die\n",
    "* Dogs are more likely to be adopted and returned to their owners\n",
    "* Cats are more likely to be transferred"
   ]
  },
  {
   "cell_type": "code",
   "execution_count": 26,
   "metadata": {},
   "outputs": [
    {
     "data": {
      "image/png": "[encoded data removed]",
      "text/plain": [
       "<Figure size 432x288 with 1 Axes>"
      ]
     },
     "metadata": {},
     "output_type": "display_data"
    }
   ],
   "source": [
    "animal_outcome=sns.countplot(x=train.OutcomeType, hue=train.AnimalType)"
   ]
  },
  {
   "cell_type": "markdown",
   "metadata": {},
   "source": [
    "#### OutcomeType by Sex\n",
    "Observations:\n",
    "* Both sexes are likely to be adopted\n",
    "* Males are slightly more likely to be returned to owners, enuthanized, transfered or die over females"
   ]
  },
  {
   "cell_type": "code",
   "execution_count": 27,
   "metadata": {},
   "outputs": [
    {
     "data": {
      "image/png": "[encoded data removed]",
      "text/plain": [
       "<Figure size 432x288 with 1 Axes>"
      ]
     },
     "metadata": {},
     "output_type": "display_data"
    }
   ],
   "source": [
    "outcome_sex= sns.countplot(x=train.OutcomeType, hue=train.Sex)"
   ]
  },
  {
   "cell_type": "markdown",
   "metadata": {},
   "source": [
    "#### OutcomeType by IsFixed\n",
    "Observations:\n",
    "* Fixed animals are significantly more likely to be adopted and returned to owners\n",
    "* Additionally animals that are returned to their owners are more likely to be fixed since most pet owners neuter or spray their pets\n",
    "* Animals that are still Intact or Unknown are more slightly more likely to be transferred, euthanized or die"
   ]
  },
  {
   "cell_type": "code",
   "execution_count": 28,
   "metadata": {},
   "outputs": [
    {
     "data": {
      "image/png": "[encoded data removed]",
      "text/plain": [
       "<Figure size 432x288 with 1 Axes>"
      ]
     },
     "metadata": {},
     "output_type": "display_data"
    }
   ],
   "source": [
    "outcome_fixed= sns.countplot(x=train.OutcomeType, hue=train.FixedIntact)"
   ]
  },
  {
   "cell_type": "markdown",
   "metadata": {},
   "source": [
    "#### OutcomeType by OutcomeSubtype\n",
    "Although I'm not interested in the OutcomeSubtype for my model, I was curious to see how the various OutcomeSubtypes were distributed by OutcomeType.\n",
    "\n",
    "Observations:\n",
    "* Many adoptions occured through fostering or offsite events\n",
    "* Causes of animal deaths in the shelter occured at the vet, enroute, in foster, in kennel, and in surgery. These animals may have died because they had existing conditions (severly injured/sick) prior to being admitted into the shelter which lead to their death\n",
    "* Euthanaisas occured because an animal was aggressive, had behavioral issues, involved in a court investigation, medical reasons, rabies risk, or were suffering\n",
    "* Transferred animals were sent to a partnered facilities or SCRP, which I believe stands for Stray Cat Return Program"
   ]
  },
  {
   "cell_type": "code",
   "execution_count": 29,
   "metadata": {},
   "outputs": [
    {
     "name": "stdout",
     "output_type": "stream",
     "text": [
      "OutcomeType          Adoption   Died  Euthanasia  Transfer\n",
      "OutcomeSubtype                                            \n",
      "Aggressive                NaN    NaN       320.0       NaN\n",
      "At Vet                    NaN    4.0         NaN       NaN\n",
      "Barn                      1.0    NaN         NaN       1.0\n",
      "Behavior                  NaN    NaN        86.0       NaN\n",
      "Court/Investigation       NaN    NaN         6.0       NaN\n",
      "Enroute                   NaN    8.0         NaN       NaN\n",
      "Foster                 1800.0    NaN         NaN       NaN\n",
      "In Foster                 NaN   52.0         NaN       NaN\n",
      "In Kennel                 NaN  114.0         NaN       NaN\n",
      "In Surgery                NaN    3.0         NaN       NaN\n",
      "Medical                   NaN    NaN        66.0       NaN\n",
      "Offsite                 165.0    NaN         NaN       NaN\n",
      "Partner                   NaN    NaN         NaN    7816.0\n",
      "Rabies Risk               NaN    NaN        74.0       NaN\n",
      "SCRP                      NaN    NaN         NaN    1599.0\n",
      "Suffering                 NaN    NaN      1002.0       NaN\n"
     ]
    }
   ],
   "source": [
    "outcome_subtype = pd.pivot_table(train, values=\"AnimalID\", index=\"OutcomeSubtype\", columns=\"OutcomeType\", aggfunc=\"count\")\n",
    "print(outcome_subtype)"
   ]
  },
  {
   "cell_type": "markdown",
   "metadata": {},
   "source": [
    "#### AgeCategory by AnimalType\n",
    "Observations:\n",
    "* There are significantly more baby dogs and cats in the shelter overall\n",
    "* There are more young adult, adult and senior dogs in comparison to cats"
   ]
  },
  {
   "cell_type": "code",
   "execution_count": 30,
   "metadata": {},
   "outputs": [
    {
     "data": {
      "image/png": "[encoded data removed]",
      "text/plain": [
       "<Figure size 432x288 with 1 Axes>"
      ]
     },
     "metadata": {},
     "output_type": "display_data"
    }
   ],
   "source": [
    "animal_age = sns.countplot(x=\"AgeCategory\", hue=\"AnimalType\", data=train)"
   ]
  },
  {
   "cell_type": "code",
   "execution_count": 31,
   "metadata": {},
   "outputs": [
    {
     "name": "stdout",
     "output_type": "stream",
     "text": [
      "OutcomeType          Adoption   Died  Euthanasia  Transfer\n",
      "OutcomeSubtype                                            \n",
      "Aggressive                NaN    NaN       320.0       NaN\n",
      "At Vet                    NaN    4.0         NaN       NaN\n",
      "Barn                      1.0    NaN         NaN       1.0\n",
      "Behavior                  NaN    NaN        86.0       NaN\n",
      "Court/Investigation       NaN    NaN         6.0       NaN\n",
      "Enroute                   NaN    8.0         NaN       NaN\n",
      "Foster                 1800.0    NaN         NaN       NaN\n",
      "In Foster                 NaN   52.0         NaN       NaN\n",
      "In Kennel                 NaN  114.0         NaN       NaN\n",
      "In Surgery                NaN    3.0         NaN       NaN\n",
      "Medical                   NaN    NaN        66.0       NaN\n",
      "Offsite                 165.0    NaN         NaN       NaN\n",
      "Partner                   NaN    NaN         NaN    7816.0\n",
      "Rabies Risk               NaN    NaN        74.0       NaN\n",
      "SCRP                      NaN    NaN         NaN    1599.0\n",
      "Suffering                 NaN    NaN      1002.0       NaN\n"
     ]
    }
   ],
   "source": [
    "outcome_subtype = pd.pivot_table(train, values=\"AnimalID\", index=\"OutcomeSubtype\", columns=\"OutcomeType\", aggfunc=\"count\")\n",
    "print(outcome_subtype)"
   ]
  },
  {
   "cell_type": "markdown",
   "metadata": {},
   "source": [
    "#### AgeCategory by OutcomeType\n",
    "Observations:\n",
    "* Baby animals are more likely to be adopted and transfered overall\n",
    "* Senior animals are more likely to be returned to their owners\n",
    "* Baby, young and senior animals are euthanised more often than adult animals\n",
    "* Baby animals are more likely to die than other ages"
   ]
  },
  {
   "cell_type": "code",
   "execution_count": 32,
   "metadata": {},
   "outputs": [
    {
     "data": {
      "image/png": "[encoded data removed]",
      "text/plain": [
       "<Figure size 432x288 with 1 Axes>"
      ]
     },
     "metadata": {},
     "output_type": "display_data"
    }
   ],
   "source": [
    "outcome_age = sns.countplot(x=\"AgeCategory\", hue=\"OutcomeType\", data=train)"
   ]
  },
  {
   "cell_type": "markdown",
   "metadata": {},
   "source": [
    "#### OutcomeType by Season\n",
    "Observations:\n",
    "* Animals are more likely to adopted in Winter, Fall and Summer\n",
    "* Not as many animals are adopted during the Spring\n",
    "* More animals are transferred in the Fall and Summer compared to the other two seasons\n",
    "* More animals are retued to their owners in the Winter and Fall compared to the other two seasons\n",
    "* More dogs are adopted in the Winter than any other season\n",
    "* More cats are adopted in the Summer than any other season"
   ]
  },
  {
   "cell_type": "code",
   "execution_count": 33,
   "metadata": {},
   "outputs": [
    {
     "data": {
      "image/png": "[encoded data removed]",
      "text/plain": [
       "<Figure size 432x288 with 1 Axes>"
      ]
     },
     "metadata": {},
     "output_type": "display_data"
    }
   ],
   "source": [
    "outcome_season = sns.countplot(x=\"OutcomeType\", hue=\"Season\", data=train)"
   ]
  },
  {
   "cell_type": "code",
   "execution_count": 34,
   "metadata": {},
   "outputs": [
    {
     "name": "stdout",
     "output_type": "stream",
     "text": [
      "Season                      Fall  Spring  Summer  Winter\n",
      "AnimalType OutcomeType                                  \n",
      "Cat        Adoption         1273     443    1481    1075\n",
      "           Died               48      22      60      17\n",
      "           Euthanasia        184     145     230     151\n",
      "           Return_to_owner   139     102     118     141\n",
      "           Transfer         1620    1240    1778     867\n",
      "Dog        Adoption         1689    1314    1455    2039\n",
      "           Died                8      14      13      15\n",
      "           Euthanasia        239     194     187     225\n",
      "           Return_to_owner  1176     980     829    1301\n",
      "           Transfer         1177     827     846    1067\n"
     ]
    }
   ],
   "source": [
    "outcome_seasons = pd.pivot_table(train, values=\"AnimalID\", index=[\"AnimalType\", \"OutcomeType\"], columns=\"Season\",  aggfunc=\"count\")\n",
    "print(outcome_seasons)"
   ]
  },
  {
   "cell_type": "markdown",
   "metadata": {},
   "source": [
    "**** Overall Conclusions ****\n",
    "\n",
    "* Baby animals have significantly higher chance of being adopted or transferred\n",
    "* An animal being neutered/spayed may influence outcome\n",
    "* There's a significant decrease in the number of adoptions in the Spring\n",
    "* Majority of animals are euthanized because they are suffering or have medical conditions (medical/rabies) over having behavioral issues (aggressive, behavior & court)"
   ]
  },
  {
   "cell_type": "markdown",
   "metadata": {},
   "source": [
    "# Baseline/Naive Model\n",
    "With most classification problems, it's necessary to have a baseline model to gain a better understanding on how our model is performing. A baseline model is a simple model which includes the most frequent class. In this situation, it's whether an animal is Adopted."
   ]
  },
  {
   "cell_type": "code",
   "execution_count": 35,
   "metadata": {},
   "outputs": [
    {
     "name": "stdout",
     "output_type": "stream",
     "text": [
      "Adoption           10769\n",
      "Transfer            9422\n",
      "Return_to_owner     4786\n",
      "Euthanasia          1555\n",
      "Died                 197\n",
      "Name: OutcomeType, dtype: int64\n",
      "0.40289573122825395\n"
     ]
    }
   ],
   "source": [
    "#Find most frequent outcome\n",
    "train.OutcomeType.describe() #Looks at OutcomeType column and returns most frequently occuring value and its frequency count\n",
    "n_values = train.OutcomeType.value_counts()\n",
    "print(n_values)\n",
    "proportion = n_values[0] / len(train['OutcomeType'])\n",
    "print(proportion)"
   ]
  },
  {
   "cell_type": "code",
   "execution_count": 36,
   "metadata": {},
   "outputs": [],
   "source": [
    "#Create baseline model where every animal is predicted to be adopted\n",
    "train['PredAllAdopted'] = 'Adoption'"
   ]
  },
  {
   "cell_type": "markdown",
   "metadata": {},
   "source": [
    "# Modeling\n",
    "* Drop unnecessary columns\n",
    "* Create Dummy variables & encode breeds and colors\n",
    "* Split datasets for cross validation\n",
    "* Perform various modeling techniques\n",
    "* Identify relevant independent variables\n",
    "* Perform parameter tuning"
   ]
  },
  {
   "cell_type": "code",
   "execution_count": 37,
   "metadata": {},
   "outputs": [
    {
     "data": {
      "text/plain": [
       "Index(['AnimalType', 'NameCategory', 'Sex', 'FixedIntact', 'AgeinDays',\n",
       "       'AgeCategory', 'Hour', 'WeekDay', 'Month', 'Season', 'IsMix',\n",
       "       'IsMultipleBreeds', 'Breed1', 'Breed2', 'IsMultipleColors', 'Color1',\n",
       "       'Color2'],\n",
       "      dtype='object')"
      ]
     },
     "execution_count": 37,
     "metadata": {},
     "output_type": "execute_result"
    }
   ],
   "source": [
    "from sklearn.preprocessing import LabelEncoder\n",
    "from sklearn.preprocessing import OneHotEncoder\n",
    "from sklearn.metrics import accuracy_score\n",
    "from sklearn import metrics\n",
    "import matplotlib.pyplot as plt\n",
    "\n",
    "#Drop some colums that won't be modeled. \n",
    "train_min = train.copy()\n",
    "test_min = test.copy()\n",
    "train_min = train_min.drop(['AnimalID', 'Name', 'DateTime', 'OutcomeSubtype', 'AgeuponOutcome', 'SexuponOutcome', 'Breed', 'Color'], axis = 1)\n",
    "test_min= test_min.drop(['ID', 'Name', 'DateTime', 'AgeuponOutcome', 'SexuponOutcome', 'Breed', 'Color'], axis = 1)\n",
    "\n",
    "# train_min.columns\n",
    "test_min.columns"
   ]
  },
  {
   "cell_type": "code",
   "execution_count": 38,
   "metadata": {},
   "outputs": [],
   "source": [
    "# Create new variable with necessary columns\n",
    "X_train = train_min.iloc[:, 1:17]\n",
    "Y_naive = train_min.iloc[:, 18]\n",
    "Y_train = train_min.iloc[:, 0]\n",
    "X_test = test_min.iloc[:, 0:16]"
   ]
  },
  {
   "cell_type": "code",
   "execution_count": 39,
   "metadata": {},
   "outputs": [
    {
     "name": "stdout",
     "output_type": "stream",
     "text": [
      "(26729, 30) (11456, 30)\n"
     ]
    }
   ],
   "source": [
    "features = train_min[['AnimalType', 'NameCategory', 'Sex', 'FixedIntact', 'AgeinDays',\n",
    "       'AgeCategory', 'Hour', 'WeekDay', 'Month', 'Season', 'IsMix',\n",
    "       'IsMultipleBreeds', 'IsMultipleColors']]\n",
    "X_train=pd.get_dummies(features)\n",
    "\n",
    "features = test_min[['AnimalType', 'NameCategory', 'Sex', 'FixedIntact', 'AgeinDays',\n",
    "       'AgeCategory', 'Hour', 'WeekDay', 'Month', 'Season', 'IsMix',\n",
    "       'IsMultipleBreeds', 'IsMultipleColors',]]\n",
    "X_test=pd.get_dummies(features)\n",
    "\n",
    "le = preprocessing.LabelEncoder()\n",
    "X_train['Breed1']= le.fit_transform(train['Breed1'])\n",
    "X_test['Breed2']= le.fit_transform(test['Breed2'])\n",
    "\n",
    "X_train['Color1']= le.fit_transform(train['Color1'])\n",
    "X_test['Color2']= le.fit_transform(test['Color2'])\n",
    "\n",
    "# X_train.head()\n",
    "print(X_train.shape, X_test.shape)"
   ]
  },
  {
   "cell_type": "code",
   "execution_count": 40,
   "metadata": {},
   "outputs": [],
   "source": [
    "#Split train and test sets\n",
    "from sklearn.model_selection import train_test_split\n",
    "x_naive_train, x_naive_test, y_naive_train, y_naive_test = train_test_split(X_train, Y_naive, test_size = 0.2, random_state=122)\n",
    "x_train, x_test, y_train, y_test = train_test_split(X_train, Y_train, test_size = 0.2, random_state=122)"
   ]
  },
  {
   "cell_type": "markdown",
   "metadata": {},
   "source": [
    "# Decision Tree Model"
   ]
  },
  {
   "cell_type": "code",
   "execution_count": 41,
   "metadata": {},
   "outputs": [],
   "source": [
    "from sklearn.metrics import confusion_matrix, classification_report\n",
    "from sklearn.tree import DecisionTreeClassifier, export_graphviz\n",
    "dt = DecisionTreeClassifier()"
   ]
  },
  {
   "cell_type": "code",
   "execution_count": 42,
   "metadata": {},
   "outputs": [
    {
     "data": {
      "text/plain": [
       "DecisionTreeClassifier(class_weight=None, criterion='gini', max_depth=None,\n",
       "            max_features=None, max_leaf_nodes=None,\n",
       "            min_impurity_decrease=0.0, min_impurity_split=None,\n",
       "            min_samples_leaf=1, min_samples_split=2,\n",
       "            min_weight_fraction_leaf=0.0, presort=False, random_state=None,\n",
       "            splitter='best')"
      ]
     },
     "execution_count": 42,
     "metadata": {},
     "output_type": "execute_result"
    }
   ],
   "source": [
    "dt.fit(x_naive_train, y_naive_train)\n",
    "dt.fit(x_train, y_train)"
   ]
  },
  {
   "cell_type": "code",
   "execution_count": 43,
   "metadata": {},
   "outputs": [],
   "source": [
    "pred_nx = dt.predict(x_naive_train)\n",
    "pred_ny = dt.predict(x_naive_test)\n",
    "pred_x = dt.predict(x_train)   #This creates the prediction.\n",
    "pred_y = dt.predict(x_test)"
   ]
  },
  {
   "cell_type": "code",
   "execution_count": 44,
   "metadata": {},
   "outputs": [
    {
     "name": "stdout",
     "output_type": "stream",
     "text": [
      "Decision Tree Naive Accuracy 0.40232895290651455\n",
      "Decision Tree Naive Accuracy 0.3948746726524504\n",
      "Decision Tree Train Accuracy 0.9987373146892391\n",
      "Decision Tree Test Accuracy 0.5967078189300411\n"
     ]
    }
   ],
   "source": [
    "#Accuracy\n",
    "print('Decision Tree Naive Accuracy', accuracy_score(y_naive_train, pred_nx))\n",
    "print('Decision Tree Naive Accuracy', accuracy_score(y_naive_test, pred_ny))\n",
    "\n",
    "print('Decision Tree Train Accuracy', accuracy_score(y_train, pred_x))\n",
    "print('Decision Tree Test Accuracy', accuracy_score(y_test, pred_y))"
   ]
  },
  {
   "cell_type": "code",
   "execution_count": 45,
   "metadata": {},
   "outputs": [
    {
     "data": {
      "text/html": [
       "<div>\n",
       "<style scoped>\n",
       "    .dataframe tbody tr th:only-of-type {\n",
       "        vertical-align: middle;\n",
       "    }\n",
       "\n",
       "    .dataframe tbody tr th {\n",
       "        vertical-align: top;\n",
       "    }\n",
       "\n",
       "    .dataframe thead th {\n",
       "        text-align: right;\n",
       "    }\n",
       "</style>\n",
       "<table border=\"1\" class=\"dataframe\">\n",
       "  <thead>\n",
       "    <tr style=\"text-align: right;\">\n",
       "      <th></th>\n",
       "      <th>Variables</th>\n",
       "      <th>Importance</th>\n",
       "    </tr>\n",
       "  </thead>\n",
       "  <tbody>\n",
       "    <tr>\n",
       "      <th>11</th>\n",
       "      <td>FixedIntact_Fixed</td>\n",
       "      <td>0.174739</td>\n",
       "    </tr>\n",
       "    <tr>\n",
       "      <th>0</th>\n",
       "      <td>AgeinDays</td>\n",
       "      <td>0.143193</td>\n",
       "    </tr>\n",
       "    <tr>\n",
       "      <th>1</th>\n",
       "      <td>Hour</td>\n",
       "      <td>0.112153</td>\n",
       "    </tr>\n",
       "    <tr>\n",
       "      <th>28</th>\n",
       "      <td>Breed1</td>\n",
       "      <td>0.106072</td>\n",
       "    </tr>\n",
       "    <tr>\n",
       "      <th>29</th>\n",
       "      <td>Color1</td>\n",
       "      <td>0.093572</td>\n",
       "    </tr>\n",
       "    <tr>\n",
       "      <th>2</th>\n",
       "      <td>WeekDay</td>\n",
       "      <td>0.082339</td>\n",
       "    </tr>\n",
       "    <tr>\n",
       "      <th>3</th>\n",
       "      <td>Month</td>\n",
       "      <td>0.077626</td>\n",
       "    </tr>\n",
       "    <tr>\n",
       "      <th>6</th>\n",
       "      <td>NameCategory_Named</td>\n",
       "      <td>0.022968</td>\n",
       "    </tr>\n",
       "    <tr>\n",
       "      <th>26</th>\n",
       "      <td>IsMultipleColors_Multiple</td>\n",
       "      <td>0.015483</td>\n",
       "    </tr>\n",
       "    <tr>\n",
       "      <th>8</th>\n",
       "      <td>Sex_Female</td>\n",
       "      <td>0.015025</td>\n",
       "    </tr>\n",
       "    <tr>\n",
       "      <th>9</th>\n",
       "      <td>Sex_Male</td>\n",
       "      <td>0.015003</td>\n",
       "    </tr>\n",
       "    <tr>\n",
       "      <th>20</th>\n",
       "      <td>Season_Summer</td>\n",
       "      <td>0.014442</td>\n",
       "    </tr>\n",
       "    <tr>\n",
       "      <th>27</th>\n",
       "      <td>IsMultipleColors_Pure</td>\n",
       "      <td>0.014006</td>\n",
       "    </tr>\n",
       "    <tr>\n",
       "      <th>5</th>\n",
       "      <td>AnimalType_Dog</td>\n",
       "      <td>0.012931</td>\n",
       "    </tr>\n",
       "    <tr>\n",
       "      <th>21</th>\n",
       "      <td>Season_Winter</td>\n",
       "      <td>0.012408</td>\n",
       "    </tr>\n",
       "    <tr>\n",
       "      <th>19</th>\n",
       "      <td>Season_Spring</td>\n",
       "      <td>0.011023</td>\n",
       "    </tr>\n",
       "    <tr>\n",
       "      <th>18</th>\n",
       "      <td>Season_Fall</td>\n",
       "      <td>0.011012</td>\n",
       "    </tr>\n",
       "    <tr>\n",
       "      <th>4</th>\n",
       "      <td>AnimalType_Cat</td>\n",
       "      <td>0.009896</td>\n",
       "    </tr>\n",
       "    <tr>\n",
       "      <th>7</th>\n",
       "      <td>NameCategory_Unnamed</td>\n",
       "      <td>0.008093</td>\n",
       "    </tr>\n",
       "    <tr>\n",
       "      <th>22</th>\n",
       "      <td>IsMix_Mixed</td>\n",
       "      <td>0.007686</td>\n",
       "    </tr>\n",
       "    <tr>\n",
       "      <th>23</th>\n",
       "      <td>IsMix_Pure</td>\n",
       "      <td>0.006783</td>\n",
       "    </tr>\n",
       "    <tr>\n",
       "      <th>25</th>\n",
       "      <td>IsMultipleBreeds_Pure</td>\n",
       "      <td>0.006640</td>\n",
       "    </tr>\n",
       "    <tr>\n",
       "      <th>24</th>\n",
       "      <td>IsMultipleBreeds_Multiple</td>\n",
       "      <td>0.006137</td>\n",
       "    </tr>\n",
       "    <tr>\n",
       "      <th>17</th>\n",
       "      <td>AgeCategory_Young adult</td>\n",
       "      <td>0.005427</td>\n",
       "    </tr>\n",
       "    <tr>\n",
       "      <th>14</th>\n",
       "      <td>AgeCategory_Adult</td>\n",
       "      <td>0.005254</td>\n",
       "    </tr>\n",
       "    <tr>\n",
       "      <th>15</th>\n",
       "      <td>AgeCategory_Baby</td>\n",
       "      <td>0.004752</td>\n",
       "    </tr>\n",
       "    <tr>\n",
       "      <th>16</th>\n",
       "      <td>AgeCategory_Senior</td>\n",
       "      <td>0.002936</td>\n",
       "    </tr>\n",
       "    <tr>\n",
       "      <th>13</th>\n",
       "      <td>FixedIntact_Unknown</td>\n",
       "      <td>0.001174</td>\n",
       "    </tr>\n",
       "    <tr>\n",
       "      <th>12</th>\n",
       "      <td>FixedIntact_Intact</td>\n",
       "      <td>0.000651</td>\n",
       "    </tr>\n",
       "    <tr>\n",
       "      <th>10</th>\n",
       "      <td>Sex_Unknown</td>\n",
       "      <td>0.000575</td>\n",
       "    </tr>\n",
       "  </tbody>\n",
       "</table>\n",
       "</div>"
      ],
      "text/plain": [
       "                    Variables  Importance\n",
       "11          FixedIntact_Fixed    0.174739\n",
       "0                   AgeinDays    0.143193\n",
       "1                        Hour    0.112153\n",
       "28                     Breed1    0.106072\n",
       "29                     Color1    0.093572\n",
       "2                     WeekDay    0.082339\n",
       "3                       Month    0.077626\n",
       "6          NameCategory_Named    0.022968\n",
       "26  IsMultipleColors_Multiple    0.015483\n",
       "8                  Sex_Female    0.015025\n",
       "9                    Sex_Male    0.015003\n",
       "20              Season_Summer    0.014442\n",
       "27      IsMultipleColors_Pure    0.014006\n",
       "5              AnimalType_Dog    0.012931\n",
       "21              Season_Winter    0.012408\n",
       "19              Season_Spring    0.011023\n",
       "18                Season_Fall    0.011012\n",
       "4              AnimalType_Cat    0.009896\n",
       "7        NameCategory_Unnamed    0.008093\n",
       "22                IsMix_Mixed    0.007686\n",
       "23                 IsMix_Pure    0.006783\n",
       "25      IsMultipleBreeds_Pure    0.006640\n",
       "24  IsMultipleBreeds_Multiple    0.006137\n",
       "17    AgeCategory_Young adult    0.005427\n",
       "14          AgeCategory_Adult    0.005254\n",
       "15           AgeCategory_Baby    0.004752\n",
       "16         AgeCategory_Senior    0.002936\n",
       "13        FixedIntact_Unknown    0.001174\n",
       "12         FixedIntact_Intact    0.000651\n",
       "10                Sex_Unknown    0.000575"
      ]
     },
     "execution_count": 45,
     "metadata": {},
     "output_type": "execute_result"
    }
   ],
   "source": [
    "#Variable Importance table\n",
    "variables = x_train.columns\n",
    "importance = dt.feature_importances_\n",
    "feature_importance = pd.DataFrame({'Variables' : variables, 'Importance' : importance})\n",
    "feature_importance.sort_values(by='Importance', ascending=False)"
   ]
  },
  {
   "cell_type": "code",
   "execution_count": 46,
   "metadata": {},
   "outputs": [
    {
     "data": {
      "text/plain": [
       "Text(0,0.5,'Variable Importance Score')"
      ]
     },
     "execution_count": 46,
     "metadata": {},
     "output_type": "execute_result"
    },
    {
     "data": {
      "image/png": "[encoded data removed]",
      "text/plain": [
       "<Figure size 432x288 with 1 Axes>"
      ]
     },
     "metadata": {},
     "output_type": "display_data"
    }
   ],
   "source": [
    "# Graphical represenation of Variable Importance\n",
    "feat_imp = pd.Series(dt.feature_importances_, x_train.columns).sort_values(ascending=False)\n",
    "feat_imp.plot(kind='bar', title='Variable Importances')\n",
    "plt.ylabel('Variable Importance Score')"
   ]
  },
  {
   "cell_type": "markdown",
   "metadata": {},
   "source": [
    "**** Parameter tuning for decision tree ****\n",
    "\n",
    "With the default Decision Tree Parameters, I found evidence of overfitting since the gap between the training and test accuracies was significant. I wanted to examine how the decision model would behave if I adjusted some of the parameters. First I tried tuning the *max_depth*. From the graph below, one can see the model overfits as the number of depths increases. Next I tuned *max_features* and found there is a negligible positive slope of the test accuracy line as the number of *max_features* increase, but there is still significant evidence of overfitting.\n",
    "\n",
    "Code inspired by https://medium.com/@mohtedibf/indepth-parameter-tuning-for-decision-tree-6753118a03c3"
   ]
  },
  {
   "cell_type": "code",
   "execution_count": 47,
   "metadata": {},
   "outputs": [
    {
     "data": {
      "image/png": "[encoded data removed]",
      "text/plain": [
       "<Figure size 432x288 with 1 Axes>"
      ]
     },
     "metadata": {},
     "output_type": "display_data"
    }
   ],
   "source": [
    "#Tune max_depths\n",
    "max_depths = np.linspace(1, 30, 5, endpoint=True)\n",
    "\n",
    "train_results = []\n",
    "test_results = []\n",
    "\n",
    "for i in max_depths:\n",
    "    dt = DecisionTreeClassifier(max_depth=i)\n",
    "    dt.fit(x_train, y_train)\n",
    "    \n",
    "    pred_x = dt.predict(x_train)\n",
    "    acc = accuracy_score(y_train, pred_x)\n",
    "   # Add acc score to previous train results\n",
    "    train_results.append(acc)\n",
    "    \n",
    "    pred_y = dt.predict(x_test)\n",
    "    acc2 = accuracy_score(y_test, pred_y)\n",
    "   # Add acc score to previous test results\n",
    "    test_results.append(acc2)\n",
    "    \n",
    "    \n",
    "import matplotlib.pyplot as plt\n",
    "from matplotlib.legend_handler import HandlerLine2D\n",
    "line1, = plt.plot(max_depths, train_results, 'b', label='Train Accuracy')\n",
    "line2, = plt.plot(max_depths, test_results, 'r', label='Test Accuracy')\n",
    "plt.legend(handler_map={line1: HandlerLine2D(numpoints=2)})\n",
    "plt.ylabel('Accuracy score')\n",
    "plt.xlabel('Tree depth')\n",
    "plt.show()"
   ]
  },
  {
   "cell_type": "code",
   "execution_count": 48,
   "metadata": {},
   "outputs": [
    {
     "data": {
      "image/png": "[encoded data removed]",
      "text/plain": [
       "<Figure size 432x288 with 1 Axes>"
      ]
     },
     "metadata": {},
     "output_type": "display_data"
    }
   ],
   "source": [
    "#Tune max_features\n",
    "max_features = list(range(1,train.shape[1]))\n",
    "\n",
    "train_results = []\n",
    "test_results = []\n",
    "\n",
    "for j in max_features:\n",
    "    dt = DecisionTreeClassifier(max_features = j)\n",
    "    dt.fit(x_train, y_train)\n",
    "    \n",
    "    pred_x = dt.predict(x_train)\n",
    "    acc = accuracy_score(y_train, pred_x)\n",
    "   # Add acc score to previous train results\n",
    "    train_results.append(acc)\n",
    "    \n",
    "    pred_y = dt.predict(x_test)\n",
    "    acc2 = accuracy_score(y_test, pred_y)\n",
    "   # Add acc score to previous test results\n",
    "    test_results.append(acc2)\n",
    "    \n",
    "    \n",
    "from matplotlib.legend_handler import HandlerLine2D\n",
    "line1, = plt.plot(max_features, train_results, 'b', label='Train Accuracy')\n",
    "line2, = plt.plot(max_features, test_results, 'r', label='Test Accuracy')\n",
    "plt.legend(handler_map={line1: HandlerLine2D(numpoints=2)})\n",
    "plt.ylabel('Accuracy score')\n",
    "plt.xlabel('max features')\n",
    "plt.show()"
   ]
  },
  {
   "cell_type": "markdown",
   "metadata": {},
   "source": [
    "# Nearest Neighbor Model"
   ]
  },
  {
   "cell_type": "code",
   "execution_count": 49,
   "metadata": {},
   "outputs": [],
   "source": [
    "from sklearn import metrics\n",
    "import numpy as np\n",
    "from sklearn.neighbors import KNeighborsClassifier\n",
    "NN = KNeighborsClassifier()  #This creates a model object."
   ]
  },
  {
   "cell_type": "code",
   "execution_count": 50,
   "metadata": {},
   "outputs": [
    {
     "data": {
      "text/plain": [
       "KNeighborsClassifier(algorithm='auto', leaf_size=30, metric='minkowski',\n",
       "           metric_params=None, n_jobs=1, n_neighbors=5, p=2,\n",
       "           weights='uniform')"
      ]
     },
     "execution_count": 50,
     "metadata": {},
     "output_type": "execute_result"
    }
   ],
   "source": [
    "NN.fit(x_naive_train, y_naive_train)\n",
    "NN.fit(x_train, y_train)   #This fits the model object to the data."
   ]
  },
  {
   "cell_type": "code",
   "execution_count": 51,
   "metadata": {},
   "outputs": [],
   "source": [
    "pred_nx = NN.predict(x_naive_train)\n",
    "pred_ny = NN.predict(x_naive_test)\n",
    "\n",
    "pred_x = NN.predict(x_train)   #This creates the prediction.\n",
    "pred_y = NN.predict(x_test)"
   ]
  },
  {
   "cell_type": "code",
   "execution_count": 52,
   "metadata": {},
   "outputs": [
    {
     "name": "stdout",
     "output_type": "stream",
     "text": [
      "KNN Naive Accuracy 0.5046999953233877\n",
      "KNN Naive Accuracy 0.5071081182192293\n",
      "KNN Train Accuracy 0.6881167282420615\n",
      "KNN Test Accuracy 0.5557426112981668\n"
     ]
    }
   ],
   "source": [
    "#This calculates the accuracy.\n",
    "print('KNN Naive Accuracy', accuracy_score(y_naive_train, pred_nx))\n",
    "print('KNN Naive Accuracy', accuracy_score(y_naive_test, pred_ny))\n",
    "\n",
    "print('KNN Train Accuracy', accuracy_score(y_train, pred_x))\n",
    "print('KNN Test Accuracy', accuracy_score(y_test, pred_y))"
   ]
  },
  {
   "cell_type": "markdown",
   "metadata": {},
   "source": [
    "# Logistic Regression Model"
   ]
  },
  {
   "cell_type": "code",
   "execution_count": 53,
   "metadata": {},
   "outputs": [],
   "source": [
    "from sklearn.linear_model import LogisticRegression\n",
    "logreg = LogisticRegression(C=1.0, penalty = 'l1') "
   ]
  },
  {
   "cell_type": "code",
   "execution_count": 54,
   "metadata": {},
   "outputs": [
    {
     "data": {
      "text/plain": [
       "LogisticRegression(C=1.0, class_weight=None, dual=False, fit_intercept=True,\n",
       "          intercept_scaling=1, max_iter=100, multi_class='ovr', n_jobs=1,\n",
       "          penalty='l1', random_state=None, solver='liblinear', tol=0.0001,\n",
       "          verbose=0, warm_start=False)"
      ]
     },
     "execution_count": 54,
     "metadata": {},
     "output_type": "execute_result"
    }
   ],
   "source": [
    "logreg.fit(x_train, y_train)"
   ]
  },
  {
   "cell_type": "code",
   "execution_count": 55,
   "metadata": {},
   "outputs": [],
   "source": [
    "pred_x = logreg.predict(x_train)\n",
    "pred_y = logreg.predict(x_test)"
   ]
  },
  {
   "cell_type": "code",
   "execution_count": 56,
   "metadata": {},
   "outputs": [
    {
     "name": "stdout",
     "output_type": "stream",
     "text": [
      "LogRegression Train Accuracy 0.6482719917691624\n",
      "LogRegression Test Accuracy 0.6535727646838758\n"
     ]
    }
   ],
   "source": [
    "print('LogRegression Train Accuracy', accuracy_score(y_train, pred_x))\n",
    "print('LogRegression Test Accuracy', accuracy_score(y_test, pred_y))"
   ]
  },
  {
   "cell_type": "markdown",
   "metadata": {},
   "source": [
    "# RandomForest Model"
   ]
  },
  {
   "cell_type": "code",
   "execution_count": 57,
   "metadata": {},
   "outputs": [
    {
     "name": "stderr",
     "output_type": "stream",
     "text": [
      "/opt/conda/lib/python3.6/site-packages/sklearn/ensemble/weight_boosting.py:29: DeprecationWarning: numpy.core.umath_tests is an internal NumPy module and should not be imported. It will be removed in a future NumPy release.\n",
      "  from numpy.core.umath_tests import inner1d\n"
     ]
    }
   ],
   "source": [
    "from sklearn.ensemble import RandomForestClassifier\n",
    "rf = RandomForestClassifier()"
   ]
  },
  {
   "cell_type": "code",
   "execution_count": 58,
   "metadata": {},
   "outputs": [
    {
     "data": {
      "text/plain": [
       "RandomForestClassifier(bootstrap=True, class_weight=None, criterion='gini',\n",
       "            max_depth=None, max_features='auto', max_leaf_nodes=None,\n",
       "            min_impurity_decrease=0.0, min_impurity_split=None,\n",
       "            min_samples_leaf=1, min_samples_split=2,\n",
       "            min_weight_fraction_leaf=0.0, n_estimators=10, n_jobs=1,\n",
       "            oob_score=False, random_state=None, verbose=0,\n",
       "            warm_start=False)"
      ]
     },
     "execution_count": 58,
     "metadata": {},
     "output_type": "execute_result"
    }
   ],
   "source": [
    "rf.fit(x_train, y_train)"
   ]
  },
  {
   "cell_type": "code",
   "execution_count": 59,
   "metadata": {},
   "outputs": [],
   "source": [
    "pred_x = rf.predict(x_train)\n",
    "pred_y = rf.predict(x_test)"
   ]
  },
  {
   "cell_type": "code",
   "execution_count": 60,
   "metadata": {},
   "outputs": [
    {
     "name": "stdout",
     "output_type": "stream",
     "text": [
      "RandomForest train accuracy: 0.98307066361128\n",
      "RandomForest test accuracy: 0.6530115974560419\n"
     ]
    }
   ],
   "source": [
    "print('RandomForest train accuracy:', accuracy_score(y_train, pred_x))\n",
    "print('RandomForest test accuracy:', accuracy_score(y_test, pred_y))"
   ]
  },
  {
   "cell_type": "markdown",
   "metadata": {},
   "source": [
    "**** Relevance of Independent Variables ****"
   ]
  },
  {
   "cell_type": "code",
   "execution_count": 61,
   "metadata": {},
   "outputs": [
    {
     "data": {
      "text/html": [
       "<div>\n",
       "<style scoped>\n",
       "    .dataframe tbody tr th:only-of-type {\n",
       "        vertical-align: middle;\n",
       "    }\n",
       "\n",
       "    .dataframe tbody tr th {\n",
       "        vertical-align: top;\n",
       "    }\n",
       "\n",
       "    .dataframe thead th {\n",
       "        text-align: right;\n",
       "    }\n",
       "</style>\n",
       "<table border=\"1\" class=\"dataframe\">\n",
       "  <thead>\n",
       "    <tr style=\"text-align: right;\">\n",
       "      <th></th>\n",
       "      <th>Variables</th>\n",
       "      <th>Importance</th>\n",
       "    </tr>\n",
       "  </thead>\n",
       "  <tbody>\n",
       "    <tr>\n",
       "      <th>1</th>\n",
       "      <td>Hour</td>\n",
       "      <td>0.138338</td>\n",
       "    </tr>\n",
       "    <tr>\n",
       "      <th>0</th>\n",
       "      <td>AgeinDays</td>\n",
       "      <td>0.122743</td>\n",
       "    </tr>\n",
       "    <tr>\n",
       "      <th>28</th>\n",
       "      <td>Breed1</td>\n",
       "      <td>0.094543</td>\n",
       "    </tr>\n",
       "    <tr>\n",
       "      <th>29</th>\n",
       "      <td>Color1</td>\n",
       "      <td>0.092460</td>\n",
       "    </tr>\n",
       "    <tr>\n",
       "      <th>2</th>\n",
       "      <td>WeekDay</td>\n",
       "      <td>0.090448</td>\n",
       "    </tr>\n",
       "    <tr>\n",
       "      <th>3</th>\n",
       "      <td>Month</td>\n",
       "      <td>0.076116</td>\n",
       "    </tr>\n",
       "    <tr>\n",
       "      <th>12</th>\n",
       "      <td>FixedIntact_Intact</td>\n",
       "      <td>0.068269</td>\n",
       "    </tr>\n",
       "    <tr>\n",
       "      <th>6</th>\n",
       "      <td>NameCategory_Named</td>\n",
       "      <td>0.038010</td>\n",
       "    </tr>\n",
       "    <tr>\n",
       "      <th>11</th>\n",
       "      <td>FixedIntact_Fixed</td>\n",
       "      <td>0.037060</td>\n",
       "    </tr>\n",
       "    <tr>\n",
       "      <th>15</th>\n",
       "      <td>AgeCategory_Baby</td>\n",
       "      <td>0.025570</td>\n",
       "    </tr>\n",
       "    <tr>\n",
       "      <th>7</th>\n",
       "      <td>NameCategory_Unnamed</td>\n",
       "      <td>0.021430</td>\n",
       "    </tr>\n",
       "    <tr>\n",
       "      <th>27</th>\n",
       "      <td>IsMultipleColors_Pure</td>\n",
       "      <td>0.015289</td>\n",
       "    </tr>\n",
       "    <tr>\n",
       "      <th>5</th>\n",
       "      <td>AnimalType_Dog</td>\n",
       "      <td>0.014823</td>\n",
       "    </tr>\n",
       "    <tr>\n",
       "      <th>26</th>\n",
       "      <td>IsMultipleColors_Multiple</td>\n",
       "      <td>0.014613</td>\n",
       "    </tr>\n",
       "    <tr>\n",
       "      <th>4</th>\n",
       "      <td>AnimalType_Cat</td>\n",
       "      <td>0.013319</td>\n",
       "    </tr>\n",
       "    <tr>\n",
       "      <th>8</th>\n",
       "      <td>Sex_Female</td>\n",
       "      <td>0.013135</td>\n",
       "    </tr>\n",
       "    <tr>\n",
       "      <th>21</th>\n",
       "      <td>Season_Winter</td>\n",
       "      <td>0.013022</td>\n",
       "    </tr>\n",
       "    <tr>\n",
       "      <th>9</th>\n",
       "      <td>Sex_Male</td>\n",
       "      <td>0.012962</td>\n",
       "    </tr>\n",
       "    <tr>\n",
       "      <th>18</th>\n",
       "      <td>Season_Fall</td>\n",
       "      <td>0.012792</td>\n",
       "    </tr>\n",
       "    <tr>\n",
       "      <th>20</th>\n",
       "      <td>Season_Summer</td>\n",
       "      <td>0.012672</td>\n",
       "    </tr>\n",
       "    <tr>\n",
       "      <th>19</th>\n",
       "      <td>Season_Spring</td>\n",
       "      <td>0.011895</td>\n",
       "    </tr>\n",
       "    <tr>\n",
       "      <th>16</th>\n",
       "      <td>AgeCategory_Senior</td>\n",
       "      <td>0.009169</td>\n",
       "    </tr>\n",
       "    <tr>\n",
       "      <th>17</th>\n",
       "      <td>AgeCategory_Young adult</td>\n",
       "      <td>0.008122</td>\n",
       "    </tr>\n",
       "    <tr>\n",
       "      <th>23</th>\n",
       "      <td>IsMix_Pure</td>\n",
       "      <td>0.007735</td>\n",
       "    </tr>\n",
       "    <tr>\n",
       "      <th>22</th>\n",
       "      <td>IsMix_Mixed</td>\n",
       "      <td>0.007291</td>\n",
       "    </tr>\n",
       "    <tr>\n",
       "      <th>10</th>\n",
       "      <td>Sex_Unknown</td>\n",
       "      <td>0.007103</td>\n",
       "    </tr>\n",
       "    <tr>\n",
       "      <th>13</th>\n",
       "      <td>FixedIntact_Unknown</td>\n",
       "      <td>0.006383</td>\n",
       "    </tr>\n",
       "    <tr>\n",
       "      <th>14</th>\n",
       "      <td>AgeCategory_Adult</td>\n",
       "      <td>0.005811</td>\n",
       "    </tr>\n",
       "    <tr>\n",
       "      <th>25</th>\n",
       "      <td>IsMultipleBreeds_Pure</td>\n",
       "      <td>0.004524</td>\n",
       "    </tr>\n",
       "    <tr>\n",
       "      <th>24</th>\n",
       "      <td>IsMultipleBreeds_Multiple</td>\n",
       "      <td>0.004354</td>\n",
       "    </tr>\n",
       "  </tbody>\n",
       "</table>\n",
       "</div>"
      ],
      "text/plain": [
       "                    Variables  Importance\n",
       "1                        Hour    0.138338\n",
       "0                   AgeinDays    0.122743\n",
       "28                     Breed1    0.094543\n",
       "29                     Color1    0.092460\n",
       "2                     WeekDay    0.090448\n",
       "3                       Month    0.076116\n",
       "12         FixedIntact_Intact    0.068269\n",
       "6          NameCategory_Named    0.038010\n",
       "11          FixedIntact_Fixed    0.037060\n",
       "15           AgeCategory_Baby    0.025570\n",
       "7        NameCategory_Unnamed    0.021430\n",
       "27      IsMultipleColors_Pure    0.015289\n",
       "5              AnimalType_Dog    0.014823\n",
       "26  IsMultipleColors_Multiple    0.014613\n",
       "4              AnimalType_Cat    0.013319\n",
       "8                  Sex_Female    0.013135\n",
       "21              Season_Winter    0.013022\n",
       "9                    Sex_Male    0.012962\n",
       "18                Season_Fall    0.012792\n",
       "20              Season_Summer    0.012672\n",
       "19              Season_Spring    0.011895\n",
       "16         AgeCategory_Senior    0.009169\n",
       "17    AgeCategory_Young adult    0.008122\n",
       "23                 IsMix_Pure    0.007735\n",
       "22                IsMix_Mixed    0.007291\n",
       "10                Sex_Unknown    0.007103\n",
       "13        FixedIntact_Unknown    0.006383\n",
       "14          AgeCategory_Adult    0.005811\n",
       "25      IsMultipleBreeds_Pure    0.004524\n",
       "24  IsMultipleBreeds_Multiple    0.004354"
      ]
     },
     "execution_count": 61,
     "metadata": {},
     "output_type": "execute_result"
    }
   ],
   "source": [
    "#Variable Importance table\n",
    "variable = x_train.columns\n",
    "importance = rf.feature_importances_\n",
    "feature_importance = pd.DataFrame({'Variables' : variables, 'Importance' : importance})\n",
    "feature_importance.sort_values(by='Importance', ascending=False)"
   ]
  },
  {
   "cell_type": "code",
   "execution_count": 62,
   "metadata": {},
   "outputs": [
    {
     "data": {
      "text/plain": [
       "Text(0,0.5,'Variable Importance Score')"
      ]
     },
     "execution_count": 62,
     "metadata": {},
     "output_type": "execute_result"
    },
    {
     "data": {
      "image/png": "[encoded data removed]",
      "text/plain": [
       "<Figure size 432x288 with 1 Axes>"
      ]
     },
     "metadata": {},
     "output_type": "display_data"
    }
   ],
   "source": [
    "# Graphical represenation of Variable Importance\n",
    "feat_imp = pd.Series(rf.feature_importances_, x_train.columns).sort_values(ascending=False)\n",
    "feat_imp.plot(kind='bar', title='Variable Importances')\n",
    "plt.ylabel('Variable Importance Score')"
   ]
  },
  {
   "cell_type": "markdown",
   "metadata": {},
   "source": [
    "**** Parameter tuning for random forest ****\n",
    "\n",
    "With the default RandomForest parameters, I found evidence of overfitting since the gap between the training and test accuracies was significant. I wanted to examine how the decision model would behave if I adjusted some of the parameters. First I tried tuning the *max_features*. From the graph below, one can see the model overfits as the number of depths increases. Next I tuned *max_features* and found there is a negligible positive slope of the test accuracy line as the number of *max_features* increase, but there is still significant evidence of overfitting.\n",
    "\n",
    "Code inspired by https://medium.com/all-things-ai/in-depth-parameter-tuning-for-random-forest-d67bb7e920d\n",
    "\n",
    "Parameters chosen from https://www.analyticsvidhya.com/blog/2015/06/tuning-random-forest-model/"
   ]
  },
  {
   "cell_type": "code",
   "execution_count": 63,
   "metadata": {},
   "outputs": [
    {
     "data": {
      "image/png": "[encoded data removed]",
      "text/plain": [
       "<Figure size 432x288 with 1 Axes>"
      ]
     },
     "metadata": {},
     "output_type": "display_data"
    }
   ],
   "source": [
    "#Tune max_features\n",
    "max_features = list(range(1,train.shape[1]))\n",
    "\n",
    "train_results = []\n",
    "test_results = []\n",
    "\n",
    "for j in max_features:\n",
    "    dt = RandomForestClassifier(max_features=j)\n",
    "    dt.fit(x_train, y_train)\n",
    "    \n",
    "    pred_x = dt.predict(x_train)\n",
    "    acc = accuracy_score(y_train, pred_x)\n",
    "   # Add acc score to previous train results\n",
    "    train_results.append(acc)\n",
    "    \n",
    "    pred_y = dt.predict(x_test)\n",
    "    acc2 = accuracy_score(y_test, pred_y)\n",
    "   # Add acc score to previous test results\n",
    "    test_results.append(acc2)\n",
    "    \n",
    "    \n",
    "from matplotlib.legend_handler import HandlerLine2D\n",
    "line1, = plt.plot(max_features, train_results, 'b', label='Train Accuracy')\n",
    "line2, = plt.plot(max_features, test_results, 'r', label='Test Accuracy')\n",
    "plt.legend(handler_map={line1: HandlerLine2D(numpoints=2)})\n",
    "plt.ylabel('Accuracy score')\n",
    "plt.xlabel('max features')\n",
    "plt.show()"
   ]
  },
  {
   "cell_type": "code",
   "execution_count": 64,
   "metadata": {},
   "outputs": [
    {
     "data": {
      "image/png": "[encoded data removed]",
      "text/plain": [
       "<Figure size 432x288 with 1 Axes>"
      ]
     },
     "metadata": {},
     "output_type": "display_data"
    }
   ],
   "source": [
    "#Tune n_estimators\n",
    "n_estimators = list(range(1,25))\n",
    "\n",
    "train_results = []\n",
    "test_results = []\n",
    "\n",
    "for j in n_estimators:\n",
    "    dt = RandomForestClassifier(n_estimators=j)\n",
    "    dt.fit(x_train, y_train)\n",
    "    \n",
    "    pred_x = dt.predict(x_train)\n",
    "    acc = accuracy_score(y_train, pred_x)\n",
    "   # Add acc score to previous train results\n",
    "    train_results.append(acc)\n",
    "    \n",
    "    pred_y = dt.predict(x_test)\n",
    "    acc2 = accuracy_score(y_test, pred_y)\n",
    "   # Add acc score to previous test results\n",
    "    test_results.append(acc2)\n",
    "    \n",
    "    \n",
    "from matplotlib.legend_handler import HandlerLine2D\n",
    "line1, = plt.plot(n_estimators, train_results, 'b', label='Train Accuracy')\n",
    "line2, = plt.plot(n_estimators, test_results, 'r', label='Test Accuracy')\n",
    "plt.legend(handler_map={line1: HandlerLine2D(numpoints=2)})\n",
    "plt.ylabel('Accuracy score')\n",
    "plt.xlabel('n estimators')\n",
    "plt.show()"
   ]
  },
  {
   "cell_type": "markdown",
   "metadata": {},
   "source": [
    "# Gradient Boosting Model"
   ]
  },
  {
   "cell_type": "code",
   "execution_count": 65,
   "metadata": {},
   "outputs": [],
   "source": [
    "from sklearn.ensemble import GradientBoostingClassifier\n",
    "from sklearn.metrics import log_loss\n",
    "\n",
    "gbm = GradientBoostingClassifier()"
   ]
  },
  {
   "cell_type": "code",
   "execution_count": 66,
   "metadata": {},
   "outputs": [
    {
     "data": {
      "text/plain": [
       "GradientBoostingClassifier(criterion='friedman_mse', init=None,\n",
       "              learning_rate=0.1, loss='deviance', max_depth=3,\n",
       "              max_features=None, max_leaf_nodes=None,\n",
       "              min_impurity_decrease=0.0, min_impurity_split=None,\n",
       "              min_samples_leaf=1, min_samples_split=2,\n",
       "              min_weight_fraction_leaf=0.0, n_estimators=100,\n",
       "              presort='auto', random_state=None, subsample=1.0, verbose=0,\n",
       "              warm_start=False)"
      ]
     },
     "execution_count": 66,
     "metadata": {},
     "output_type": "execute_result"
    }
   ],
   "source": [
    "gbm.fit(x_train,y_train)"
   ]
  },
  {
   "cell_type": "code",
   "execution_count": 67,
   "metadata": {},
   "outputs": [],
   "source": [
    "pred_x = gbm.predict(x_train)\n",
    "pred_y = gbm.predict(x_test)"
   ]
  },
  {
   "cell_type": "code",
   "execution_count": 68,
   "metadata": {},
   "outputs": [
    {
     "name": "stdout",
     "output_type": "stream",
     "text": [
      "0.691717719683861\n",
      "0.6853722409277965\n"
     ]
    }
   ],
   "source": [
    "print(accuracy_score(y_train, pred_x))\n",
    "print(accuracy_score(y_test, pred_y))"
   ]
  },
  {
   "cell_type": "markdown",
   "metadata": {},
   "source": [
    "**** Relevance of Independent Variables ****"
   ]
  },
  {
   "cell_type": "code",
   "execution_count": 69,
   "metadata": {},
   "outputs": [
    {
     "data": {
      "text/html": [
       "<div>\n",
       "<style scoped>\n",
       "    .dataframe tbody tr th:only-of-type {\n",
       "        vertical-align: middle;\n",
       "    }\n",
       "\n",
       "    .dataframe tbody tr th {\n",
       "        vertical-align: top;\n",
       "    }\n",
       "\n",
       "    .dataframe thead th {\n",
       "        text-align: right;\n",
       "    }\n",
       "</style>\n",
       "<table border=\"1\" class=\"dataframe\">\n",
       "  <thead>\n",
       "    <tr style=\"text-align: right;\">\n",
       "      <th></th>\n",
       "      <th>Variables</th>\n",
       "      <th>Importance</th>\n",
       "    </tr>\n",
       "  </thead>\n",
       "  <tbody>\n",
       "    <tr>\n",
       "      <th>0</th>\n",
       "      <td>AgeinDays</td>\n",
       "      <td>0.252834</td>\n",
       "    </tr>\n",
       "    <tr>\n",
       "      <th>1</th>\n",
       "      <td>Hour</td>\n",
       "      <td>0.206631</td>\n",
       "    </tr>\n",
       "    <tr>\n",
       "      <th>28</th>\n",
       "      <td>Breed1</td>\n",
       "      <td>0.134990</td>\n",
       "    </tr>\n",
       "    <tr>\n",
       "      <th>11</th>\n",
       "      <td>FixedIntact_Fixed</td>\n",
       "      <td>0.068959</td>\n",
       "    </tr>\n",
       "    <tr>\n",
       "      <th>2</th>\n",
       "      <td>WeekDay</td>\n",
       "      <td>0.060959</td>\n",
       "    </tr>\n",
       "    <tr>\n",
       "      <th>3</th>\n",
       "      <td>Month</td>\n",
       "      <td>0.043278</td>\n",
       "    </tr>\n",
       "    <tr>\n",
       "      <th>29</th>\n",
       "      <td>Color1</td>\n",
       "      <td>0.039698</td>\n",
       "    </tr>\n",
       "    <tr>\n",
       "      <th>7</th>\n",
       "      <td>NameCategory_Unnamed</td>\n",
       "      <td>0.034072</td>\n",
       "    </tr>\n",
       "    <tr>\n",
       "      <th>6</th>\n",
       "      <td>NameCategory_Named</td>\n",
       "      <td>0.028888</td>\n",
       "    </tr>\n",
       "    <tr>\n",
       "      <th>4</th>\n",
       "      <td>AnimalType_Cat</td>\n",
       "      <td>0.019921</td>\n",
       "    </tr>\n",
       "    <tr>\n",
       "      <th>5</th>\n",
       "      <td>AnimalType_Dog</td>\n",
       "      <td>0.017478</td>\n",
       "    </tr>\n",
       "    <tr>\n",
       "      <th>20</th>\n",
       "      <td>Season_Summer</td>\n",
       "      <td>0.011480</td>\n",
       "    </tr>\n",
       "    <tr>\n",
       "      <th>8</th>\n",
       "      <td>Sex_Female</td>\n",
       "      <td>0.011267</td>\n",
       "    </tr>\n",
       "    <tr>\n",
       "      <th>12</th>\n",
       "      <td>FixedIntact_Intact</td>\n",
       "      <td>0.007564</td>\n",
       "    </tr>\n",
       "    <tr>\n",
       "      <th>15</th>\n",
       "      <td>AgeCategory_Baby</td>\n",
       "      <td>0.007063</td>\n",
       "    </tr>\n",
       "    <tr>\n",
       "      <th>21</th>\n",
       "      <td>Season_Winter</td>\n",
       "      <td>0.006378</td>\n",
       "    </tr>\n",
       "    <tr>\n",
       "      <th>19</th>\n",
       "      <td>Season_Spring</td>\n",
       "      <td>0.006118</td>\n",
       "    </tr>\n",
       "    <tr>\n",
       "      <th>10</th>\n",
       "      <td>Sex_Unknown</td>\n",
       "      <td>0.005388</td>\n",
       "    </tr>\n",
       "    <tr>\n",
       "      <th>18</th>\n",
       "      <td>Season_Fall</td>\n",
       "      <td>0.005320</td>\n",
       "    </tr>\n",
       "    <tr>\n",
       "      <th>25</th>\n",
       "      <td>IsMultipleBreeds_Pure</td>\n",
       "      <td>0.005115</td>\n",
       "    </tr>\n",
       "    <tr>\n",
       "      <th>24</th>\n",
       "      <td>IsMultipleBreeds_Multiple</td>\n",
       "      <td>0.004625</td>\n",
       "    </tr>\n",
       "    <tr>\n",
       "      <th>17</th>\n",
       "      <td>AgeCategory_Young adult</td>\n",
       "      <td>0.004357</td>\n",
       "    </tr>\n",
       "    <tr>\n",
       "      <th>13</th>\n",
       "      <td>FixedIntact_Unknown</td>\n",
       "      <td>0.004154</td>\n",
       "    </tr>\n",
       "    <tr>\n",
       "      <th>23</th>\n",
       "      <td>IsMix_Pure</td>\n",
       "      <td>0.002863</td>\n",
       "    </tr>\n",
       "    <tr>\n",
       "      <th>26</th>\n",
       "      <td>IsMultipleColors_Multiple</td>\n",
       "      <td>0.002476</td>\n",
       "    </tr>\n",
       "    <tr>\n",
       "      <th>22</th>\n",
       "      <td>IsMix_Mixed</td>\n",
       "      <td>0.002208</td>\n",
       "    </tr>\n",
       "    <tr>\n",
       "      <th>27</th>\n",
       "      <td>IsMultipleColors_Pure</td>\n",
       "      <td>0.002047</td>\n",
       "    </tr>\n",
       "    <tr>\n",
       "      <th>14</th>\n",
       "      <td>AgeCategory_Adult</td>\n",
       "      <td>0.001341</td>\n",
       "    </tr>\n",
       "    <tr>\n",
       "      <th>16</th>\n",
       "      <td>AgeCategory_Senior</td>\n",
       "      <td>0.001289</td>\n",
       "    </tr>\n",
       "    <tr>\n",
       "      <th>9</th>\n",
       "      <td>Sex_Male</td>\n",
       "      <td>0.001237</td>\n",
       "    </tr>\n",
       "  </tbody>\n",
       "</table>\n",
       "</div>"
      ],
      "text/plain": [
       "                    Variables  Importance\n",
       "0                   AgeinDays    0.252834\n",
       "1                        Hour    0.206631\n",
       "28                     Breed1    0.134990\n",
       "11          FixedIntact_Fixed    0.068959\n",
       "2                     WeekDay    0.060959\n",
       "3                       Month    0.043278\n",
       "29                     Color1    0.039698\n",
       "7        NameCategory_Unnamed    0.034072\n",
       "6          NameCategory_Named    0.028888\n",
       "4              AnimalType_Cat    0.019921\n",
       "5              AnimalType_Dog    0.017478\n",
       "20              Season_Summer    0.011480\n",
       "8                  Sex_Female    0.011267\n",
       "12         FixedIntact_Intact    0.007564\n",
       "15           AgeCategory_Baby    0.007063\n",
       "21              Season_Winter    0.006378\n",
       "19              Season_Spring    0.006118\n",
       "10                Sex_Unknown    0.005388\n",
       "18                Season_Fall    0.005320\n",
       "25      IsMultipleBreeds_Pure    0.005115\n",
       "24  IsMultipleBreeds_Multiple    0.004625\n",
       "17    AgeCategory_Young adult    0.004357\n",
       "13        FixedIntact_Unknown    0.004154\n",
       "23                 IsMix_Pure    0.002863\n",
       "26  IsMultipleColors_Multiple    0.002476\n",
       "22                IsMix_Mixed    0.002208\n",
       "27      IsMultipleColors_Pure    0.002047\n",
       "14          AgeCategory_Adult    0.001341\n",
       "16         AgeCategory_Senior    0.001289\n",
       "9                    Sex_Male    0.001237"
      ]
     },
     "execution_count": 69,
     "metadata": {},
     "output_type": "execute_result"
    }
   ],
   "source": [
    "#Variable Importance table\n",
    "variable = x_train.columns\n",
    "importance = gbm.feature_importances_\n",
    "feature_importance = pd.DataFrame({'Variables' : variables, 'Importance' : importance})\n",
    "feature_importance.sort_values(by='Importance', ascending=False)"
   ]
  },
  {
   "cell_type": "code",
   "execution_count": 70,
   "metadata": {},
   "outputs": [
    {
     "data": {
      "text/plain": [
       "Text(0,0.5,'Variable Importance Score')"
      ]
     },
     "execution_count": 70,
     "metadata": {},
     "output_type": "execute_result"
    },
    {
     "data": {
      "image/png": "[encoded data removed]",
      "text/plain": [
       "<Figure size 432x288 with 1 Axes>"
      ]
     },
     "metadata": {},
     "output_type": "display_data"
    }
   ],
   "source": [
    "# Graphical represenation of Variable Importance\n",
    "feat_imp = pd.Series(gbm.feature_importances_, x_train.columns).sort_values(ascending=False)\n",
    "feat_imp.plot(kind='bar', title='Variable Importances')\n",
    "plt.ylabel('Variable Importance Score')"
   ]
  },
  {
   "cell_type": "markdown",
   "metadata": {},
   "source": [
    "**** Paramater tuning for gradient boosting ****\n",
    "\n",
    "I wanted to examine *max_depths*, *n_estimators* and *learning_rate*. I found that overfitting occurs following max_depths=3 and learning_rate=0.05. Addtionally, there appears to be a max-ceiling over the test accuracy of 69% because no matter what paramaters I attempted to adjust, the accuracy never crossed 69%. I also tried combining various parameters but the accuracy returned was less than then the accuracy returned with default parameters.\n",
    "\n",
    "Parameters chosen from https://www.analyticsvidhya.com/blog/2016/02/complete-guide-parameter-tuning-gradient-boosting-gbm-python/"
   ]
  },
  {
   "cell_type": "code",
   "execution_count": 71,
   "metadata": {},
   "outputs": [
    {
     "name": "stdout",
     "output_type": "stream",
     "text": [
      "0.6853722409277965\n"
     ]
    },
    {
     "data": {
      "image/png": "[encoded data removed]",
      "text/plain": [
       "<Figure size 432x288 with 1 Axes>"
      ]
     },
     "metadata": {},
     "output_type": "display_data"
    }
   ],
   "source": [
    "#Tune max_depths\n",
    "max_depths = [1, 3, 5]\n",
    "\n",
    "train_results = []\n",
    "test_results = []\n",
    "\n",
    "for i in max_depths:\n",
    "    dt = GradientBoostingClassifier(max_depth=i)\n",
    "    dt.fit(x_train, y_train)\n",
    "    \n",
    "    pred_x = dt.predict(x_train)\n",
    "    acc = accuracy_score(y_train, pred_x)\n",
    "   # Add acc score to previous train results\n",
    "    train_results.append(acc)\n",
    "    \n",
    "    pred_y = dt.predict(x_test)\n",
    "    acc2 = accuracy_score(y_test, pred_y)\n",
    "   # Add acc score to previous test results\n",
    "    test_results.append(acc2)\n",
    "    \n",
    "print(max(test_results)) \n",
    "\n",
    "import matplotlib.pyplot as plt\n",
    "from matplotlib.legend_handler import HandlerLine2D\n",
    "line1, = plt.plot(max_depths, train_results, 'b', label='Train Accuracy')\n",
    "line2, = plt.plot(max_depths, test_results, 'r', label='Test Accuracy')\n",
    "plt.legend(handler_map={line1: HandlerLine2D(numpoints=2)})\n",
    "plt.ylabel('Accuracy score')\n",
    "plt.xlabel('Tree depth')\n",
    "plt.show()"
   ]
  },
  {
   "cell_type": "code",
   "execution_count": 72,
   "metadata": {},
   "outputs": [
    {
     "name": "stdout",
     "output_type": "stream",
     "text": [
      "0.6790123456790124\n"
     ]
    },
    {
     "data": {
      "image/png": "[encoded data removed]",
      "text/plain": [
       "<Figure size 432x288 with 1 Axes>"
      ]
     },
     "metadata": {},
     "output_type": "display_data"
    }
   ],
   "source": [
    "#Tune n_estimators\n",
    "n_estimators = list(range(1,70, 10))\n",
    "\n",
    "train_results = []\n",
    "test_results = []\n",
    "\n",
    "for j in n_estimators:\n",
    "    dt = GradientBoostingClassifier(n_estimators=j)\n",
    "    dt.fit(x_train, y_train)\n",
    "    \n",
    "    pred_x = dt.predict(x_train)\n",
    "    acc = accuracy_score(y_train, pred_x)\n",
    "   # Add acc score to previous train results\n",
    "    train_results.append(acc)\n",
    "    \n",
    "    pred_y = dt.predict(x_test)\n",
    "    acc2 = accuracy_score(y_test, pred_y)\n",
    "   # Add acc score to previous test results\n",
    "    test_results.append(acc2)\n",
    "print(max(test_results))  \n",
    "from matplotlib.legend_handler import HandlerLine2D\n",
    "line1, = plt.plot(n_estimators, train_results, 'b', label='Train Accuracy')\n",
    "line2, = plt.plot(n_estimators, test_results, 'r', label='Test Accuracy')\n",
    "plt.legend(handler_map={line1: HandlerLine2D(numpoints=2)})\n",
    "plt.ylabel('Accuracy score')\n",
    "plt.xlabel('n estimators')\n",
    "plt.show()"
   ]
  },
  {
   "cell_type": "code",
   "execution_count": 73,
   "metadata": {},
   "outputs": [
    {
     "name": "stdout",
     "output_type": "stream",
     "text": [
      "0.6883651328095772\n"
     ]
    },
    {
     "data": {
      "image/png": "[encoded data removed]",
      "text/plain": [
       "<Figure size 432x288 with 1 Axes>"
      ]
     },
     "metadata": {},
     "output_type": "display_data"
    }
   ],
   "source": [
    "#Tune learning_rate\n",
    "learning_rate = [0.01, 0.05, 0.1, 0.15, 0.2]\n",
    "\n",
    "train_results = []\n",
    "test_results = []\n",
    "\n",
    "for j in learning_rate:\n",
    "    dt = GradientBoostingClassifier(learning_rate=j)\n",
    "    dt.fit(x_train, y_train)\n",
    "    \n",
    "    pred_x = dt.predict(x_train)\n",
    "    acc = accuracy_score(y_train, pred_x)\n",
    "   # Add acc score to previous train results\n",
    "    train_results.append(acc)\n",
    "    \n",
    "    pred_y = dt.predict(x_test)\n",
    "    acc2 = accuracy_score(y_test, pred_y)\n",
    "   # Add acc score to previous test results\n",
    "    test_results.append(acc2)\n",
    "    \n",
    "print(max(test_results))\n",
    "from matplotlib.legend_handler import HandlerLine2D\n",
    "line1, = plt.plot(learning_rate, train_results, 'b', label='Train Accuracy')\n",
    "line2, = plt.plot(learning_rate, test_results, 'r', label='Test Accuracy')\n",
    "plt.legend(handler_map={line1: HandlerLine2D(numpoints=2)})\n",
    "plt.ylabel('Accuracy score')\n",
    "plt.xlabel('learning rate')\n",
    "plt.show()"
   ]
  },
  {
   "cell_type": "markdown",
   "metadata": {},
   "source": [
    "**** Attempt to combine parameters ****\n",
    "\n",
    "Code inspired by https://www.kaggle.com/rohansadale/xgbclassifier-and-randomforest-in-python"
   ]
  },
  {
   "cell_type": "code",
   "execution_count": 75,
   "metadata": {},
   "outputs": [],
   "source": [
    "# #Choose best parameters\n",
    "# from sklearn.model_selection import GridSearchCV\n",
    "\n",
    "# def best_params(x_train, y_train):\n",
    "#     rfc = GradientBoostingClassifier()\n",
    "#     param_grid = { \n",
    "#         'max_depth': [3, 5],\n",
    "#         'n_estimators': [40, 50],\n",
    "#         'learning_rate': [0.05, 0.1]\n",
    "#     }\n",
    "    \n",
    "#     CV_rfc = GridSearchCV(estimator=rfc, param_grid=param_grid, cv= 5)\n",
    "#     CV_rfc.fit(x_train, y_train)\n",
    "#     return CV_rfc.best_params_\n",
    "\n",
    "# print(best_params(x_train, y_train))"
   ]
  },
  {
   "cell_type": "code",
   "execution_count": 76,
   "metadata": {},
   "outputs": [],
   "source": [
    "# from sklearn.ensemble import GradientBoostingClassifier\n",
    "# from sklearn.metrics import log_loss\n",
    "\n",
    "# gbm = GradientBoostingClassifier(learning_rate= 0.1, max_depth=5, n_estimators=50) #returned 0.657\n",
    "# gbm = GradientBoostingClassifier(learning_rate= 0.1, max_depth=5) #returned 0.685\n",
    "# gbm = GradientBoostingClassifier(learning_rate= 0.1, n_estimators=50) #returned 0.674\n",
    "# gbm = GradientBoostingClassifier(max_depth=5, n_estimators=50) #returned 0.686\n",
    "\n",
    "# gbm.fit(x_train,y_train)\n",
    "# pred_x = gbm.predict(x_train)\n",
    "# pred_y = gbm.predict(x_test)\n",
    "# print(accuracy_score(y_train, pred_x))\n",
    "# print(accuracy_score(y_test, pred_y))"
   ]
  },
  {
   "cell_type": "markdown",
   "metadata": {},
   "source": [
    "# Generate Prediction File"
   ]
  },
  {
   "cell_type": "code",
   "execution_count": 77,
   "metadata": {},
   "outputs": [
    {
     "name": "stdout",
     "output_type": "stream",
     "text": [
      "0.7075246691296825\n",
      "0.6883651328095772\n"
     ]
    }
   ],
   "source": [
    "from sklearn.ensemble import GradientBoostingClassifier\n",
    "from sklearn.metrics import log_loss\n",
    "\n",
    "gbm = GradientBoostingClassifier(learning_rate=0.2)\n",
    "gbm.fit(x_train,y_train)\n",
    "pred_x = gbm.predict(x_train)\n",
    "pred_y = gbm.predict(x_test)\n",
    "print(accuracy_score(y_train, pred_x))\n",
    "print(accuracy_score(y_test, pred_y))"
   ]
  },
  {
   "cell_type": "code",
   "execution_count": 78,
   "metadata": {},
   "outputs": [
    {
     "data": {
      "text/html": [
       "<div>\n",
       "<style scoped>\n",
       "    .dataframe tbody tr th:only-of-type {\n",
       "        vertical-align: middle;\n",
       "    }\n",
       "\n",
       "    .dataframe tbody tr th {\n",
       "        vertical-align: top;\n",
       "    }\n",
       "\n",
       "    .dataframe thead th {\n",
       "        text-align: right;\n",
       "    }\n",
       "</style>\n",
       "<table border=\"1\" class=\"dataframe\">\n",
       "  <thead>\n",
       "    <tr style=\"text-align: right;\">\n",
       "      <th></th>\n",
       "      <th>Variables</th>\n",
       "      <th>Importance</th>\n",
       "    </tr>\n",
       "  </thead>\n",
       "  <tbody>\n",
       "    <tr>\n",
       "      <th>0</th>\n",
       "      <td>AgeinDays</td>\n",
       "      <td>0.217504</td>\n",
       "    </tr>\n",
       "    <tr>\n",
       "      <th>1</th>\n",
       "      <td>Hour</td>\n",
       "      <td>0.176503</td>\n",
       "    </tr>\n",
       "    <tr>\n",
       "      <th>28</th>\n",
       "      <td>Breed1</td>\n",
       "      <td>0.169348</td>\n",
       "    </tr>\n",
       "    <tr>\n",
       "      <th>2</th>\n",
       "      <td>WeekDay</td>\n",
       "      <td>0.071239</td>\n",
       "    </tr>\n",
       "    <tr>\n",
       "      <th>29</th>\n",
       "      <td>Color1</td>\n",
       "      <td>0.062598</td>\n",
       "    </tr>\n",
       "    <tr>\n",
       "      <th>3</th>\n",
       "      <td>Month</td>\n",
       "      <td>0.054265</td>\n",
       "    </tr>\n",
       "    <tr>\n",
       "      <th>11</th>\n",
       "      <td>FixedIntact_Fixed</td>\n",
       "      <td>0.041838</td>\n",
       "    </tr>\n",
       "    <tr>\n",
       "      <th>6</th>\n",
       "      <td>NameCategory_Named</td>\n",
       "      <td>0.023789</td>\n",
       "    </tr>\n",
       "    <tr>\n",
       "      <th>7</th>\n",
       "      <td>NameCategory_Unnamed</td>\n",
       "      <td>0.021994</td>\n",
       "    </tr>\n",
       "    <tr>\n",
       "      <th>5</th>\n",
       "      <td>AnimalType_Dog</td>\n",
       "      <td>0.021250</td>\n",
       "    </tr>\n",
       "    <tr>\n",
       "      <th>4</th>\n",
       "      <td>AnimalType_Cat</td>\n",
       "      <td>0.018863</td>\n",
       "    </tr>\n",
       "    <tr>\n",
       "      <th>20</th>\n",
       "      <td>Season_Summer</td>\n",
       "      <td>0.013484</td>\n",
       "    </tr>\n",
       "    <tr>\n",
       "      <th>12</th>\n",
       "      <td>FixedIntact_Intact</td>\n",
       "      <td>0.012573</td>\n",
       "    </tr>\n",
       "    <tr>\n",
       "      <th>17</th>\n",
       "      <td>AgeCategory_Young adult</td>\n",
       "      <td>0.010097</td>\n",
       "    </tr>\n",
       "    <tr>\n",
       "      <th>8</th>\n",
       "      <td>Sex_Female</td>\n",
       "      <td>0.008209</td>\n",
       "    </tr>\n",
       "    <tr>\n",
       "      <th>21</th>\n",
       "      <td>Season_Winter</td>\n",
       "      <td>0.007901</td>\n",
       "    </tr>\n",
       "    <tr>\n",
       "      <th>19</th>\n",
       "      <td>Season_Spring</td>\n",
       "      <td>0.007868</td>\n",
       "    </tr>\n",
       "    <tr>\n",
       "      <th>25</th>\n",
       "      <td>IsMultipleBreeds_Pure</td>\n",
       "      <td>0.006655</td>\n",
       "    </tr>\n",
       "    <tr>\n",
       "      <th>10</th>\n",
       "      <td>Sex_Unknown</td>\n",
       "      <td>0.006505</td>\n",
       "    </tr>\n",
       "    <tr>\n",
       "      <th>18</th>\n",
       "      <td>Season_Fall</td>\n",
       "      <td>0.006418</td>\n",
       "    </tr>\n",
       "    <tr>\n",
       "      <th>27</th>\n",
       "      <td>IsMultipleColors_Pure</td>\n",
       "      <td>0.006073</td>\n",
       "    </tr>\n",
       "    <tr>\n",
       "      <th>13</th>\n",
       "      <td>FixedIntact_Unknown</td>\n",
       "      <td>0.005758</td>\n",
       "    </tr>\n",
       "    <tr>\n",
       "      <th>14</th>\n",
       "      <td>AgeCategory_Adult</td>\n",
       "      <td>0.005422</td>\n",
       "    </tr>\n",
       "    <tr>\n",
       "      <th>22</th>\n",
       "      <td>IsMix_Mixed</td>\n",
       "      <td>0.004717</td>\n",
       "    </tr>\n",
       "    <tr>\n",
       "      <th>23</th>\n",
       "      <td>IsMix_Pure</td>\n",
       "      <td>0.004039</td>\n",
       "    </tr>\n",
       "    <tr>\n",
       "      <th>26</th>\n",
       "      <td>IsMultipleColors_Multiple</td>\n",
       "      <td>0.003279</td>\n",
       "    </tr>\n",
       "    <tr>\n",
       "      <th>24</th>\n",
       "      <td>IsMultipleBreeds_Multiple</td>\n",
       "      <td>0.003277</td>\n",
       "    </tr>\n",
       "    <tr>\n",
       "      <th>15</th>\n",
       "      <td>AgeCategory_Baby</td>\n",
       "      <td>0.003044</td>\n",
       "    </tr>\n",
       "    <tr>\n",
       "      <th>16</th>\n",
       "      <td>AgeCategory_Senior</td>\n",
       "      <td>0.002809</td>\n",
       "    </tr>\n",
       "    <tr>\n",
       "      <th>9</th>\n",
       "      <td>Sex_Male</td>\n",
       "      <td>0.002683</td>\n",
       "    </tr>\n",
       "  </tbody>\n",
       "</table>\n",
       "</div>"
      ],
      "text/plain": [
       "                    Variables  Importance\n",
       "0                   AgeinDays    0.217504\n",
       "1                        Hour    0.176503\n",
       "28                     Breed1    0.169348\n",
       "2                     WeekDay    0.071239\n",
       "29                     Color1    0.062598\n",
       "3                       Month    0.054265\n",
       "11          FixedIntact_Fixed    0.041838\n",
       "6          NameCategory_Named    0.023789\n",
       "7        NameCategory_Unnamed    0.021994\n",
       "5              AnimalType_Dog    0.021250\n",
       "4              AnimalType_Cat    0.018863\n",
       "20              Season_Summer    0.013484\n",
       "12         FixedIntact_Intact    0.012573\n",
       "17    AgeCategory_Young adult    0.010097\n",
       "8                  Sex_Female    0.008209\n",
       "21              Season_Winter    0.007901\n",
       "19              Season_Spring    0.007868\n",
       "25      IsMultipleBreeds_Pure    0.006655\n",
       "10                Sex_Unknown    0.006505\n",
       "18                Season_Fall    0.006418\n",
       "27      IsMultipleColors_Pure    0.006073\n",
       "13        FixedIntact_Unknown    0.005758\n",
       "14          AgeCategory_Adult    0.005422\n",
       "22                IsMix_Mixed    0.004717\n",
       "23                 IsMix_Pure    0.004039\n",
       "26  IsMultipleColors_Multiple    0.003279\n",
       "24  IsMultipleBreeds_Multiple    0.003277\n",
       "15           AgeCategory_Baby    0.003044\n",
       "16         AgeCategory_Senior    0.002809\n",
       "9                    Sex_Male    0.002683"
      ]
     },
     "execution_count": 78,
     "metadata": {},
     "output_type": "execute_result"
    }
   ],
   "source": [
    "#Variable Importance table\n",
    "variable = x_train.columns\n",
    "importance = gbm.feature_importances_\n",
    "feature_importance = pd.DataFrame({'Variables' : variables, 'Importance' : importance})\n",
    "feature_importance.sort_values(by='Importance', ascending=False)"
   ]
  },
  {
   "cell_type": "code",
   "execution_count": 79,
   "metadata": {},
   "outputs": [],
   "source": [
    "prediction = pd.DataFrame(gbm.predict_proba(x_test))\n",
    "prediction.columns = ['Adoption', 'Died', 'Euthanasia', 'Return_to_owner', 'Transfer']\n",
    "prediction = pd.concat([test['ID'], prediction], axis=1)\n",
    "prediction.to_csv('submission.csv', index=False)"
   ]
  }
 ],
 "metadata": {
  "kernelspec": {
   "display_name": "Python 3",
   "language": "python",
   "name": "python3"
  },
  "language_info": {
   "codemirror_mode": {
    "name": "ipython",
    "version": 3
   },
   "file_extension": ".py",
   "mimetype": "text/x-python",
   "name": "python",
   "nbconvert_exporter": "python",
   "pygments_lexer": "ipython3",
   "version": "3.6.6"
  }
 },
 "nbformat": 4,
 "nbformat_minor": 2
}
