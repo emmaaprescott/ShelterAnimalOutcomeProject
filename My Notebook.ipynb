{
 "cells": [
  {
   "cell_type": "markdown",
   "metadata": {},
   "source": [
    "# Shelter Animal Outcomes\n",
    "* Get data and examine raw data in datasets\n",
    "* Apply data exploration and initial processing steps\n",
    "* Data analysis and Visualization\n",
    "* Choose model"
   ]
  },
  {
   "cell_type": "markdown",
   "metadata": {},
   "source": [
    "## Get Data"
   ]
  },
  {
   "cell_type": "code",
   "execution_count": 1,
   "metadata": {},
   "outputs": [],
   "source": [
    "import numpy as np\n",
    "import pandas as pd\n",
    "from sklearn import preprocessing\n",
    "train = pd.read_csv('input/train.csv')\n",
    "test = pd.read_csv('input/test.csv')\n",
    "#sample_submission = pd.read_csv('input/sample_submission.csv')"
   ]
  },
  {
   "cell_type": "markdown",
   "metadata": {},
   "source": [
    "## Initial Understanding of Datasets\n",
    "Train dataset:\n",
    "* Contains 26,729 entries\n",
    "* 10 columns -- AnimalID, Name, DateTime, OutcomeType, OutcomeSubtype, AnimalType, SexuponOutcome, AgeuponOutcome, Breed and Color\n",
    "\n",
    "Test dataset:\n",
    "* Contains 11,456 entries\n",
    "* Does not include OutcomeType and OutcomeSubtype\n"
   ]
  },
  {
   "cell_type": "code",
   "execution_count": 2,
   "metadata": {},
   "outputs": [
    {
     "data": {
      "text/html": [
       "<div>\n",
       "<style scoped>\n",
       "    .dataframe tbody tr th:only-of-type {\n",
       "        vertical-align: middle;\n",
       "    }\n",
       "\n",
       "    .dataframe tbody tr th {\n",
       "        vertical-align: top;\n",
       "    }\n",
       "\n",
       "    .dataframe thead th {\n",
       "        text-align: right;\n",
       "    }\n",
       "</style>\n",
       "<table border=\"1\" class=\"dataframe\">\n",
       "  <thead>\n",
       "    <tr style=\"text-align: right;\">\n",
       "      <th></th>\n",
       "      <th>AnimalID</th>\n",
       "      <th>Name</th>\n",
       "      <th>DateTime</th>\n",
       "      <th>OutcomeType</th>\n",
       "      <th>OutcomeSubtype</th>\n",
       "      <th>AnimalType</th>\n",
       "      <th>SexuponOutcome</th>\n",
       "      <th>AgeuponOutcome</th>\n",
       "      <th>Breed</th>\n",
       "      <th>Color</th>\n",
       "    </tr>\n",
       "  </thead>\n",
       "  <tbody>\n",
       "    <tr>\n",
       "      <th>count</th>\n",
       "      <td>26729</td>\n",
       "      <td>19038</td>\n",
       "      <td>26729</td>\n",
       "      <td>26729</td>\n",
       "      <td>13117</td>\n",
       "      <td>26729</td>\n",
       "      <td>26728</td>\n",
       "      <td>26711</td>\n",
       "      <td>26729</td>\n",
       "      <td>26729</td>\n",
       "    </tr>\n",
       "    <tr>\n",
       "      <th>unique</th>\n",
       "      <td>26729</td>\n",
       "      <td>6374</td>\n",
       "      <td>22918</td>\n",
       "      <td>5</td>\n",
       "      <td>16</td>\n",
       "      <td>2</td>\n",
       "      <td>5</td>\n",
       "      <td>44</td>\n",
       "      <td>1380</td>\n",
       "      <td>366</td>\n",
       "    </tr>\n",
       "    <tr>\n",
       "      <th>top</th>\n",
       "      <td>A698830</td>\n",
       "      <td>Max</td>\n",
       "      <td>2015-08-11 00:00:00</td>\n",
       "      <td>Adoption</td>\n",
       "      <td>Partner</td>\n",
       "      <td>Dog</td>\n",
       "      <td>Neutered Male</td>\n",
       "      <td>1 year</td>\n",
       "      <td>Domestic Shorthair Mix</td>\n",
       "      <td>Black/White</td>\n",
       "    </tr>\n",
       "    <tr>\n",
       "      <th>freq</th>\n",
       "      <td>1</td>\n",
       "      <td>136</td>\n",
       "      <td>19</td>\n",
       "      <td>10769</td>\n",
       "      <td>7816</td>\n",
       "      <td>15595</td>\n",
       "      <td>9779</td>\n",
       "      <td>3969</td>\n",
       "      <td>8810</td>\n",
       "      <td>2824</td>\n",
       "    </tr>\n",
       "  </tbody>\n",
       "</table>\n",
       "</div>"
      ],
      "text/plain": [
       "       AnimalID   Name             DateTime OutcomeType OutcomeSubtype  \\\n",
       "count     26729  19038                26729       26729          13117   \n",
       "unique    26729   6374                22918           5             16   \n",
       "top     A698830    Max  2015-08-11 00:00:00    Adoption        Partner   \n",
       "freq          1    136                   19       10769           7816   \n",
       "\n",
       "       AnimalType SexuponOutcome AgeuponOutcome                   Breed  \\\n",
       "count       26729          26728          26711                   26729   \n",
       "unique          2              5             44                    1380   \n",
       "top           Dog  Neutered Male         1 year  Domestic Shorthair Mix   \n",
       "freq        15595           9779           3969                    8810   \n",
       "\n",
       "              Color  \n",
       "count         26729  \n",
       "unique          366  \n",
       "top     Black/White  \n",
       "freq           2824  "
      ]
     },
     "execution_count": 2,
     "metadata": {},
     "output_type": "execute_result"
    }
   ],
   "source": [
    "#You can un-comment the necessary lines to gain more insight into the data\n",
    "#train.head()\n",
    "#train.info()\n",
    "train.describe()\n",
    "\n",
    "#test.head()"
   ]
  },
  {
   "cell_type": "code",
   "execution_count": 3,
   "metadata": {},
   "outputs": [],
   "source": [
    "#This prints sample_submission -- not really necessay for our analysis or models but it's a good reference before submitting our final code\n",
    "#sample_submission.head()"
   ]
  },
  {
   "cell_type": "markdown",
   "metadata": {},
   "source": [
    "## Data Exploration & Inital Processing"
   ]
  },
  {
   "cell_type": "markdown",
   "metadata": {},
   "source": [
    "### Dealing with Null Values & Create Variable Groups\n",
    "We see there are nulls in Name, OutcomeSubtype, SexuponOutcome and AgeuponOutcome in the train set. And nulls in Name and AgeuponOutcome in the test set. Through further analysis, I chose not to manuplate the OutcomeSubtype null values because they do not have a high significance in our model."
   ]
  },
  {
   "cell_type": "code",
   "execution_count": 4,
   "metadata": {},
   "outputs": [],
   "source": [
    "#This identifies the number of nulls in the train dataset\n",
    "#train.isnull().sum()"
   ]
  },
  {
   "cell_type": "code",
   "execution_count": 5,
   "metadata": {},
   "outputs": [],
   "source": [
    "#This identifies the number of nulls in the test dataset\n",
    "#test.isnull().sum()"
   ]
  },
  {
   "cell_type": "markdown",
   "metadata": {},
   "source": [
    "#### Name\n",
    "Since there are a significant number of entires with missing names, I chose to keep them in the dataset but replace the nulls with a standard variable \"Unnamed.\" This way, I can see if and to what degree an animal's outcome is dependent on if he/she has a name in the shelter."
   ]
  },
  {
   "cell_type": "code",
   "execution_count": 6,
   "metadata": {},
   "outputs": [],
   "source": [
    "#This replaces the Null Names with the variable \"Unnamed\"\n",
    "train.loc[train.Name.isnull(), \"Name\"]='Unnamed'\n",
    "test.loc[test.Name.isnull(), \"Name\"]='Unnamed'"
   ]
  },
  {
   "cell_type": "code",
   "execution_count": 7,
   "metadata": {},
   "outputs": [],
   "source": [
    "#This looks through Name and creates a new column called NameCategory and encodes whether the animal is \"Named\" or \"Unnamed\"\n",
    "# train['NameCategory'] = train.Name.apply(lambda x: 0 if x == 'Unnamed' else 1)\n",
    "# test['NameCategory'] = test.Name.apply(lambda x: 0 if x == 'Unnamed' else 1)\n",
    "\n",
    "train['NameCategory'] = train.Name.apply(lambda x: 0 if x == 'Unnamed' else 1)\n",
    "test['NameCategory'] = test.Name.apply(lambda x: 0 if x == 'Unnamed' else 1)"
   ]
  },
  {
   "cell_type": "markdown",
   "metadata": {},
   "source": [
    "#### SexuponOutcome\n",
    "I saw there was only 1 missing entry in the train dataset. However, upon further investigation I saw there is a predefined category called \"Unknown,\" so rather than identifiying the highest occuring Sex, I chose to replace the null with \"Unknown.\""
   ]
  },
  {
   "cell_type": "code",
   "execution_count": 8,
   "metadata": {},
   "outputs": [],
   "source": [
    "#Evaluate SexuponOutcome\n",
    "#pd.value_counts(train.SexuponOutcome)\n",
    "#train[train.SexuponOutcome.isnull()] #Used to identify exactly which row was missing SexuponOutcome\n",
    "train.loc[train.SexuponOutcome.isnull(), \"SexuponOutcome\"]='Unknown'\n",
    "test.loc[test.SexuponOutcome.isnull(), \"SexuponOutcome\"]='Unknown'"
   ]
  },
  {
   "cell_type": "code",
   "execution_count": 9,
   "metadata": {},
   "outputs": [],
   "source": [
    "#Extracts whether animal is Female or Male\n",
    "def clean_sex(x):\n",
    "    if 'Female' in x:\n",
    "        return '0'\n",
    "    elif 'Male' in x:\n",
    "        return '1' \n",
    "    else:\n",
    "        return 'Unknown'\n",
    "train['Sex'] = None #creates \"Sex\" column\n",
    "train['Sex'] = train['SexuponOutcome'].apply(clean_sex)\n",
    "\n",
    "test['Sex'] = None #creates \"Sex\" column\n",
    "test['Sex'] = test['SexuponOutcome'].apply(clean_sex)"
   ]
  },
  {
   "cell_type": "code",
   "execution_count": 10,
   "metadata": {},
   "outputs": [],
   "source": [
    "#Extracts if anmial is fixed or not\n",
    "def clean_fixed(x):\n",
    "    if 'Spay' in x:\n",
    "        return 'Fixed'\n",
    "    elif 'Neuter' in x:\n",
    "        return 'Fixed'\n",
    "    elif 'Intact' in x:\n",
    "        return 'Intact'\n",
    "    else:\n",
    "        return 'Unknown'\n",
    "train['FixedIntact'] = None #creates \"IsFixed\" column\n",
    "train['FixedIntact'] = train['SexuponOutcome'].apply(clean_fixed)\n",
    "\n",
    "test['FixedIntact'] = None #creates \"IsFixed\" column\n",
    "test['FixedIntact'] = test['SexuponOutcome'].apply(clean_fixed)"
   ]
  },
  {
   "cell_type": "markdown",
   "metadata": {},
   "source": [
    "#### AgeuponOutcome\n",
    "It appears the values in AgeuponOutcome are in different unites - days, weeks, months, years. It's important to convert them to consistant units to better utilize for analysis. I decided to replace null age with 0."
   ]
  },
  {
   "cell_type": "code",
   "execution_count": 11,
   "metadata": {},
   "outputs": [],
   "source": [
    "#Looks for nulls in AgeuponOutcome and replaces it with \"O days\"\n",
    "train.loc[train.AgeuponOutcome.isnull(), 'AgeuponOutcome'] = '0 days'\n",
    "test.loc[test.AgeuponOutcome.isnull(), 'AgeuponOutcome'] = '0 days'"
   ]
  },
  {
   "cell_type": "code",
   "execution_count": 12,
   "metadata": {},
   "outputs": [],
   "source": [
    "#Scales AgeuponOutcome into standard unit of days\n",
    "def scale_dates(x):\n",
    "    if 'year' in x:\n",
    "        return int(x.split(' ')[0])*365\n",
    "    elif 'month' in x:\n",
    "        return int(x.split(' ')[0])*12\n",
    "    elif 'week' in x:\n",
    "        return int(x.split(' ')[0])*7\n",
    "    elif 'day' in x:\n",
    "        return int(x.split(' ')[0])\n",
    "    else:\n",
    "        0\n",
    "        \n",
    "train['AgeinDays'] = 0 #Creates \"AgeinDays\" column\n",
    "train['AgeinDays']=train['AgeuponOutcome'].apply(scale_dates)\n",
    "\n",
    "test['AgeinDays'] = 0 #Creates \"AgeinDays\" column\n",
    "test['AgeinDays']=test['AgeuponOutcome'].apply(scale_dates)"
   ]
  },
  {
   "cell_type": "code",
   "execution_count": 13,
   "metadata": {},
   "outputs": [],
   "source": [
    "#Groups ages into 4 categories - Baby, Young adult, Adult & Senior\n",
    "def category_age(x):\n",
    "    if x <= 365: #less than or equal to 1 year\n",
    "        return 'Baby'\n",
    "    elif 365 < x <= 1095: #greater than 1 year or equal to 3 years\n",
    "        return 'Young adult' \n",
    "    elif 1095 < x <= 1825: #greater than 3 years or equal to 5 years\n",
    "        return 'Adult'\n",
    "    else: # greater than 5 years\n",
    "        return 'Senior'\n",
    "    \n",
    "train['AgeCategory'] = 0 #creates \"AgeCategory\" column\n",
    "train['AgeCategory'] = train['AgeinDays'].apply(category_age)\n",
    "\n",
    "test['AgeCategory'] = 0 #creates \"AgeCategory\" column\n",
    "test['AgeCategory'] = test['AgeinDays'].apply(category_age)"
   ]
  },
  {
   "cell_type": "markdown",
   "metadata": {},
   "source": [
    "#### Extracting DateTime Values\n",
    "I'm interested to see if there are particular days or times when specific outcomes occur."
   ]
  },
  {
   "cell_type": "code",
   "execution_count": 14,
   "metadata": {},
   "outputs": [],
   "source": [
    "#Extracts Hour, Weekday, Month & Year from DateTime\n",
    "import datetime\n",
    "def transform_date(df):\n",
    "    date = pd.to_datetime(df.DateTime)\n",
    "    df['Hour'] = date.dt.hour\n",
    "    df['WeekDay'] = date.dt.weekday\n",
    "    df['Month'] = date.dt.month\n",
    "    df['Year'] = date.dt.year\n",
    "\n",
    "transform_date(train)\n",
    "transform_date(test)"
   ]
  },
  {
   "cell_type": "code",
   "execution_count": 15,
   "metadata": {},
   "outputs": [],
   "source": [
    "#Categorizes months by seasons\n",
    "def category_season(x):\n",
    "    if x == 12: #December\n",
    "        return 'Winter'\n",
    "    elif 1<= x <= 2: #January, Feburary\n",
    "        return 'Winter'\n",
    "    elif 3 <= x <= 5: #March, April, May\n",
    "        return 'Spring'\n",
    "    elif 6 <= x <= 8: #June, July, August\n",
    "        return 'Summer'\n",
    "    else: #September, October, November\n",
    "        return 'Fall'\n",
    "    \n",
    "train['Season'] = None #Creates Season column\n",
    "train['Season'] = train['Month'].apply(category_season)\n",
    "\n",
    "test['Season'] = None #Creates Season column\n",
    "test['Season'] = test['Month'].apply(category_season)"
   ]
  },
  {
   "cell_type": "markdown",
   "metadata": {},
   "source": [
    "#### Breed\n",
    "For Breed column, I created two columns as indicators on whether the animal is listed as \"Mix\" and has multiple breed names listed, which is indicated by \"/\". I then created two columns Breed1 and Breed2 to list the various breed names. So, if there is only one breed listed, the same breed name will be listed in both columns, while if the animal is multiple breeds (indicated by /) then one breed name will appear in Breed1 and the other in Breed2. I chose to further consolidate breed types by removing the word \"Mix\" from the breed name. For example, now Pit Bull and Pit Bull Mix will be grouped together as Pit Bull."
   ]
  },
  {
   "cell_type": "code",
   "execution_count": 16,
   "metadata": {},
   "outputs": [],
   "source": [
    "#Luckly there are no nulls in Breed, but I included these lines in the off chance there is a null\n",
    "train.loc[train.Breed.isnull(), 'Breed'] = 'Unknown'\n",
    "test.loc[test.Breed.isnull(), 'Breed'] = 'Unknown'"
   ]
  },
  {
   "cell_type": "code",
   "execution_count": 17,
   "metadata": {},
   "outputs": [],
   "source": [
    "#Column indicators\n",
    "train['IsMix'] = train['Breed'].apply(lambda x: 1 if 'Mix' in x else 0) #Creates column indicator if animal is defined as \"Mix\"\n",
    "train['IsMultipleBreeds'] = train['Breed'].apply(lambda x: 1 if '/' in x else 0) #Creates column indicator if animal has two breeds listed\n",
    "\n",
    "test['IsMix'] = test['Breed'].apply(lambda x: 1 if 'Mix' in x else 0) #Creates column indicator if animal is defined as \"Mix\"\n",
    "test['IsMultipleBreeds'] = test['Breed'].apply(lambda x: 1 if '/' in x else 0) #Creates column indicator if animal has two breeds listed"
   ]
  },
  {
   "cell_type": "code",
   "execution_count": 18,
   "metadata": {},
   "outputs": [],
   "source": [
    "# #Creates two columns of breed names\n",
    "# def clean_breed(df):\n",
    "#     breeds = train['Breed'].apply(lambda x: x.split('/')) #splits on the / and creates a list\n",
    "    \n",
    "#     #Following lines removes \"Mix\" from the breed name to consolidate breed types (ie. Pit Bull and Pit Bull Mix are now grouped together)\n",
    "#     #If only one breed listed (ie. no /), the same breed name will be included in Breed1 and Breed2\n",
    "#     #If there are multiple breeds, they'll be different in the two columns\n",
    "#     df['Breed1'] = breeds.apply(lambda x: x[0].replace(' Mix', '')) #Enters first breed name\n",
    "#     df['Breed2'] = breeds.apply(lambda x: x[1] if len(x)>1 else x[0].replace(' Mix', '')) #If multiple breeds enters second breed name, else enters first breed name\n",
    "\n",
    "# train['Breed1'] = None #Creates Breed1 column\n",
    "# train['Breed2'] = None #Creates Breed2 column\n",
    "# clean_breed(train)\n",
    "\n",
    "# test['Breed1'] = None #Creates Breed1 column\n",
    "# test['Breed1'] = None #Creates Breed2 column\n",
    "# clean_breed(test)"
   ]
  },
  {
   "cell_type": "markdown",
   "metadata": {},
   "source": [
    "#### Color\n",
    "For Color, I created a column that identifies if the animal is multiples colors, indicated by \"/\". Additionall I created two columns named Color1 and Color2. If there's only one color listed, I included it in both columns. If there are multiple colors, the first color is in Color1 and the second color is in Color2"
   ]
  },
  {
   "cell_type": "code",
   "execution_count": 19,
   "metadata": {},
   "outputs": [],
   "source": [
    "#Luckly there are no nulls in Color, but I included these lines in the off chance there is a null\n",
    "train.loc[train.Color.isnull(), 'Color'] = 'Unknown'\n",
    "test.loc[test.Color.isnull(), 'Color'] = 'Unknown'"
   ]
  },
  {
   "cell_type": "code",
   "execution_count": 20,
   "metadata": {},
   "outputs": [],
   "source": [
    "#Column indicators\n",
    "train['IsMultipleColors'] = train['Color'].apply(lambda x: 1 if '/' in x else 0) #Creates column indicator if animal has more than one color listed\n",
    "test['IsMultipleColors'] = test['Color'].apply(lambda x: 1 if '/' in x else 0) #Creates column indicator if animal has more than one color listed"
   ]
  },
  {
   "cell_type": "code",
   "execution_count": 21,
   "metadata": {},
   "outputs": [],
   "source": [
    "# def clean_color(df):\n",
    "#     colors = train['Color'].apply(lambda x: x.split('/')) #splits on the / and creates list\n",
    "#     df['Color1'] = colors.apply(lambda x: x[0]) #Enters the first color\n",
    "#     df['Color2'] = colors.apply(lambda x: x[1] if len(x)>1 else x[0]) #If multiple colors enters second color listed, else enters first color again\n",
    "\n",
    "# train['Color1'] = None #Creates Color1 column\n",
    "# train['Color2'] = None #Creates Color2 column\n",
    "# clean_color(train)\n",
    "\n",
    "# test['Color1'] = None #Creates Color1 column\n",
    "# test['Color2'] = None #Creates Color2 column\n",
    "# clean_color(test)"
   ]
  },
  {
   "cell_type": "markdown",
   "metadata": {},
   "source": [
    "## Visualizations"
   ]
  },
  {
   "cell_type": "code",
   "execution_count": 22,
   "metadata": {},
   "outputs": [],
   "source": [
    "import seaborn as sns"
   ]
  },
  {
   "cell_type": "code",
   "execution_count": 23,
   "metadata": {},
   "outputs": [],
   "source": [
    "#animaltype=sns.countplot(y=train.AnimalType)\n",
    "#outcometype=sns.countplot(y=train.OutcomeType)"
   ]
  },
  {
   "cell_type": "markdown",
   "metadata": {},
   "source": [
    "#### AniamlType by OutcomeType\n",
    "Observations:\n",
    "* Both dogs and cats are more likely to be adopted and transferred overall\n",
    "* Very few animals are euthanized or died overall, but dogs are more likely to be euthanized and cats are more likely to die\n",
    "* Dogs are more likely to be adopted and returned to their owners\n",
    "* Cats are more likely to be transferred"
   ]
  },
  {
   "cell_type": "code",
   "execution_count": 24,
   "metadata": {},
   "outputs": [
    {
     "data": {
      "image/png": "[encoded data removed]",
      "text/plain": [
       "<Figure size 432x288 with 1 Axes>"
      ]
     },
     "metadata": {},
     "output_type": "display_data"
    }
   ],
   "source": [
    "animal_outcome=sns.countplot(x=train.AnimalType, hue=train.OutcomeType)"
   ]
  },
  {
   "cell_type": "markdown",
   "metadata": {},
   "source": [
    "#### OutcomeType by SexObservations:\n",
    "* Both sexes are likely to be adopted\n",
    "* Males are slightly more likely to be returned to owners, enuthanized, transfered or die over females"
   ]
  },
  {
   "cell_type": "code",
   "execution_count": 25,
   "metadata": {},
   "outputs": [
    {
     "data": {
      "image/png": "[encoded data removed]",
      "text/plain": [
       "<Figure size 432x288 with 1 Axes>"
      ]
     },
     "metadata": {},
     "output_type": "display_data"
    }
   ],
   "source": [
    "outcome_sex= sns.countplot(x=train.OutcomeType, hue=train.Sex)"
   ]
  },
  {
   "cell_type": "markdown",
   "metadata": {},
   "source": [
    "#### OutcomeType by IsFixed\n",
    "Observations:\n",
    "* Fixed animals are significantly more likely to be adopted and returned to owners\n",
    "* Additionally animals that are returned to their owners are more likely to be fixed since most pet owners neuter or spray their pets\n",
    "* Animals that are still Intact or Unknown are more slightly more likely to be transferred, euthanized or die"
   ]
  },
  {
   "cell_type": "code",
   "execution_count": 26,
   "metadata": {},
   "outputs": [
    {
     "data": {
      "image/png": "[encoded data removed]",
      "text/plain": [
       "<Figure size 432x288 with 1 Axes>"
      ]
     },
     "metadata": {},
     "output_type": "display_data"
    }
   ],
   "source": [
    "outcome_fixed= sns.countplot(x=train.OutcomeType, hue=train.FixedIntact)"
   ]
  },
  {
   "cell_type": "markdown",
   "metadata": {},
   "source": [
    "#### OutcomeType by OutcomeSubtype\n",
    "Although I'm not interested in the OutcomeSubtype for my model, I was curious to see how the various OutcomeSubtypes were distributed by OutcomeType.\n",
    "\n",
    "Observations:\n",
    "* Many adoptions occured through fostering or offsite events\n",
    "* Causes of animal deaths in the shelter occured at the vet, enroute, in foster, in kennel, and in surgery. These animals may have died because they had existing conditions (severly injured/sick) prior to being admitted into the shelter which lead to their death\n",
    "* Euthanaisas occured because an animal was aggressive, had behavioral issues, involved in a court investigation, medical reasons, rabies risk, or were suffering\n",
    "* Transferred animals were sent to a partnered facilities or SCRP, which I believe stands for Stray Cat Return Program"
   ]
  },
  {
   "cell_type": "code",
   "execution_count": 27,
   "metadata": {},
   "outputs": [
    {
     "name": "stdout",
     "output_type": "stream",
     "text": [
      "OutcomeType          Adoption   Died  Euthanasia  Transfer\n",
      "OutcomeSubtype                                            \n",
      "Aggressive                NaN    NaN       320.0       NaN\n",
      "At Vet                    NaN    4.0         NaN       NaN\n",
      "Barn                      1.0    NaN         NaN       1.0\n",
      "Behavior                  NaN    NaN        86.0       NaN\n",
      "Court/Investigation       NaN    NaN         6.0       NaN\n",
      "Enroute                   NaN    8.0         NaN       NaN\n",
      "Foster                 1800.0    NaN         NaN       NaN\n",
      "In Foster                 NaN   52.0         NaN       NaN\n",
      "In Kennel                 NaN  114.0         NaN       NaN\n",
      "In Surgery                NaN    3.0         NaN       NaN\n",
      "Medical                   NaN    NaN        66.0       NaN\n",
      "Offsite                 165.0    NaN         NaN       NaN\n",
      "Partner                   NaN    NaN         NaN    7816.0\n",
      "Rabies Risk               NaN    NaN        74.0       NaN\n",
      "SCRP                      NaN    NaN         NaN    1599.0\n",
      "Suffering                 NaN    NaN      1002.0       NaN\n"
     ]
    }
   ],
   "source": [
    "outcome_subtype = pd.pivot_table(train, values=\"AnimalID\", index=\"OutcomeSubtype\", columns=\"OutcomeType\", aggfunc=\"count\")\n",
    "print(outcome_subtype)"
   ]
  },
  {
   "cell_type": "markdown",
   "metadata": {},
   "source": [
    "#### AgeCategory by AnimalType\n",
    "Observations:\n",
    "* There are significantly more baby dogs and cats in the shelter overall\n",
    "* There are more young adult, adult and senior dogs in comparison to cats"
   ]
  },
  {
   "cell_type": "code",
   "execution_count": 28,
   "metadata": {},
   "outputs": [
    {
     "data": {
      "image/png": "[encoded data removed]",
      "text/plain": [
       "<Figure size 432x288 with 1 Axes>"
      ]
     },
     "metadata": {},
     "output_type": "display_data"
    }
   ],
   "source": [
    "animal_age = sns.countplot(x=\"AgeCategory\", hue=\"AnimalType\", data=train)"
   ]
  },
  {
   "cell_type": "code",
   "execution_count": 29,
   "metadata": {},
   "outputs": [
    {
     "name": "stdout",
     "output_type": "stream",
     "text": [
      "OutcomeType          Adoption   Died  Euthanasia  Transfer\n",
      "OutcomeSubtype                                            \n",
      "Aggressive                NaN    NaN       320.0       NaN\n",
      "At Vet                    NaN    4.0         NaN       NaN\n",
      "Barn                      1.0    NaN         NaN       1.0\n",
      "Behavior                  NaN    NaN        86.0       NaN\n",
      "Court/Investigation       NaN    NaN         6.0       NaN\n",
      "Enroute                   NaN    8.0         NaN       NaN\n",
      "Foster                 1800.0    NaN         NaN       NaN\n",
      "In Foster                 NaN   52.0         NaN       NaN\n",
      "In Kennel                 NaN  114.0         NaN       NaN\n",
      "In Surgery                NaN    3.0         NaN       NaN\n",
      "Medical                   NaN    NaN        66.0       NaN\n",
      "Offsite                 165.0    NaN         NaN       NaN\n",
      "Partner                   NaN    NaN         NaN    7816.0\n",
      "Rabies Risk               NaN    NaN        74.0       NaN\n",
      "SCRP                      NaN    NaN         NaN    1599.0\n",
      "Suffering                 NaN    NaN      1002.0       NaN\n"
     ]
    }
   ],
   "source": [
    "outcome_subtype = pd.pivot_table(train, values=\"AnimalID\", index=\"OutcomeSubtype\", columns=\"OutcomeType\", aggfunc=\"count\")\n",
    "print(outcome_subtype)"
   ]
  },
  {
   "cell_type": "markdown",
   "metadata": {},
   "source": [
    "#### AgeCategory by OutcomeType\n",
    "Observations:\n",
    "* Baby animals are more likely to be adopted and transfered overall\n",
    "* Senior animals are more likely to be returned to their owners\n",
    "* Baby, young and senior animals are euthanised more often than adult animals\n",
    "* Baby animals are more likely to die than other ages"
   ]
  },
  {
   "cell_type": "code",
   "execution_count": 30,
   "metadata": {},
   "outputs": [
    {
     "data": {
      "image/png": "[encoded data removed]",
      "text/plain": [
       "<Figure size 432x288 with 1 Axes>"
      ]
     },
     "metadata": {},
     "output_type": "display_data"
    }
   ],
   "source": [
    "outcome_age = sns.countplot(x=\"AgeCategory\", hue=\"OutcomeType\", data=train)"
   ]
  },
  {
   "cell_type": "markdown",
   "metadata": {},
   "source": [
    "#### OutcomeType by Season\n",
    "Observations:\n",
    "* Animals are more likely to adopted in Winter, Fall and Summer\n",
    "* Not as many animals are adopted during the Spring\n",
    "* More animals are transferred in the Fall and Summer compared to the other two seasons\n",
    "* More animals are retued to their owners in the Winter and Fall compared to the other two seasons\n",
    "* More dogs are adopted in the Winter than any other season\n",
    "* More cats are adopted in the Summer than any other season"
   ]
  },
  {
   "cell_type": "code",
   "execution_count": 31,
   "metadata": {},
   "outputs": [
    {
     "data": {
      "image/png": "[encoded data removed]",
      "text/plain": [
       "<Figure size 432x288 with 1 Axes>"
      ]
     },
     "metadata": {},
     "output_type": "display_data"
    }
   ],
   "source": [
    "outcome_season = sns.countplot(x=\"OutcomeType\", hue=\"Season\", data=train)"
   ]
  },
  {
   "cell_type": "code",
   "execution_count": 32,
   "metadata": {},
   "outputs": [
    {
     "name": "stdout",
     "output_type": "stream",
     "text": [
      "Season                      Fall  Spring  Summer  Winter\n",
      "AnimalType OutcomeType                                  \n",
      "Cat        Adoption         1273     443    1481    1075\n",
      "           Died               48      22      60      17\n",
      "           Euthanasia        184     145     230     151\n",
      "           Return_to_owner   139     102     118     141\n",
      "           Transfer         1620    1240    1778     867\n",
      "Dog        Adoption         1689    1314    1455    2039\n",
      "           Died                8      14      13      15\n",
      "           Euthanasia        239     194     187     225\n",
      "           Return_to_owner  1176     980     829    1301\n",
      "           Transfer         1177     827     846    1067\n"
     ]
    }
   ],
   "source": [
    "outcome_seasons = pd.pivot_table(train, values=\"AnimalID\", index=[\"AnimalType\", \"OutcomeType\"], columns=\"Season\",  aggfunc=\"count\")\n",
    "print(outcome_seasons)"
   ]
  },
  {
   "cell_type": "markdown",
   "metadata": {},
   "source": [
    "**** Overall Conclusions ****\n",
    "\n",
    "* People want dogs\n",
    "* People want baby animals\n",
    "* Majority of animals are euthanized because they are suffering or have medical conditions (medical/rabies) over having behavioral issues (aggressive, behavior & court)"
   ]
  },
  {
   "cell_type": "markdown",
   "metadata": {},
   "source": [
    "# Modeling\n",
    "* Create Dummy variables\n",
    "* Split datasets for cross validation\n",
    "* Perform various modeling techniques"
   ]
  },
  {
   "cell_type": "code",
   "execution_count": 33,
   "metadata": {},
   "outputs": [],
   "source": [
    "from sklearn.preprocessing import LabelEncoder\n",
    "from sklearn.metrics import accuracy_score\n",
    "from sklearn import metrics\n",
    "encode = LabelEncoder()\n",
    "#train.loc[:,'OutcomeType'] = encode.fit_transform(train['OutcomeType'])\n",
    "\n",
    "#Drop some colums that won't be modeled. \n",
    "train_min = train.drop(['AnimalID', 'Name', 'DateTime', 'OutcomeSubtype', 'AgeuponOutcome', 'SexuponOutcome', 'Breed', 'Color'], axis = 1)\n",
    "test_min= test.drop(['ID', 'Name', 'DateTime', 'AgeuponOutcome', 'SexuponOutcome', 'Breed', 'Color'], axis = 1)\n",
    "\n",
    "#Create Naive Models\n",
    "train_min['PredAllAdopted'] = 'Adoption'\n",
    "test_min['PredAllAdopted'] = 'Adoption' \n",
    "\n",
    "# #Get 500 rows just to test models\n",
    "# train_min = train_min[:5000]\n",
    "# test_min = test_min[:5000]"
   ]
  },
  {
   "cell_type": "code",
   "execution_count": 34,
   "metadata": {},
   "outputs": [],
   "source": [
    "#Adding .values will make whatever comes out into a numpy array.\n",
    "X_train = train_min.iloc[:, 1:19]\n",
    "Y_train = train_min.iloc[:, 0]\n",
    "X_test = test_min.iloc[:, 0:18]"
   ]
  },
  {
   "cell_type": "code",
   "execution_count": 35,
   "metadata": {},
   "outputs": [
    {
     "name": "stdout",
     "output_type": "stream",
     "text": [
      "(26729, 25) (11456, 25)\n"
     ]
    }
   ],
   "source": [
    "features = train_min[['AnimalType', 'NameCategory', 'Sex', 'FixedIntact', 'AgeinDays',\n",
    "       'AgeCategory', 'Hour', 'WeekDay', 'Month', 'Year', 'Season', 'IsMix',\n",
    "       'IsMultipleBreeds', 'IsMultipleColors']]\n",
    "X_train=pd.get_dummies(features)\n",
    "\n",
    "features = test_min[['AnimalType', 'NameCategory', 'Sex', 'FixedIntact', 'AgeinDays',\n",
    "       'AgeCategory', 'Hour', 'WeekDay', 'Month', 'Year', 'Season', 'IsMix',\n",
    "       'IsMultipleBreeds', 'IsMultipleColors']]\n",
    "\n",
    "X_test=pd.get_dummies(features)\n",
    "X_train.head()\n",
    "print(X_train.shape, X_test.shape)"
   ]
  },
  {
   "cell_type": "code",
   "execution_count": 36,
   "metadata": {},
   "outputs": [],
   "source": [
    "#Split train and test sets\n",
    "from sklearn.model_selection import train_test_split\n",
    "x_train, x_test, y_train, y_test = train_test_split(X_train, Y_train, test_size = 0.2)"
   ]
  },
  {
   "cell_type": "markdown",
   "metadata": {},
   "source": [
    "# Random Forest Model\n",
    "\n",
    "Code taken from Ro's XGBClassifier and RandomForest in Python Kaggle submission"
   ]
  },
  {
   "cell_type": "code",
   "execution_count": 37,
   "metadata": {},
   "outputs": [
    {
     "name": "stderr",
     "output_type": "stream",
     "text": [
      "/opt/conda/lib/python3.6/site-packages/sklearn/ensemble/weight_boosting.py:29: DeprecationWarning: numpy.core.umath_tests is an internal NumPy module and should not be imported. It will be removed in a future NumPy release.\n",
      "  from numpy.core.umath_tests import inner1d\n"
     ]
    },
    {
     "name": "stdout",
     "output_type": "stream",
     "text": [
      "{'max_features': 'auto', 'n_estimators': 400}\n"
     ]
    }
   ],
   "source": [
    "from sklearn.ensemble import RandomForestClassifier\n",
    "from sklearn.model_selection import GridSearchCV\n",
    "#Choose best parameters for randomforest\n",
    "def best_params(x_train, y_train):\n",
    "    rfc = RandomForestClassifier()\n",
    "    param_grid = { \n",
    "        'n_estimators': [50, 400],\n",
    "        'max_features': ['auto', 'sqrt', 'log2']\n",
    "    }\n",
    "    \n",
    "    CV_rfc = GridSearchCV(estimator=rfc, param_grid=param_grid, cv= 5)\n",
    "    CV_rfc.fit(x_train, y_train)\n",
    "    return CV_rfc.best_params_\n",
    "\n",
    "print(best_params(x_train, y_train))\n",
    "#Returned max_features: auto and n_estimators: 400"
   ]
  },
  {
   "cell_type": "code",
   "execution_count": 38,
   "metadata": {},
   "outputs": [
    {
     "name": "stdout",
     "output_type": "stream",
     "text": [
      "Cross Validation for RandomForestClassifier\n",
      "0.6597456041900487\n"
     ]
    },
    {
     "data": {
      "text/html": [
       "<div>\n",
       "<style scoped>\n",
       "    .dataframe tbody tr th:only-of-type {\n",
       "        vertical-align: middle;\n",
       "    }\n",
       "\n",
       "    .dataframe tbody tr th {\n",
       "        vertical-align: top;\n",
       "    }\n",
       "\n",
       "    .dataframe thead th {\n",
       "        text-align: right;\n",
       "    }\n",
       "</style>\n",
       "<table border=\"1\" class=\"dataframe\">\n",
       "  <thead>\n",
       "    <tr style=\"text-align: right;\">\n",
       "      <th></th>\n",
       "      <th>ID</th>\n",
       "      <th>Adoption</th>\n",
       "      <th>Died</th>\n",
       "      <th>Euthanasia</th>\n",
       "      <th>Return_to_owner</th>\n",
       "      <th>Transfer</th>\n",
       "    </tr>\n",
       "  </thead>\n",
       "  <tbody>\n",
       "    <tr>\n",
       "      <th>0</th>\n",
       "      <td>1</td>\n",
       "      <td>0.32750</td>\n",
       "      <td>0.0050</td>\n",
       "      <td>0.0300</td>\n",
       "      <td>0.39750</td>\n",
       "      <td>0.2400</td>\n",
       "    </tr>\n",
       "    <tr>\n",
       "      <th>1</th>\n",
       "      <td>2</td>\n",
       "      <td>0.00000</td>\n",
       "      <td>0.0000</td>\n",
       "      <td>0.2700</td>\n",
       "      <td>0.47750</td>\n",
       "      <td>0.2525</td>\n",
       "    </tr>\n",
       "    <tr>\n",
       "      <th>2</th>\n",
       "      <td>3</td>\n",
       "      <td>0.00000</td>\n",
       "      <td>0.0225</td>\n",
       "      <td>0.3300</td>\n",
       "      <td>0.00000</td>\n",
       "      <td>0.6475</td>\n",
       "    </tr>\n",
       "    <tr>\n",
       "      <th>3</th>\n",
       "      <td>4</td>\n",
       "      <td>0.01500</td>\n",
       "      <td>0.4905</td>\n",
       "      <td>0.0075</td>\n",
       "      <td>0.00000</td>\n",
       "      <td>0.4870</td>\n",
       "    </tr>\n",
       "    <tr>\n",
       "      <th>4</th>\n",
       "      <td>5</td>\n",
       "      <td>0.54625</td>\n",
       "      <td>0.0000</td>\n",
       "      <td>0.0000</td>\n",
       "      <td>0.37875</td>\n",
       "      <td>0.0750</td>\n",
       "    </tr>\n",
       "  </tbody>\n",
       "</table>\n",
       "</div>"
      ],
      "text/plain": [
       "   ID  Adoption    Died  Euthanasia  Return_to_owner  Transfer\n",
       "0   1   0.32750  0.0050      0.0300          0.39750    0.2400\n",
       "1   2   0.00000  0.0000      0.2700          0.47750    0.2525\n",
       "2   3   0.00000  0.0225      0.3300          0.00000    0.6475\n",
       "3   4   0.01500  0.4905      0.0075          0.00000    0.4870\n",
       "4   5   0.54625  0.0000      0.0000          0.37875    0.0750"
      ]
     },
     "execution_count": 38,
     "metadata": {},
     "output_type": "execute_result"
    }
   ],
   "source": [
    "# RandomForest Classifier \n",
    "\n",
    "rf = RandomForestClassifier(n_estimators=400, max_features='auto').fit(x_train, y_train)\n",
    "print('Cross Validation for RandomForestClassifier')\n",
    "print(rf.score(x_test, y_test))\n",
    "\n",
    "prediction = pd.DataFrame(rf.predict_proba(x_test))\n",
    "prediction.columns = ['Adoption', 'Died', 'Euthanasia', 'Return_to_owner', 'Transfer']\n",
    "prediction = pd.concat([test['ID'], prediction], axis=1)\n",
    "prediction.to_csv('randomforest.csv', index=False)\n",
    "\n",
    "#Public LeaderBoard Score - 0.81316\n",
    "prediction.head()"
   ]
  },
  {
   "cell_type": "code",
   "execution_count": 39,
   "metadata": {},
   "outputs": [],
   "source": [
    "# Simple XGBClassifier. \n",
    "# For better results we need to fine tune the parameters\n",
    "\n",
    "# xgboost = XGBClassifier(learning_rate =0.05,\n",
    "#  n_estimators=500,\n",
    "#  max_depth=5,\n",
    "#  min_child_weight=1,\n",
    "#  gamma=0,\n",
    "#  subsample=0.8,\n",
    "#  colsample_bytree=0.8,\n",
    "#  objective= 'multi:softprob',\n",
    "#  nthread=4,\n",
    "#  scale_pos_weight=1,\n",
    "#  seed=27)\n",
    "# xgb = xgboost.fit(x_train, y_train)\n",
    "\n",
    "# print('Cross Validation for XGBClassifier')\n",
    "# print(xgb.score(x_test, y_test))\n",
    "\n",
    "# prediction = pd.DataFrame(xgb.predict_proba(x_test))\n",
    "# prediction.columns = ['Adoption', 'Died', 'Euthanasia', 'Return_to_owner', 'Transfer']\n",
    "# prediction = pd.concat([test['ID'], prediction], axis=1)\n",
    "# prediction.to_csv('xgbclassifier.csv', index=False)\n",
    "\n",
    "# #Public LeaderBoard Score - 0.74264\n",
    "# prediction.head()"
   ]
  },
  {
   "cell_type": "markdown",
   "metadata": {},
   "source": [
    "# Decision Tree Model"
   ]
  },
  {
   "cell_type": "code",
   "execution_count": 40,
   "metadata": {},
   "outputs": [],
   "source": [
    "from sklearn.metrics import confusion_matrix, classification_report\n",
    "from sklearn.tree import DecisionTreeClassifier, export_graphviz\n",
    "dt = DecisionTreeClassifier(max_depth=20)"
   ]
  },
  {
   "cell_type": "code",
   "execution_count": 41,
   "metadata": {},
   "outputs": [],
   "source": [
    "dt = dt.fit(x_train, y_train)"
   ]
  },
  {
   "cell_type": "code",
   "execution_count": 42,
   "metadata": {},
   "outputs": [],
   "source": [
    "pred_x = dt.predict(x_train)   #This creates the prediction.\n",
    "pred_y = dt.predict(x_test)"
   ]
  },
  {
   "cell_type": "code",
   "execution_count": 43,
   "metadata": {},
   "outputs": [
    {
     "name": "stdout",
     "output_type": "stream",
     "text": [
      "Decision Tree Train Accuracy 0.9568816349436469\n",
      "Decision Tree Test Accuracy 0.6086793864571642\n"
     ]
    }
   ],
   "source": [
    "#Accuracy\n",
    "print('Decision Tree Train Accuracy', accuracy_score(y_true=y_train, y_pred=dt.predict(x_train)))\n",
    "print('Decision Tree Test Accuracy', accuracy_score(y_true=y_test, y_pred=dt.predict(x_test)))"
   ]
  },
  {
   "cell_type": "markdown",
   "metadata": {},
   "source": [
    "# Nearest Neighbor Model"
   ]
  },
  {
   "cell_type": "code",
   "execution_count": 44,
   "metadata": {},
   "outputs": [],
   "source": [
    "from sklearn import metrics\n",
    "import numpy as np\n",
    "from sklearn.neighbors import KNeighborsClassifier\n",
    "NN = KNeighborsClassifier()  #This creates a model object."
   ]
  },
  {
   "cell_type": "code",
   "execution_count": 45,
   "metadata": {},
   "outputs": [],
   "source": [
    "NN = NN.fit(x_train, y_train)   #This fits the model object to the data."
   ]
  },
  {
   "cell_type": "code",
   "execution_count": 46,
   "metadata": {},
   "outputs": [],
   "source": [
    "pred_x = NN.predict(x_train)   #This creates the prediction.\n",
    "pred_y = NN.predict(x_test)"
   ]
  },
  {
   "cell_type": "code",
   "execution_count": 47,
   "metadata": {},
   "outputs": [
    {
     "name": "stdout",
     "output_type": "stream",
     "text": [
      "KNN Train Accuracy: 0.7237057475564701\n",
      "KNN Test Accuracy: 0.6137298915076693\n"
     ]
    }
   ],
   "source": [
    "#This calculates the accuracy.\n",
    "knn_train1_y_acc=metrics.accuracy_score(y_train, pred_x)\n",
    "knn_test1_y_acc=metrics.accuracy_score(y_test, pred_y)\n",
    "print('KNN Train Accuracy:', knn_train1_y_acc)\n",
    "print('KNN Test Accuracy:', knn_test1_y_acc)"
   ]
  },
  {
   "cell_type": "markdown",
   "metadata": {},
   "source": [
    "# Logistic Regression Model"
   ]
  },
  {
   "cell_type": "code",
   "execution_count": 48,
   "metadata": {},
   "outputs": [],
   "source": [
    "from sklearn.linear_model import LogisticRegression\n",
    "logreg = LogisticRegression(C=1.0, penalty = 'l1') "
   ]
  },
  {
   "cell_type": "code",
   "execution_count": 49,
   "metadata": {},
   "outputs": [
    {
     "data": {
      "text/plain": [
       "LogisticRegression(C=1.0, class_weight=None, dual=False, fit_intercept=True,\n",
       "          intercept_scaling=1, max_iter=100, multi_class='ovr', n_jobs=1,\n",
       "          penalty='l1', random_state=None, solver='liblinear', tol=0.0001,\n",
       "          verbose=0, warm_start=False)"
      ]
     },
     "execution_count": 49,
     "metadata": {},
     "output_type": "execute_result"
    }
   ],
   "source": [
    "logreg.fit(x_train, y_train)"
   ]
  },
  {
   "cell_type": "code",
   "execution_count": 50,
   "metadata": {},
   "outputs": [],
   "source": [
    "pred_x = logreg.predict(x_train)\n",
    "pred_y = logreg.predict(x_test)"
   ]
  },
  {
   "cell_type": "code",
   "execution_count": 51,
   "metadata": {},
   "outputs": [
    {
     "name": "stdout",
     "output_type": "stream",
     "text": [
      "LRegression train accuracy: 0.6517794509657204\n",
      "LRegression test accuracy: 0.6421623643845866\n"
     ]
    }
   ],
   "source": [
    "acc_logreg_train = metrics.accuracy_score(pred_x, y_train)\n",
    "print('LRegression train accuracy:', acc_logreg_train)\n",
    "\n",
    "acc_logreg_test = metrics.accuracy_score(pred_y, y_test)\n",
    "print('LRegression test accuracy:', acc_logreg_test)"
   ]
  },
  {
   "cell_type": "markdown",
   "metadata": {},
   "source": [
    "# Support Vector Machines"
   ]
  },
  {
   "cell_type": "code",
   "execution_count": 52,
   "metadata": {},
   "outputs": [],
   "source": [
    "# Import Support Vector Machine and train with max iteration\n",
    "from sklearn.svm import SVC\n",
    "svc = SVC(kernel='linear', max_iter=10)\n"
   ]
  },
  {
   "cell_type": "code",
   "execution_count": 53,
   "metadata": {},
   "outputs": [
    {
     "name": "stderr",
     "output_type": "stream",
     "text": [
      "/opt/conda/lib/python3.6/site-packages/sklearn/svm/base.py:218: ConvergenceWarning: Solver terminated early (max_iter=10).  Consider pre-processing your data with StandardScaler or MinMaxScaler.\n",
      "  % self.max_iter, ConvergenceWarning)\n"
     ]
    },
    {
     "data": {
      "text/plain": [
       "SVC(C=1.0, cache_size=200, class_weight=None, coef0=0.0,\n",
       "  decision_function_shape='ovr', degree=3, gamma='auto', kernel='linear',\n",
       "  max_iter=10, probability=False, random_state=None, shrinking=True,\n",
       "  tol=0.001, verbose=False)"
      ]
     },
     "execution_count": 53,
     "metadata": {},
     "output_type": "execute_result"
    }
   ],
   "source": [
    "svc.fit(x_train, y_train)"
   ]
  },
  {
   "cell_type": "code",
   "execution_count": 54,
   "metadata": {},
   "outputs": [],
   "source": [
    "pred_x = svc.predict(x_train)\n",
    "pred_y = svc.predict(x_test)"
   ]
  },
  {
   "cell_type": "code",
   "execution_count": 55,
   "metadata": {},
   "outputs": [
    {
     "name": "stdout",
     "output_type": "stream",
     "text": [
      "SVM train accuracy: 0.15690034139269513\n",
      "SVM test accuracy: 0.1629255518144407\n"
     ]
    }
   ],
   "source": [
    "acc_svc_train = metrics.accuracy_score(pred_x, y_train)\n",
    "print('SVM train accuracy:', acc_svc_train)\n",
    "\n",
    "acc_svc_test = metrics.accuracy_score(pred_y, y_test)\n",
    "print('SVM test accuracy:', acc_svc_test)"
   ]
  },
  {
   "cell_type": "markdown",
   "metadata": {},
   "source": [
    "# Gradient Boosting Model"
   ]
  },
  {
   "cell_type": "code",
   "execution_count": 56,
   "metadata": {},
   "outputs": [
    {
     "name": "stdout",
     "output_type": "stream",
     "text": [
      "Collecting xgboost\n",
      "  Using cached https://files.pythonhosted.org/packages/54/21/8b2ec99862903a6d3aed62ce156d21d114b8666e669c46d9e54041df9496/xgboost-0.81-py2.py3-none-manylinux1_x86_64.whl\n",
      "Requirement already satisfied: numpy in /opt/conda/lib/python3.6/site-packages (from xgboost) (1.15.3)\n",
      "Requirement already satisfied: scipy in /opt/conda/lib/python3.6/site-packages (from xgboost) (1.1.0)\n",
      "Installing collected packages: xgboost\n",
      "Successfully installed xgboost-0.81\n"
     ]
    }
   ],
   "source": [
    "!pip install xgboost"
   ]
  },
  {
   "cell_type": "code",
   "execution_count": 57,
   "metadata": {},
   "outputs": [],
   "source": [
    "from sklearn.ensemble import GradientBoostingClassifier\n",
    "from sklearn.metrics import log_loss\n",
    "\n",
    "gbm = GradientBoostingClassifier(n_estimators=100,random_state=10)"
   ]
  },
  {
   "cell_type": "code",
   "execution_count": 58,
   "metadata": {},
   "outputs": [],
   "source": [
    "gbm = gbm.fit(x_train,y_train)"
   ]
  },
  {
   "cell_type": "code",
   "execution_count": 59,
   "metadata": {},
   "outputs": [],
   "source": [
    "pred_x = gbm.predict(x_train)\n",
    "pred_y = gbm.predict(x_test)"
   ]
  },
  {
   "cell_type": "code",
   "execution_count": 60,
   "metadata": {},
   "outputs": [
    {
     "ename": "ValueError",
     "evalue": "could not convert string to float: 'Transfer'",
     "output_type": "error",
     "traceback": [
      "\u001b[0;31m---------------------------------------------------------------------------\u001b[0m",
      "\u001b[0;31mValueError\u001b[0m                                Traceback (most recent call last)",
      "\u001b[0;32m<ipython-input-60-efca13b616ab>\u001b[0m in \u001b[0;36m<module>\u001b[0;34m()\u001b[0m\n\u001b[0;32m----> 1\u001b[0;31m \u001b[0mprint\u001b[0m\u001b[0;34m(\u001b[0m\u001b[0mlog_loss\u001b[0m\u001b[0;34m(\u001b[0m\u001b[0my_train\u001b[0m\u001b[0;34m,\u001b[0m \u001b[0mpred_x\u001b[0m\u001b[0;34m)\u001b[0m\u001b[0;34m)\u001b[0m\u001b[0;34m\u001b[0m\u001b[0m\n\u001b[0m",
      "\u001b[0;32m/opt/conda/lib/python3.6/site-packages/sklearn/metrics/classification.py\u001b[0m in \u001b[0;36mlog_loss\u001b[0;34m(y_true, y_pred, eps, normalize, sample_weight, labels)\u001b[0m\n\u001b[1;32m   1638\u001b[0m     \u001b[0mThe\u001b[0m \u001b[0mlogarithm\u001b[0m \u001b[0mused\u001b[0m \u001b[0;32mis\u001b[0m \u001b[0mthe\u001b[0m \u001b[0mnatural\u001b[0m \u001b[0mlogarithm\u001b[0m \u001b[0;34m(\u001b[0m\u001b[0mbase\u001b[0m\u001b[0;34m-\u001b[0m\u001b[0me\u001b[0m\u001b[0;34m)\u001b[0m\u001b[0;34m.\u001b[0m\u001b[0;34m\u001b[0m\u001b[0m\n\u001b[1;32m   1639\u001b[0m     \"\"\"\n\u001b[0;32m-> 1640\u001b[0;31m     \u001b[0my_pred\u001b[0m \u001b[0;34m=\u001b[0m \u001b[0mcheck_array\u001b[0m\u001b[0;34m(\u001b[0m\u001b[0my_pred\u001b[0m\u001b[0;34m,\u001b[0m \u001b[0mensure_2d\u001b[0m\u001b[0;34m=\u001b[0m\u001b[0;32mFalse\u001b[0m\u001b[0;34m)\u001b[0m\u001b[0;34m\u001b[0m\u001b[0m\n\u001b[0m\u001b[1;32m   1641\u001b[0m     \u001b[0mcheck_consistent_length\u001b[0m\u001b[0;34m(\u001b[0m\u001b[0my_pred\u001b[0m\u001b[0;34m,\u001b[0m \u001b[0my_true\u001b[0m\u001b[0;34m)\u001b[0m\u001b[0;34m\u001b[0m\u001b[0m\n\u001b[1;32m   1642\u001b[0m \u001b[0;34m\u001b[0m\u001b[0m\n",
      "\u001b[0;32m/opt/conda/lib/python3.6/site-packages/sklearn/utils/validation.py\u001b[0m in \u001b[0;36mcheck_array\u001b[0;34m(array, accept_sparse, dtype, order, copy, force_all_finite, ensure_2d, allow_nd, ensure_min_samples, ensure_min_features, warn_on_dtype, estimator)\u001b[0m\n\u001b[1;32m    431\u001b[0m                                       force_all_finite)\n\u001b[1;32m    432\u001b[0m     \u001b[0;32melse\u001b[0m\u001b[0;34m:\u001b[0m\u001b[0;34m\u001b[0m\u001b[0m\n\u001b[0;32m--> 433\u001b[0;31m         \u001b[0marray\u001b[0m \u001b[0;34m=\u001b[0m \u001b[0mnp\u001b[0m\u001b[0;34m.\u001b[0m\u001b[0marray\u001b[0m\u001b[0;34m(\u001b[0m\u001b[0marray\u001b[0m\u001b[0;34m,\u001b[0m \u001b[0mdtype\u001b[0m\u001b[0;34m=\u001b[0m\u001b[0mdtype\u001b[0m\u001b[0;34m,\u001b[0m \u001b[0morder\u001b[0m\u001b[0;34m=\u001b[0m\u001b[0morder\u001b[0m\u001b[0;34m,\u001b[0m \u001b[0mcopy\u001b[0m\u001b[0;34m=\u001b[0m\u001b[0mcopy\u001b[0m\u001b[0;34m)\u001b[0m\u001b[0;34m\u001b[0m\u001b[0m\n\u001b[0m\u001b[1;32m    434\u001b[0m \u001b[0;34m\u001b[0m\u001b[0m\n\u001b[1;32m    435\u001b[0m         \u001b[0;32mif\u001b[0m \u001b[0mensure_2d\u001b[0m\u001b[0;34m:\u001b[0m\u001b[0;34m\u001b[0m\u001b[0m\n",
      "\u001b[0;31mValueError\u001b[0m: could not convert string to float: 'Transfer'"
     ]
    }
   ],
   "source": [
    "print(log_loss(y_train, pred_x))"
   ]
  }
 ],
 "metadata": {
  "kernelspec": {
   "display_name": "Python 3",
   "language": "python",
   "name": "python3"
  },
  "language_info": {
   "codemirror_mode": {
    "name": "ipython",
    "version": 3
   },
   "file_extension": ".py",
   "mimetype": "text/x-python",
   "name": "python",
   "nbconvert_exporter": "python",
   "pygments_lexer": "ipython3",
   "version": "3.6.6"
  }
 },
 "nbformat": 4,
 "nbformat_minor": 2
}
